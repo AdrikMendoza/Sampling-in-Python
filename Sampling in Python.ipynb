{
 "cells": [
  {
   "cell_type": "markdown",
   "id": "dfc0647f",
   "metadata": {},
   "source": [
    "# 1. Bias Any Stretch of the Imagination\n",
    "## Sampling context\n",
    "\n",
    "> **Polulation**: It is the complete dataset."
   ]
  },
  {
   "cell_type": "code",
   "execution_count": 1,
   "id": "fd7f7e43",
   "metadata": {
    "scrolled": true
   },
   "outputs": [
    {
     "data": {
      "text/html": [
       "<div>\n",
       "<style scoped>\n",
       "    .dataframe tbody tr th:only-of-type {\n",
       "        vertical-align: middle;\n",
       "    }\n",
       "\n",
       "    .dataframe tbody tr th {\n",
       "        vertical-align: top;\n",
       "    }\n",
       "\n",
       "    .dataframe thead th {\n",
       "        text-align: right;\n",
       "    }\n",
       "</style>\n",
       "<table border=\"1\" class=\"dataframe\">\n",
       "  <thead>\n",
       "    <tr style=\"text-align: right;\">\n",
       "      <th></th>\n",
       "      <th>acousticness</th>\n",
       "      <th>artists</th>\n",
       "      <th>danceability</th>\n",
       "      <th>duration_ms</th>\n",
       "      <th>duration_minutes</th>\n",
       "      <th>energy</th>\n",
       "      <th>explicit</th>\n",
       "      <th>id</th>\n",
       "      <th>instrumentalness</th>\n",
       "      <th>key</th>\n",
       "      <th>liveness</th>\n",
       "      <th>loudness</th>\n",
       "      <th>mode</th>\n",
       "      <th>name</th>\n",
       "      <th>popularity</th>\n",
       "      <th>release_date</th>\n",
       "      <th>speechiness</th>\n",
       "      <th>tempo</th>\n",
       "      <th>valence</th>\n",
       "      <th>year</th>\n",
       "    </tr>\n",
       "  </thead>\n",
       "  <tbody>\n",
       "    <tr>\n",
       "      <th>0</th>\n",
       "      <td>0.97200</td>\n",
       "      <td>['David Bauer']</td>\n",
       "      <td>0.567</td>\n",
       "      <td>313293.0</td>\n",
       "      <td>5.221550</td>\n",
       "      <td>0.227</td>\n",
       "      <td>0.0</td>\n",
       "      <td>0w0D8H1ubRerCXHWYJkinO</td>\n",
       "      <td>0.601000</td>\n",
       "      <td>10.0</td>\n",
       "      <td>0.110</td>\n",
       "      <td>-13.441</td>\n",
       "      <td>1.0</td>\n",
       "      <td>Shout to the Lord</td>\n",
       "      <td>47.0</td>\n",
       "      <td>2000</td>\n",
       "      <td>0.0290</td>\n",
       "      <td>136.123</td>\n",
       "      <td>0.0396</td>\n",
       "      <td>2000.0</td>\n",
       "    </tr>\n",
       "    <tr>\n",
       "      <th>1</th>\n",
       "      <td>0.32100</td>\n",
       "      <td>['Etta James']</td>\n",
       "      <td>0.821</td>\n",
       "      <td>360240.0</td>\n",
       "      <td>6.004000</td>\n",
       "      <td>0.418</td>\n",
       "      <td>0.0</td>\n",
       "      <td>4JVeqfE2tpi7Pv63LJZtPh</td>\n",
       "      <td>0.000372</td>\n",
       "      <td>9.0</td>\n",
       "      <td>0.222</td>\n",
       "      <td>-9.841</td>\n",
       "      <td>0.0</td>\n",
       "      <td>Miss You</td>\n",
       "      <td>51.0</td>\n",
       "      <td>2000-12-12</td>\n",
       "      <td>0.0407</td>\n",
       "      <td>117.382</td>\n",
       "      <td>0.8030</td>\n",
       "      <td>2000.0</td>\n",
       "    </tr>\n",
       "    <tr>\n",
       "      <th>2</th>\n",
       "      <td>0.00659</td>\n",
       "      <td>['Quasimoto']</td>\n",
       "      <td>0.706</td>\n",
       "      <td>202507.0</td>\n",
       "      <td>3.375117</td>\n",
       "      <td>0.602</td>\n",
       "      <td>1.0</td>\n",
       "      <td>5pxtdhLAi0RTh1gNqhGMNA</td>\n",
       "      <td>0.000138</td>\n",
       "      <td>11.0</td>\n",
       "      <td>0.400</td>\n",
       "      <td>-8.306</td>\n",
       "      <td>0.0</td>\n",
       "      <td>Real Eyes</td>\n",
       "      <td>44.0</td>\n",
       "      <td>2000-06-13</td>\n",
       "      <td>0.3420</td>\n",
       "      <td>89.692</td>\n",
       "      <td>0.4790</td>\n",
       "      <td>2000.0</td>\n",
       "    </tr>\n",
       "    <tr>\n",
       "      <th>3</th>\n",
       "      <td>0.00390</td>\n",
       "      <td>['Millencolin']</td>\n",
       "      <td>0.368</td>\n",
       "      <td>173360.0</td>\n",
       "      <td>2.889333</td>\n",
       "      <td>0.977</td>\n",
       "      <td>0.0</td>\n",
       "      <td>3jRsoe4Vkxa4BMYqGHX8L0</td>\n",
       "      <td>0.000000</td>\n",
       "      <td>11.0</td>\n",
       "      <td>0.350</td>\n",
       "      <td>-2.757</td>\n",
       "      <td>0.0</td>\n",
       "      <td>Penguins &amp; Polarbears</td>\n",
       "      <td>52.0</td>\n",
       "      <td>2000-02-22</td>\n",
       "      <td>0.1270</td>\n",
       "      <td>165.889</td>\n",
       "      <td>0.5480</td>\n",
       "      <td>2000.0</td>\n",
       "    </tr>\n",
       "    <tr>\n",
       "      <th>4</th>\n",
       "      <td>0.12200</td>\n",
       "      <td>['Steve Chou']</td>\n",
       "      <td>0.501</td>\n",
       "      <td>344200.0</td>\n",
       "      <td>5.736667</td>\n",
       "      <td>0.511</td>\n",
       "      <td>0.0</td>\n",
       "      <td>4mronxcllhfyhBRqyZi8kU</td>\n",
       "      <td>0.000000</td>\n",
       "      <td>7.0</td>\n",
       "      <td>0.279</td>\n",
       "      <td>-9.836</td>\n",
       "      <td>0.0</td>\n",
       "      <td>黃昏</td>\n",
       "      <td>53.0</td>\n",
       "      <td>2000-12-25</td>\n",
       "      <td>0.0291</td>\n",
       "      <td>78.045</td>\n",
       "      <td>0.1130</td>\n",
       "      <td>2000.0</td>\n",
       "    </tr>\n",
       "  </tbody>\n",
       "</table>\n",
       "</div>"
      ],
      "text/plain": [
       "   acousticness          artists  danceability  duration_ms  duration_minutes  \\\n",
       "0       0.97200  ['David Bauer']         0.567     313293.0          5.221550   \n",
       "1       0.32100   ['Etta James']         0.821     360240.0          6.004000   \n",
       "2       0.00659    ['Quasimoto']         0.706     202507.0          3.375117   \n",
       "3       0.00390  ['Millencolin']         0.368     173360.0          2.889333   \n",
       "4       0.12200   ['Steve Chou']         0.501     344200.0          5.736667   \n",
       "\n",
       "   energy  explicit                      id  instrumentalness   key  liveness  \\\n",
       "0   0.227       0.0  0w0D8H1ubRerCXHWYJkinO          0.601000  10.0     0.110   \n",
       "1   0.418       0.0  4JVeqfE2tpi7Pv63LJZtPh          0.000372   9.0     0.222   \n",
       "2   0.602       1.0  5pxtdhLAi0RTh1gNqhGMNA          0.000138  11.0     0.400   \n",
       "3   0.977       0.0  3jRsoe4Vkxa4BMYqGHX8L0          0.000000  11.0     0.350   \n",
       "4   0.511       0.0  4mronxcllhfyhBRqyZi8kU          0.000000   7.0     0.279   \n",
       "\n",
       "   loudness  mode                   name  popularity release_date  \\\n",
       "0   -13.441   1.0      Shout to the Lord        47.0         2000   \n",
       "1    -9.841   0.0               Miss You        51.0   2000-12-12   \n",
       "2    -8.306   0.0              Real Eyes        44.0   2000-06-13   \n",
       "3    -2.757   0.0  Penguins & Polarbears        52.0   2000-02-22   \n",
       "4    -9.836   0.0                     黃昏        53.0   2000-12-25   \n",
       "\n",
       "   speechiness    tempo  valence    year  \n",
       "0       0.0290  136.123   0.0396  2000.0  \n",
       "1       0.0407  117.382   0.8030  2000.0  \n",
       "2       0.3420   89.692   0.4790  2000.0  \n",
       "3       0.1270  165.889   0.5480  2000.0  \n",
       "4       0.0291   78.045   0.1130  2000.0  "
      ]
     },
     "execution_count": 1,
     "metadata": {},
     "output_type": "execute_result"
    }
   ],
   "source": [
    "import pandas as pd\n",
    "spotify_population = pd.read_feather('spotify_2000_2020.feather')\n",
    "spotify_population.head()"
   ]
  },
  {
   "cell_type": "markdown",
   "id": "5b6aceca",
   "metadata": {},
   "source": [
    "###### Population parameter\n",
    "**A calculation made on the population dataset.**"
   ]
  },
  {
   "cell_type": "code",
   "execution_count": 2,
   "id": "e33fd885",
   "metadata": {},
   "outputs": [
    {
     "data": {
      "text/plain": [
       "0.5912139139619694"
      ]
     },
     "execution_count": 2,
     "metadata": {},
     "output_type": "execute_result"
    }
   ],
   "source": [
    "import numpy as np\n",
    "np.mean(spotify_population['danceability'])"
   ]
  },
  {
   "cell_type": "markdown",
   "id": "766a83e7",
   "metadata": {},
   "source": [
    "###### Point estimate or sample statistic\n",
    "**A sample statistic is a calculation made on the sample dataset.**"
   ]
  },
  {
   "cell_type": "code",
   "execution_count": 3,
   "id": "cc7e3756",
   "metadata": {},
   "outputs": [
    {
     "data": {
      "text/plain": [
       "0.590767460000001"
      ]
     },
     "execution_count": 3,
     "metadata": {},
     "output_type": "execute_result"
    }
   ],
   "source": [
    "sample = spotify_population['danceability'].sample(5000)\n",
    "np.mean(sample)"
   ]
  },
  {
   "cell_type": "markdown",
   "id": "7194ecaa",
   "metadata": {},
   "source": [
    "> The means are similar.\n",
    "### Simple sampling with pandas\n"
   ]
  },
  {
   "cell_type": "code",
   "execution_count": 4,
   "id": "99946db0",
   "metadata": {},
   "outputs": [
    {
     "data": {
      "text/html": [
       "<div>\n",
       "<style scoped>\n",
       "    .dataframe tbody tr th:only-of-type {\n",
       "        vertical-align: middle;\n",
       "    }\n",
       "\n",
       "    .dataframe tbody tr th {\n",
       "        vertical-align: top;\n",
       "    }\n",
       "\n",
       "    .dataframe thead th {\n",
       "        text-align: right;\n",
       "    }\n",
       "</style>\n",
       "<table border=\"1\" class=\"dataframe\">\n",
       "  <thead>\n",
       "    <tr style=\"text-align: right;\">\n",
       "      <th></th>\n",
       "      <th>acousticness</th>\n",
       "      <th>artists</th>\n",
       "      <th>danceability</th>\n",
       "      <th>duration_ms</th>\n",
       "      <th>duration_minutes</th>\n",
       "      <th>energy</th>\n",
       "      <th>explicit</th>\n",
       "      <th>id</th>\n",
       "      <th>instrumentalness</th>\n",
       "      <th>key</th>\n",
       "      <th>liveness</th>\n",
       "      <th>loudness</th>\n",
       "      <th>mode</th>\n",
       "      <th>name</th>\n",
       "      <th>popularity</th>\n",
       "      <th>release_date</th>\n",
       "      <th>speechiness</th>\n",
       "      <th>tempo</th>\n",
       "      <th>valence</th>\n",
       "      <th>year</th>\n",
       "    </tr>\n",
       "  </thead>\n",
       "  <tbody>\n",
       "    <tr>\n",
       "      <th>9821</th>\n",
       "      <td>0.35500</td>\n",
       "      <td>['Jhené Aiko']</td>\n",
       "      <td>0.439</td>\n",
       "      <td>237573.0</td>\n",
       "      <td>3.959550</td>\n",
       "      <td>0.505</td>\n",
       "      <td>1.0</td>\n",
       "      <td>3Px6rA0efiFjaIImH9pdaR</td>\n",
       "      <td>0.005490</td>\n",
       "      <td>1.0</td>\n",
       "      <td>0.1340</td>\n",
       "      <td>-9.572</td>\n",
       "      <td>0.0</td>\n",
       "      <td>The Pressure</td>\n",
       "      <td>51.0</td>\n",
       "      <td>2014-09-08</td>\n",
       "      <td>0.1290</td>\n",
       "      <td>84.736</td>\n",
       "      <td>0.420</td>\n",
       "      <td>2014.0</td>\n",
       "    </tr>\n",
       "    <tr>\n",
       "      <th>21073</th>\n",
       "      <td>0.00797</td>\n",
       "      <td>['Audioslave']</td>\n",
       "      <td>0.614</td>\n",
       "      <td>293960.0</td>\n",
       "      <td>4.899333</td>\n",
       "      <td>0.568</td>\n",
       "      <td>0.0</td>\n",
       "      <td>3YuaBvuZqcwN3CEAyyoaei</td>\n",
       "      <td>0.000000</td>\n",
       "      <td>7.0</td>\n",
       "      <td>0.0997</td>\n",
       "      <td>-5.477</td>\n",
       "      <td>0.0</td>\n",
       "      <td>Like a Stone</td>\n",
       "      <td>76.0</td>\n",
       "      <td>2002-11-17</td>\n",
       "      <td>0.0276</td>\n",
       "      <td>107.849</td>\n",
       "      <td>0.516</td>\n",
       "      <td>2002.0</td>\n",
       "    </tr>\n",
       "    <tr>\n",
       "      <th>5492</th>\n",
       "      <td>0.31100</td>\n",
       "      <td>['Josh WaWa White', 'DAK']</td>\n",
       "      <td>0.861</td>\n",
       "      <td>289072.0</td>\n",
       "      <td>4.817867</td>\n",
       "      <td>0.238</td>\n",
       "      <td>1.0</td>\n",
       "      <td>6AAgV2gjVmiv9x45AAA8EP</td>\n",
       "      <td>0.000002</td>\n",
       "      <td>7.0</td>\n",
       "      <td>0.0257</td>\n",
       "      <td>-11.367</td>\n",
       "      <td>1.0</td>\n",
       "      <td>Movin' About My Ways (feat. Dak)</td>\n",
       "      <td>52.0</td>\n",
       "      <td>2012-04-27</td>\n",
       "      <td>0.1470</td>\n",
       "      <td>90.009</td>\n",
       "      <td>0.792</td>\n",
       "      <td>2012.0</td>\n",
       "    </tr>\n",
       "    <tr>\n",
       "      <th>13821</th>\n",
       "      <td>0.01970</td>\n",
       "      <td>['Victorious Cast', 'Victoria Justice']</td>\n",
       "      <td>0.593</td>\n",
       "      <td>194893.0</td>\n",
       "      <td>3.248217</td>\n",
       "      <td>0.814</td>\n",
       "      <td>0.0</td>\n",
       "      <td>0powdVQEIZSaSnNupt2yPE</td>\n",
       "      <td>0.000000</td>\n",
       "      <td>9.0</td>\n",
       "      <td>0.1800</td>\n",
       "      <td>-4.802</td>\n",
       "      <td>1.0</td>\n",
       "      <td>Faster than Boyz</td>\n",
       "      <td>45.0</td>\n",
       "      <td>2012-11-06</td>\n",
       "      <td>0.1660</td>\n",
       "      <td>146.919</td>\n",
       "      <td>0.480</td>\n",
       "      <td>2012.0</td>\n",
       "    </tr>\n",
       "    <tr>\n",
       "      <th>30746</th>\n",
       "      <td>0.20000</td>\n",
       "      <td>['Luke Bryan']</td>\n",
       "      <td>0.548</td>\n",
       "      <td>206213.0</td>\n",
       "      <td>3.436883</td>\n",
       "      <td>0.901</td>\n",
       "      <td>0.0</td>\n",
       "      <td>2gYiCTytrSRtuaHP1Nac6u</td>\n",
       "      <td>0.000000</td>\n",
       "      <td>0.0</td>\n",
       "      <td>0.1000</td>\n",
       "      <td>-2.637</td>\n",
       "      <td>0.0</td>\n",
       "      <td>Fast</td>\n",
       "      <td>60.0</td>\n",
       "      <td>2015-08-07</td>\n",
       "      <td>0.0453</td>\n",
       "      <td>145.953</td>\n",
       "      <td>0.557</td>\n",
       "      <td>2015.0</td>\n",
       "    </tr>\n",
       "  </tbody>\n",
       "</table>\n",
       "</div>"
      ],
      "text/plain": [
       "       acousticness                                  artists  danceability  \\\n",
       "9821        0.35500                           ['Jhené Aiko']         0.439   \n",
       "21073       0.00797                           ['Audioslave']         0.614   \n",
       "5492        0.31100               ['Josh WaWa White', 'DAK']         0.861   \n",
       "13821       0.01970  ['Victorious Cast', 'Victoria Justice']         0.593   \n",
       "30746       0.20000                           ['Luke Bryan']         0.548   \n",
       "\n",
       "       duration_ms  duration_minutes  energy  explicit  \\\n",
       "9821      237573.0          3.959550   0.505       1.0   \n",
       "21073     293960.0          4.899333   0.568       0.0   \n",
       "5492      289072.0          4.817867   0.238       1.0   \n",
       "13821     194893.0          3.248217   0.814       0.0   \n",
       "30746     206213.0          3.436883   0.901       0.0   \n",
       "\n",
       "                           id  instrumentalness  key  liveness  loudness  \\\n",
       "9821   3Px6rA0efiFjaIImH9pdaR          0.005490  1.0    0.1340    -9.572   \n",
       "21073  3YuaBvuZqcwN3CEAyyoaei          0.000000  7.0    0.0997    -5.477   \n",
       "5492   6AAgV2gjVmiv9x45AAA8EP          0.000002  7.0    0.0257   -11.367   \n",
       "13821  0powdVQEIZSaSnNupt2yPE          0.000000  9.0    0.1800    -4.802   \n",
       "30746  2gYiCTytrSRtuaHP1Nac6u          0.000000  0.0    0.1000    -2.637   \n",
       "\n",
       "       mode                              name  popularity release_date  \\\n",
       "9821    0.0                      The Pressure        51.0   2014-09-08   \n",
       "21073   0.0                      Like a Stone        76.0   2002-11-17   \n",
       "5492    1.0  Movin' About My Ways (feat. Dak)        52.0   2012-04-27   \n",
       "13821   1.0                  Faster than Boyz        45.0   2012-11-06   \n",
       "30746   0.0                              Fast        60.0   2015-08-07   \n",
       "\n",
       "       speechiness    tempo  valence    year  \n",
       "9821        0.1290   84.736    0.420  2014.0  \n",
       "21073       0.0276  107.849    0.516  2002.0  \n",
       "5492        0.1470   90.009    0.792  2012.0  \n",
       "13821       0.1660  146.919    0.480  2012.0  \n",
       "30746       0.0453  145.953    0.557  2015.0  "
      ]
     },
     "execution_count": 4,
     "metadata": {},
     "output_type": "execute_result"
    }
   ],
   "source": [
    "# Sample 1000 rows from spotify_population\n",
    "spotify_sample = spotify_population.sample(1000)\n",
    "\n",
    "# Print the sample\n",
    "spotify_sample.head()"
   ]
  },
  {
   "cell_type": "code",
   "execution_count": 5,
   "id": "ef554d44",
   "metadata": {},
   "outputs": [
    {
     "name": "stdout",
     "output_type": "stream",
     "text": [
      "3.8521519140899896\n",
      "3.8451639333333305\n"
     ]
    }
   ],
   "source": [
    "# Calculate the mean duration in mins from spotify_population\n",
    "mean_dur_pop = spotify_population['duration_minutes'].mean()\n",
    "\n",
    "# Calculate the mean duration in mins from spotify_sample\n",
    "mean_dur_samp = spotify_sample['duration_minutes'].mean()\n",
    "\n",
    "# Print the means\n",
    "print(mean_dur_pop)\n",
    "print(mean_dur_samp)"
   ]
  },
  {
   "cell_type": "markdown",
   "id": "00d29f92",
   "metadata": {},
   "source": [
    "> Notice that the mean song duration in the sample is similar, but not identical to the mean song duration in the whole population.\n",
    "\n",
    "### Simple sampling and calculating with NumPy\n"
   ]
  },
  {
   "cell_type": "code",
   "execution_count": 6,
   "id": "82d8a752",
   "metadata": {},
   "outputs": [
    {
     "name": "stdout",
     "output_type": "stream",
     "text": [
      "-7.366856851353918\n",
      "-6.923319999999999\n"
     ]
    }
   ],
   "source": [
    "# Create a pandas Series from the loudness column of spotify_population\n",
    "loudness_pop = spotify_population['loudness']\n",
    "\n",
    "# Sample 100 values of loudness_pop\n",
    "loudness_samp = loudness_pop.sample(n=100)\n",
    "\n",
    "# Calculate the mean of loudness_pop\n",
    "mean_loudness_pop = np.mean(loudness_pop)\n",
    "\n",
    "# Calculate the mean of loudness_samp\n",
    "mean_loudness_samp = np.mean(loudness_samp)\n",
    "\n",
    "# Print the means\n",
    "print(mean_loudness_pop)\n",
    "print(mean_loudness_samp)"
   ]
  },
  {
   "cell_type": "markdown",
   "id": "7b3ef0cb",
   "metadata": {},
   "source": [
    "> Again, notice that the calculated value (the mean) is close but not identical in each case.\n",
    "## A little too convenient\n"
   ]
  },
  {
   "cell_type": "code",
   "execution_count": 7,
   "id": "f0b4d344",
   "metadata": {},
   "outputs": [
    {
     "data": {
      "text/html": [
       "<div>\n",
       "<style scoped>\n",
       "    .dataframe tbody tr th:only-of-type {\n",
       "        vertical-align: middle;\n",
       "    }\n",
       "\n",
       "    .dataframe tbody tr th {\n",
       "        vertical-align: top;\n",
       "    }\n",
       "\n",
       "    .dataframe thead th {\n",
       "        text-align: right;\n",
       "    }\n",
       "</style>\n",
       "<table border=\"1\" class=\"dataframe\">\n",
       "  <thead>\n",
       "    <tr style=\"text-align: right;\">\n",
       "      <th></th>\n",
       "      <th>total_cup_points</th>\n",
       "      <th>species</th>\n",
       "      <th>owner</th>\n",
       "      <th>country_of_origin</th>\n",
       "      <th>farm_name</th>\n",
       "      <th>lot_number</th>\n",
       "      <th>mill</th>\n",
       "      <th>ico_number</th>\n",
       "      <th>company</th>\n",
       "      <th>altitude</th>\n",
       "      <th>...</th>\n",
       "      <th>color</th>\n",
       "      <th>category_two_defects</th>\n",
       "      <th>expiration</th>\n",
       "      <th>certification_body</th>\n",
       "      <th>certification_address</th>\n",
       "      <th>certification_contact</th>\n",
       "      <th>unit_of_measurement</th>\n",
       "      <th>altitude_low_meters</th>\n",
       "      <th>altitude_high_meters</th>\n",
       "      <th>altitude_mean_meters</th>\n",
       "    </tr>\n",
       "  </thead>\n",
       "  <tbody>\n",
       "    <tr>\n",
       "      <th>0</th>\n",
       "      <td>90.58</td>\n",
       "      <td>Arabica</td>\n",
       "      <td>metad plc</td>\n",
       "      <td>Ethiopia</td>\n",
       "      <td>metad plc</td>\n",
       "      <td>None</td>\n",
       "      <td>metad plc</td>\n",
       "      <td>2014/2015</td>\n",
       "      <td>metad agricultural developmet plc</td>\n",
       "      <td>1950-2200</td>\n",
       "      <td>...</td>\n",
       "      <td>Green</td>\n",
       "      <td>0.0</td>\n",
       "      <td>April 3rd, 2016</td>\n",
       "      <td>METAD Agricultural Development plc</td>\n",
       "      <td>309fcf77415a3661ae83e027f7e5f05dad786e44</td>\n",
       "      <td>19fef5a731de2db57d16da10287413f5f99bc2dd</td>\n",
       "      <td>m</td>\n",
       "      <td>1950.0</td>\n",
       "      <td>2200.0</td>\n",
       "      <td>2075.0</td>\n",
       "    </tr>\n",
       "    <tr>\n",
       "      <th>1</th>\n",
       "      <td>89.92</td>\n",
       "      <td>Arabica</td>\n",
       "      <td>metad plc</td>\n",
       "      <td>Ethiopia</td>\n",
       "      <td>metad plc</td>\n",
       "      <td>None</td>\n",
       "      <td>metad plc</td>\n",
       "      <td>2014/2015</td>\n",
       "      <td>metad agricultural developmet plc</td>\n",
       "      <td>1950-2200</td>\n",
       "      <td>...</td>\n",
       "      <td>Green</td>\n",
       "      <td>1.0</td>\n",
       "      <td>April 3rd, 2016</td>\n",
       "      <td>METAD Agricultural Development plc</td>\n",
       "      <td>309fcf77415a3661ae83e027f7e5f05dad786e44</td>\n",
       "      <td>19fef5a731de2db57d16da10287413f5f99bc2dd</td>\n",
       "      <td>m</td>\n",
       "      <td>1950.0</td>\n",
       "      <td>2200.0</td>\n",
       "      <td>2075.0</td>\n",
       "    </tr>\n",
       "    <tr>\n",
       "      <th>2</th>\n",
       "      <td>89.75</td>\n",
       "      <td>Arabica</td>\n",
       "      <td>grounds for health admin</td>\n",
       "      <td>Guatemala</td>\n",
       "      <td>san marcos barrancas \"san cristobal cuch</td>\n",
       "      <td>None</td>\n",
       "      <td>None</td>\n",
       "      <td>None</td>\n",
       "      <td>None</td>\n",
       "      <td>1600 - 1800 m</td>\n",
       "      <td>...</td>\n",
       "      <td>None</td>\n",
       "      <td>0.0</td>\n",
       "      <td>May 31st, 2011</td>\n",
       "      <td>Specialty Coffee Association</td>\n",
       "      <td>36d0d00a3724338ba7937c52a378d085f2172daa</td>\n",
       "      <td>0878a7d4b9d35ddbf0fe2ce69a2062cceb45a660</td>\n",
       "      <td>m</td>\n",
       "      <td>1600.0</td>\n",
       "      <td>1800.0</td>\n",
       "      <td>1700.0</td>\n",
       "    </tr>\n",
       "    <tr>\n",
       "      <th>3</th>\n",
       "      <td>89.00</td>\n",
       "      <td>Arabica</td>\n",
       "      <td>yidnekachew dabessa</td>\n",
       "      <td>Ethiopia</td>\n",
       "      <td>yidnekachew dabessa coffee plantation</td>\n",
       "      <td>None</td>\n",
       "      <td>wolensu</td>\n",
       "      <td>None</td>\n",
       "      <td>yidnekachew debessa coffee plantation</td>\n",
       "      <td>1800-2200</td>\n",
       "      <td>...</td>\n",
       "      <td>Green</td>\n",
       "      <td>2.0</td>\n",
       "      <td>March 25th, 2016</td>\n",
       "      <td>METAD Agricultural Development plc</td>\n",
       "      <td>309fcf77415a3661ae83e027f7e5f05dad786e44</td>\n",
       "      <td>19fef5a731de2db57d16da10287413f5f99bc2dd</td>\n",
       "      <td>m</td>\n",
       "      <td>1800.0</td>\n",
       "      <td>2200.0</td>\n",
       "      <td>2000.0</td>\n",
       "    </tr>\n",
       "    <tr>\n",
       "      <th>4</th>\n",
       "      <td>88.83</td>\n",
       "      <td>Arabica</td>\n",
       "      <td>metad plc</td>\n",
       "      <td>Ethiopia</td>\n",
       "      <td>metad plc</td>\n",
       "      <td>None</td>\n",
       "      <td>metad plc</td>\n",
       "      <td>2014/2015</td>\n",
       "      <td>metad agricultural developmet plc</td>\n",
       "      <td>1950-2200</td>\n",
       "      <td>...</td>\n",
       "      <td>Green</td>\n",
       "      <td>2.0</td>\n",
       "      <td>April 3rd, 2016</td>\n",
       "      <td>METAD Agricultural Development plc</td>\n",
       "      <td>309fcf77415a3661ae83e027f7e5f05dad786e44</td>\n",
       "      <td>19fef5a731de2db57d16da10287413f5f99bc2dd</td>\n",
       "      <td>m</td>\n",
       "      <td>1950.0</td>\n",
       "      <td>2200.0</td>\n",
       "      <td>2075.0</td>\n",
       "    </tr>\n",
       "  </tbody>\n",
       "</table>\n",
       "<p>5 rows × 43 columns</p>\n",
       "</div>"
      ],
      "text/plain": [
       "   total_cup_points  species                     owner country_of_origin  \\\n",
       "0             90.58  Arabica                 metad plc          Ethiopia   \n",
       "1             89.92  Arabica                 metad plc          Ethiopia   \n",
       "2             89.75  Arabica  grounds for health admin         Guatemala   \n",
       "3             89.00  Arabica       yidnekachew dabessa          Ethiopia   \n",
       "4             88.83  Arabica                 metad plc          Ethiopia   \n",
       "\n",
       "                                  farm_name lot_number       mill ico_number  \\\n",
       "0                                 metad plc       None  metad plc  2014/2015   \n",
       "1                                 metad plc       None  metad plc  2014/2015   \n",
       "2  san marcos barrancas \"san cristobal cuch       None       None       None   \n",
       "3     yidnekachew dabessa coffee plantation       None    wolensu       None   \n",
       "4                                 metad plc       None  metad plc  2014/2015   \n",
       "\n",
       "                                 company       altitude  ...  color  \\\n",
       "0      metad agricultural developmet plc      1950-2200  ...  Green   \n",
       "1      metad agricultural developmet plc      1950-2200  ...  Green   \n",
       "2                                   None  1600 - 1800 m  ...   None   \n",
       "3  yidnekachew debessa coffee plantation      1800-2200  ...  Green   \n",
       "4      metad agricultural developmet plc      1950-2200  ...  Green   \n",
       "\n",
       "  category_two_defects        expiration                  certification_body  \\\n",
       "0                  0.0   April 3rd, 2016  METAD Agricultural Development plc   \n",
       "1                  1.0   April 3rd, 2016  METAD Agricultural Development plc   \n",
       "2                  0.0    May 31st, 2011        Specialty Coffee Association   \n",
       "3                  2.0  March 25th, 2016  METAD Agricultural Development plc   \n",
       "4                  2.0   April 3rd, 2016  METAD Agricultural Development plc   \n",
       "\n",
       "                      certification_address  \\\n",
       "0  309fcf77415a3661ae83e027f7e5f05dad786e44   \n",
       "1  309fcf77415a3661ae83e027f7e5f05dad786e44   \n",
       "2  36d0d00a3724338ba7937c52a378d085f2172daa   \n",
       "3  309fcf77415a3661ae83e027f7e5f05dad786e44   \n",
       "4  309fcf77415a3661ae83e027f7e5f05dad786e44   \n",
       "\n",
       "                      certification_contact unit_of_measurement  \\\n",
       "0  19fef5a731de2db57d16da10287413f5f99bc2dd                   m   \n",
       "1  19fef5a731de2db57d16da10287413f5f99bc2dd                   m   \n",
       "2  0878a7d4b9d35ddbf0fe2ce69a2062cceb45a660                   m   \n",
       "3  19fef5a731de2db57d16da10287413f5f99bc2dd                   m   \n",
       "4  19fef5a731de2db57d16da10287413f5f99bc2dd                   m   \n",
       "\n",
       "  altitude_low_meters altitude_high_meters altitude_mean_meters  \n",
       "0              1950.0               2200.0               2075.0  \n",
       "1              1950.0               2200.0               2075.0  \n",
       "2              1600.0               1800.0               1700.0  \n",
       "3              1800.0               2200.0               2000.0  \n",
       "4              1950.0               2200.0               2075.0  \n",
       "\n",
       "[5 rows x 43 columns]"
      ]
     },
     "execution_count": 7,
     "metadata": {},
     "output_type": "execute_result"
    }
   ],
   "source": [
    "coffee_ratings = pd.read_feather('coffee_ratings_full.feather')\n",
    "coffee_ratings.head()"
   ]
  },
  {
   "cell_type": "code",
   "execution_count": 8,
   "id": "80b68f11",
   "metadata": {},
   "outputs": [
    {
     "data": {
      "text/plain": [
       "82.15120328849018"
      ]
     },
     "execution_count": 8,
     "metadata": {},
     "output_type": "execute_result"
    }
   ],
   "source": [
    "coffee_ratings['total_cup_points'].mean()"
   ]
  },
  {
   "cell_type": "code",
   "execution_count": 9,
   "id": "246cd5a8",
   "metadata": {},
   "outputs": [
    {
     "data": {
      "text/plain": [
       "89.1"
      ]
     },
     "execution_count": 9,
     "metadata": {},
     "output_type": "execute_result"
    }
   ],
   "source": [
    "coffee_ratings['total_cup_points'].head(10).mean()"
   ]
  },
  {
   "cell_type": "markdown",
   "id": "9bbf8693",
   "metadata": {},
   "source": [
    "> The sample is NOT representative"
   ]
  },
  {
   "cell_type": "code",
   "execution_count": 10,
   "id": "ed3a8edc",
   "metadata": {},
   "outputs": [
    {
     "data": {
      "image/png": "[encoded data removed]",
      "text/plain": [
       "<Figure size 432x288 with 1 Axes>"
      ]
     },
     "metadata": {
      "needs_background": "light"
     },
     "output_type": "display_data"
    }
   ],
   "source": [
    "import matplotlib.pyplot as plt\n",
    "import numpy as np\n",
    "coffee_ratings['total_cup_points'].hist(bins=np.arange(59,93,2))\n",
    "plt.show()"
   ]
  },
  {
   "cell_type": "code",
   "execution_count": 11,
   "id": "32cb71c6",
   "metadata": {},
   "outputs": [
    {
     "data": {
      "image/png": "[encoded data removed]",
      "text/plain": [
       "<Figure size 432x288 with 1 Axes>"
      ]
     },
     "metadata": {
      "needs_background": "light"
     },
     "output_type": "display_data"
    }
   ],
   "source": [
    "first_10 = coffee_ratings['total_cup_points'].head(10)\n",
    "first_10.hist(bins=np.arange(59,93,2))\n",
    "plt.show()"
   ]
  },
  {
   "cell_type": "markdown",
   "id": "bc987c67",
   "metadata": {},
   "source": [
    "> The sample is not representative, all the sample values are on the right hand side of the plot."
   ]
  },
  {
   "cell_type": "code",
   "execution_count": 12,
   "id": "30176fe5",
   "metadata": {},
   "outputs": [
    {
     "data": {
      "image/png": "[encoded data removed]",
      "text/plain": [
       "<Figure size 432x288 with 1 Axes>"
      ]
     },
     "metadata": {
      "needs_background": "light"
     },
     "output_type": "display_data"
    }
   ],
   "source": [
    "sample_10 = coffee_ratings['total_cup_points'].sample(10)\n",
    "sample_10.hist(bins=np.arange(59,93,2))\n",
    "plt.show()"
   ]
  },
  {
   "cell_type": "markdown",
   "id": "c22c002d",
   "metadata": {},
   "source": [
    "> Notice how the shape of the distribution is more closely aligned when random sampling is used."
   ]
  },
  {
   "cell_type": "markdown",
   "id": "8dd4255c",
   "metadata": {},
   "source": [
    "### Are the findings from this sample generalizable?\n"
   ]
  },
  {
   "cell_type": "code",
   "execution_count": 13,
   "id": "9dbd9a15",
   "metadata": {},
   "outputs": [
    {
     "data": {
      "image/png": "[encoded data removed]",
      "text/plain": [
       "<Figure size 432x288 with 1 Axes>"
      ]
     },
     "metadata": {
      "needs_background": "light"
     },
     "output_type": "display_data"
    }
   ],
   "source": [
    "# Visualize the distribution of acousticness with a histogram\n",
    "spotify_population['acousticness'].hist(bins=np.arange(0, 1.01, 0.01))\n",
    "plt.show()"
   ]
  },
  {
   "cell_type": "code",
   "execution_count": 14,
   "id": "b6a09966",
   "metadata": {},
   "outputs": [
    {
     "data": {
      "image/png": "[encoded data removed]",
      "text/plain": [
       "<Figure size 432x288 with 1 Axes>"
      ]
     },
     "metadata": {
      "needs_background": "light"
     },
     "output_type": "display_data"
    }
   ],
   "source": [
    "spotify_mysterious_sample = spotify_population[spotify_population['acousticness'].between(0.95, 1)]\n",
    "# Update the histogram to use spotify_mysterious_sample\n",
    "spotify_mysterious_sample['acousticness'].hist(bins=np.arange(0, 1.01, 0.01))\n",
    "plt.show()"
   ]
  },
  {
   "cell_type": "markdown",
   "id": "d822df64",
   "metadata": {},
   "source": [
    "> Are the acousticness values in the sample generalizable to the general population?\n",
    "\n",
    "> **No. The acousticness samples are consistently higher than those in the general population.**"
   ]
  },
  {
   "cell_type": "markdown",
   "id": "046d0783",
   "metadata": {},
   "source": [
    "### Are these findings generalizable?\n"
   ]
  },
  {
   "cell_type": "code",
   "execution_count": 15,
   "id": "99cdea5c",
   "metadata": {},
   "outputs": [
    {
     "data": {
      "image/png": "[encoded data removed]",
      "text/plain": [
       "<Figure size 432x288 with 1 Axes>"
      ]
     },
     "metadata": {
      "needs_background": "light"
     },
     "output_type": "display_data"
    }
   ],
   "source": [
    "# Visualize the distribution of duration_minutes as a histogram\n",
    "spotify_population['duration_minutes'].hist(bins=np.arange(0,15.5,0.5))\n",
    "plt.show()"
   ]
  },
  {
   "cell_type": "code",
   "execution_count": 16,
   "id": "1b054304",
   "metadata": {},
   "outputs": [
    {
     "data": {
      "image/png": "[encoded data removed]",
      "text/plain": [
       "<Figure size 432x288 with 1 Axes>"
      ]
     },
     "metadata": {
      "needs_background": "light"
     },
     "output_type": "display_data"
    }
   ],
   "source": [
    "spotify_mysterious_sample2 = spotify_population.sample(50)\n",
    "# Update the histogram to use spotify_mysterious_sample2\n",
    "spotify_mysterious_sample2['duration_minutes'].hist(bins=np.arange(0, 15.5, 0.5))\n",
    "plt.show()"
   ]
  },
  {
   "cell_type": "markdown",
   "id": "4cadf16b",
   "metadata": {},
   "source": [
    "> Are the duration values in the sample generalizable to the general population?\n",
    "\n",
    "> **Yes. The sample selected is likely a random sample of all songs in the population.**"
   ]
  },
  {
   "cell_type": "markdown",
   "id": "18244451",
   "metadata": {},
   "source": [
    "## How does Sue do sampling?\n",
    "\n",
    "###### Pseudo-random number generation is cheap ans fast\n",
    "> Next \"random\" number calculated from previous \"random\" number.\n",
    "> The first \"random\" number calculated as a seed.\n",
    "\n",
    "##### Visualizing random numbers"
   ]
  },
  {
   "cell_type": "code",
   "execution_count": 17,
   "id": "0c3a5dd3",
   "metadata": {},
   "outputs": [
    {
     "data": {
      "text/plain": [
       "array([0.78840258, 0.7988662 , 0.28834158, ..., 0.44317628, 0.20305374,\n",
       "       0.56589163])"
      ]
     },
     "execution_count": 17,
     "metadata": {},
     "output_type": "execute_result"
    }
   ],
   "source": [
    "randoms = np.random.beta(a=2,b=2,size=5000)\n",
    "randoms"
   ]
  },
  {
   "cell_type": "code",
   "execution_count": 18,
   "id": "8c11e26a",
   "metadata": {
    "scrolled": true
   },
   "outputs": [
    {
     "data": {
      "image/png": "[encoded data removed]",
      "text/plain": [
       "<Figure size 432x288 with 1 Axes>"
      ]
     },
     "metadata": {
      "needs_background": "light"
     },
     "output_type": "display_data"
    }
   ],
   "source": [
    "plt.hist(randoms, bins=np.arange(0,1,0.05))\n",
    "plt.show()"
   ]
  },
  {
   "cell_type": "markdown",
   "id": "88f60563",
   "metadata": {},
   "source": [
    "###### Random numbers seeds"
   ]
  },
  {
   "cell_type": "code",
   "execution_count": 19,
   "id": "fd85557b",
   "metadata": {},
   "outputs": [
    {
     "data": {
      "text/plain": [
       "array([-0.59030264,  1.87821258])"
      ]
     },
     "execution_count": 19,
     "metadata": {},
     "output_type": "execute_result"
    }
   ],
   "source": [
    "np.random.seed(20000229)\n",
    "np.random.normal(loc=2, scale=1.5,size=2)"
   ]
  },
  {
   "cell_type": "code",
   "execution_count": 20,
   "id": "dc86b50b",
   "metadata": {},
   "outputs": [
    {
     "data": {
      "text/plain": [
       "array([2.52619561, 4.9684949 ])"
      ]
     },
     "execution_count": 20,
     "metadata": {},
     "output_type": "execute_result"
    }
   ],
   "source": [
    "np.random.normal(loc=2, scale=1.5,size=2)"
   ]
  },
  {
   "cell_type": "code",
   "execution_count": 21,
   "id": "c157504f",
   "metadata": {
    "scrolled": true
   },
   "outputs": [
    {
     "data": {
      "text/plain": [
       "array([2.52619561, 4.9684949 ])"
      ]
     },
     "execution_count": 21,
     "metadata": {},
     "output_type": "execute_result"
    }
   ],
   "source": [
    "np.random.seed(20000229)\n",
    "np.random.normal(loc=2, scale=1.5,size=2)\n",
    "np.random.normal(loc=2, scale=1.5,size=2)"
   ]
  },
  {
   "cell_type": "markdown",
   "id": "b0b3dc75",
   "metadata": {},
   "source": [
    "###### Using a different seed"
   ]
  },
  {
   "cell_type": "code",
   "execution_count": 22,
   "id": "b335b483",
   "metadata": {},
   "outputs": [
    {
     "data": {
      "text/plain": [
       "array([1.09364337, 4.55285159])"
      ]
     },
     "execution_count": 22,
     "metadata": {},
     "output_type": "execute_result"
    }
   ],
   "source": [
    "np.random.seed(20041004)\n",
    "np.random.normal(loc=2, scale=1.5,size=2)"
   ]
  },
  {
   "cell_type": "code",
   "execution_count": 23,
   "id": "09507644",
   "metadata": {},
   "outputs": [
    {
     "data": {
      "text/plain": [
       "array([2.67038916, 2.36677492])"
      ]
     },
     "execution_count": 23,
     "metadata": {},
     "output_type": "execute_result"
    }
   ],
   "source": [
    "np.random.normal(loc=2, scale=1.5,size=2)"
   ]
  },
  {
   "cell_type": "markdown",
   "id": "a9c0ccd0",
   "metadata": {},
   "source": [
    "> The seed makes the code reproducible and give different numbers."
   ]
  },
  {
   "cell_type": "markdown",
   "id": "dff5f666",
   "metadata": {},
   "source": [
    "### Generating random numbers\n"
   ]
  },
  {
   "cell_type": "code",
   "execution_count": 24,
   "id": "6b63da72",
   "metadata": {},
   "outputs": [
    {
     "data": {
      "text/plain": [
       "array([1.31207896, 2.65406494, 0.16554078, ..., 0.32216778, 1.19004017,\n",
       "       1.5796729 ])"
      ]
     },
     "execution_count": 24,
     "metadata": {},
     "output_type": "execute_result"
    }
   ],
   "source": [
    "# Generate random numbers from a Uniform(-3, 3)\n",
    "uniforms = np.random.uniform(low=-3, high=3, size=5000)\n",
    "# Print normals\n",
    "uniforms"
   ]
  },
  {
   "cell_type": "code",
   "execution_count": 25,
   "id": "c5fa4b60",
   "metadata": {},
   "outputs": [
    {
     "data": {
      "image/png": "[encoded data removed]",
      "text/plain": [
       "<Figure size 432x288 with 1 Axes>"
      ]
     },
     "metadata": {
      "needs_background": "light"
     },
     "output_type": "display_data"
    }
   ],
   "source": [
    "# Plot a histogram of uniform values, binwidth 0.25\n",
    "plt.hist(uniforms, bins=np.arange(-3,3.25,0.25))\n",
    "plt.show()"
   ]
  },
  {
   "cell_type": "code",
   "execution_count": 26,
   "id": "79036385",
   "metadata": {},
   "outputs": [
    {
     "data": {
      "text/plain": [
       "array([6.09424718, 6.75024563, 1.47256354, ..., 7.71050109, 3.02441799,\n",
       "       4.53098064])"
      ]
     },
     "execution_count": 26,
     "metadata": {},
     "output_type": "execute_result"
    }
   ],
   "source": [
    "# Generate random numbers from a Normal(5, 2)\n",
    "normals = np.random.normal(loc=5, scale=2, size=5000)\n",
    "normals"
   ]
  },
  {
   "cell_type": "code",
   "execution_count": 27,
   "id": "76f16ac8",
   "metadata": {},
   "outputs": [
    {
     "data": {
      "image/png": "[encoded data removed]",
      "text/plain": [
       "<Figure size 432x288 with 1 Axes>"
      ]
     },
     "metadata": {
      "needs_background": "light"
     },
     "output_type": "display_data"
    }
   ],
   "source": [
    "# Plot a histogram of normal values, binwidth 0.5\n",
    "plt.hist(normals, bins=np.arange(-2,13.5,0.5))\n",
    "plt.show()"
   ]
  },
  {
   "cell_type": "markdown",
   "id": "a3402108",
   "metadata": {},
   "source": [
    "> Notice how the histograms almost take the flat and bell curve shapes of the uniform and normal distributions, but there is a bit of random noise."
   ]
  },
  {
   "cell_type": "markdown",
   "id": "4a861a8e",
   "metadata": {},
   "source": [
    "### Understanding random seeds\n"
   ]
  },
  {
   "cell_type": "code",
   "execution_count": 28,
   "id": "dcf88e88",
   "metadata": {},
   "outputs": [
    {
     "data": {
      "text/plain": [
       "(array([-1.0856306 ,  0.99734545,  0.2829785 , -1.50629471, -0.57860025]),\n",
       " array([ 1.65143654, -2.42667924, -0.42891263,  1.26593626, -0.8667404 ]))"
      ]
     },
     "execution_count": 28,
     "metadata": {},
     "output_type": "execute_result"
    }
   ],
   "source": [
    "import numpy as np\n",
    "np.random.seed(123)\n",
    "x = np.random.normal(size=5)\n",
    "y = np.random.normal(size=5)\n",
    "x, y"
   ]
  },
  {
   "cell_type": "markdown",
   "id": "eb3bab28",
   "metadata": {},
   "source": [
    "> The values of x are different from those of y."
   ]
  },
  {
   "cell_type": "code",
   "execution_count": 29,
   "id": "fac53f67",
   "metadata": {},
   "outputs": [
    {
     "data": {
      "text/plain": [
       "(array([-1.0856306 ,  0.99734545,  0.2829785 , -1.50629471, -0.57860025]),\n",
       " array([-1.0856306 ,  0.99734545,  0.2829785 , -1.50629471, -0.57860025]))"
      ]
     },
     "execution_count": 29,
     "metadata": {},
     "output_type": "execute_result"
    }
   ],
   "source": [
    "np.random.seed(123)\n",
    "x = np.random.normal(size=5)\n",
    "np.random.seed(123)\n",
    "y = np.random.normal(size=5)\n",
    "x, y"
   ]
  },
  {
   "cell_type": "markdown",
   "id": "7322b3c7",
   "metadata": {},
   "source": [
    "> x and y have identical values."
   ]
  },
  {
   "cell_type": "code",
   "execution_count": 30,
   "id": "03a51139",
   "metadata": {},
   "outputs": [
    {
     "data": {
      "text/plain": [
       "(array([-1.0856306 ,  0.99734545,  0.2829785 , -1.50629471, -0.57860025]),\n",
       " array([-0.6681285 , -0.49820952,  0.61857582,  0.56869225,  1.35050948]))"
      ]
     },
     "execution_count": 30,
     "metadata": {},
     "output_type": "execute_result"
    }
   ],
   "source": [
    "np.random.seed(123)\n",
    "x = np.random.normal(size=5)\n",
    "np.random.seed(456)\n",
    "y = np.random.normal(size=5)\n",
    "x, y"
   ]
  },
  {
   "cell_type": "markdown",
   "id": "f8ccc8cb",
   "metadata": {},
   "source": [
    "> The values of x are different from those of y.\n",
    "\n"
   ]
  },
  {
   "cell_type": "markdown",
   "id": "d0e8a588",
   "metadata": {},
   "source": [
    "# 2. Don't get theory eyed\n",
    "## Simple is as simple does\n",
    "###### Simple random sampling with pandas"
   ]
  },
  {
   "cell_type": "code",
   "execution_count": 31,
   "id": "813f6179",
   "metadata": {},
   "outputs": [
    {
     "data": {
      "text/html": [
       "<div>\n",
       "<style scoped>\n",
       "    .dataframe tbody tr th:only-of-type {\n",
       "        vertical-align: middle;\n",
       "    }\n",
       "\n",
       "    .dataframe tbody tr th {\n",
       "        vertical-align: top;\n",
       "    }\n",
       "\n",
       "    .dataframe thead th {\n",
       "        text-align: right;\n",
       "    }\n",
       "</style>\n",
       "<table border=\"1\" class=\"dataframe\">\n",
       "  <thead>\n",
       "    <tr style=\"text-align: right;\">\n",
       "      <th></th>\n",
       "      <th>total_cup_points</th>\n",
       "      <th>species</th>\n",
       "      <th>owner</th>\n",
       "      <th>country_of_origin</th>\n",
       "      <th>farm_name</th>\n",
       "      <th>lot_number</th>\n",
       "      <th>mill</th>\n",
       "      <th>ico_number</th>\n",
       "      <th>company</th>\n",
       "      <th>altitude</th>\n",
       "      <th>...</th>\n",
       "      <th>color</th>\n",
       "      <th>category_two_defects</th>\n",
       "      <th>expiration</th>\n",
       "      <th>certification_body</th>\n",
       "      <th>certification_address</th>\n",
       "      <th>certification_contact</th>\n",
       "      <th>unit_of_measurement</th>\n",
       "      <th>altitude_low_meters</th>\n",
       "      <th>altitude_high_meters</th>\n",
       "      <th>altitude_mean_meters</th>\n",
       "    </tr>\n",
       "  </thead>\n",
       "  <tbody>\n",
       "    <tr>\n",
       "      <th>437</th>\n",
       "      <td>83.25</td>\n",
       "      <td>Arabica</td>\n",
       "      <td>exportadora de cafe condor s.a</td>\n",
       "      <td>Colombia</td>\n",
       "      <td>None</td>\n",
       "      <td>None</td>\n",
       "      <td>trilladora bonanza - armenia quindioa</td>\n",
       "      <td>3-68-0205</td>\n",
       "      <td>None</td>\n",
       "      <td>1600-1800msnm</td>\n",
       "      <td>...</td>\n",
       "      <td>None</td>\n",
       "      <td>0.0</td>\n",
       "      <td>June 13th, 2012</td>\n",
       "      <td>Almacafé</td>\n",
       "      <td>e493c36c2d076bf273064f7ac23ad562af257a25</td>\n",
       "      <td>70d3c0c26f89e00fdae6fb39ff54f0d2eb1c38ab</td>\n",
       "      <td>m</td>\n",
       "      <td>1600.0</td>\n",
       "      <td>1800.0</td>\n",
       "      <td>1700.0</td>\n",
       "    </tr>\n",
       "    <tr>\n",
       "      <th>285</th>\n",
       "      <td>83.83</td>\n",
       "      <td>Arabica</td>\n",
       "      <td>ipanema coffees</td>\n",
       "      <td>Brazil</td>\n",
       "      <td>fazenda rio verde</td>\n",
       "      <td>None</td>\n",
       "      <td>ipanema coffees</td>\n",
       "      <td>002/4177/0121</td>\n",
       "      <td>ipanema coffees</td>\n",
       "      <td>1260</td>\n",
       "      <td>...</td>\n",
       "      <td>Green</td>\n",
       "      <td>0.0</td>\n",
       "      <td>December 26th, 2014</td>\n",
       "      <td>Specialty Coffee Association</td>\n",
       "      <td>36d0d00a3724338ba7937c52a378d085f2172daa</td>\n",
       "      <td>0878a7d4b9d35ddbf0fe2ce69a2062cceb45a660</td>\n",
       "      <td>m</td>\n",
       "      <td>1260.0</td>\n",
       "      <td>1260.0</td>\n",
       "      <td>1260.0</td>\n",
       "    </tr>\n",
       "    <tr>\n",
       "      <th>784</th>\n",
       "      <td>82.08</td>\n",
       "      <td>Arabica</td>\n",
       "      <td>cafe politico</td>\n",
       "      <td>Colombia</td>\n",
       "      <td>None</td>\n",
       "      <td>None</td>\n",
       "      <td>None</td>\n",
       "      <td>3-59-1656</td>\n",
       "      <td>cafe politico</td>\n",
       "      <td>None</td>\n",
       "      <td>...</td>\n",
       "      <td>Green</td>\n",
       "      <td>0.0</td>\n",
       "      <td>September 12th, 2015</td>\n",
       "      <td>Specialty Coffee Association</td>\n",
       "      <td>36d0d00a3724338ba7937c52a378d085f2172daa</td>\n",
       "      <td>0878a7d4b9d35ddbf0fe2ce69a2062cceb45a660</td>\n",
       "      <td>m</td>\n",
       "      <td>NaN</td>\n",
       "      <td>NaN</td>\n",
       "      <td>NaN</td>\n",
       "    </tr>\n",
       "    <tr>\n",
       "      <th>648</th>\n",
       "      <td>82.58</td>\n",
       "      <td>Arabica</td>\n",
       "      <td>exportadora de cafe condor s.a</td>\n",
       "      <td>Colombia</td>\n",
       "      <td>None</td>\n",
       "      <td>None</td>\n",
       "      <td>trilladora boananza</td>\n",
       "      <td>3-68-0140</td>\n",
       "      <td>exportadora de cafe condor s.a</td>\n",
       "      <td>1750 msnm</td>\n",
       "      <td>...</td>\n",
       "      <td>Green</td>\n",
       "      <td>0.0</td>\n",
       "      <td>February 27th, 2014</td>\n",
       "      <td>Almacafé</td>\n",
       "      <td>e493c36c2d076bf273064f7ac23ad562af257a25</td>\n",
       "      <td>70d3c0c26f89e00fdae6fb39ff54f0d2eb1c38ab</td>\n",
       "      <td>m</td>\n",
       "      <td>1750.0</td>\n",
       "      <td>1750.0</td>\n",
       "      <td>1750.0</td>\n",
       "    </tr>\n",
       "    <tr>\n",
       "      <th>155</th>\n",
       "      <td>84.58</td>\n",
       "      <td>Arabica</td>\n",
       "      <td>exportadora de cafe condor s.a</td>\n",
       "      <td>Colombia</td>\n",
       "      <td>various</td>\n",
       "      <td>None</td>\n",
       "      <td>trilladora boananza</td>\n",
       "      <td>3-68-0005</td>\n",
       "      <td>exportadora de cafe condor s.a</td>\n",
       "      <td>1800 msnm</td>\n",
       "      <td>...</td>\n",
       "      <td>Green</td>\n",
       "      <td>6.0</td>\n",
       "      <td>October 9th, 2013</td>\n",
       "      <td>Almacafé</td>\n",
       "      <td>e493c36c2d076bf273064f7ac23ad562af257a25</td>\n",
       "      <td>70d3c0c26f89e00fdae6fb39ff54f0d2eb1c38ab</td>\n",
       "      <td>m</td>\n",
       "      <td>1800.0</td>\n",
       "      <td>1800.0</td>\n",
       "      <td>1800.0</td>\n",
       "    </tr>\n",
       "  </tbody>\n",
       "</table>\n",
       "<p>5 rows × 43 columns</p>\n",
       "</div>"
      ],
      "text/plain": [
       "     total_cup_points  species                           owner  \\\n",
       "437             83.25  Arabica  exportadora de cafe condor s.a   \n",
       "285             83.83  Arabica                 ipanema coffees   \n",
       "784             82.08  Arabica                   cafe politico   \n",
       "648             82.58  Arabica  exportadora de cafe condor s.a   \n",
       "155             84.58  Arabica  exportadora de cafe condor s.a   \n",
       "\n",
       "    country_of_origin          farm_name lot_number  \\\n",
       "437          Colombia               None       None   \n",
       "285            Brazil  fazenda rio verde       None   \n",
       "784          Colombia               None       None   \n",
       "648          Colombia               None       None   \n",
       "155          Colombia            various       None   \n",
       "\n",
       "                                      mill     ico_number  \\\n",
       "437  trilladora bonanza - armenia quindioa      3-68-0205   \n",
       "285                        ipanema coffees  002/4177/0121   \n",
       "784                                   None      3-59-1656   \n",
       "648                    trilladora boananza      3-68-0140   \n",
       "155                    trilladora boananza      3-68-0005   \n",
       "\n",
       "                            company       altitude  ...  color  \\\n",
       "437                            None  1600-1800msnm  ...   None   \n",
       "285                 ipanema coffees           1260  ...  Green   \n",
       "784                   cafe politico           None  ...  Green   \n",
       "648  exportadora de cafe condor s.a      1750 msnm  ...  Green   \n",
       "155  exportadora de cafe condor s.a      1800 msnm  ...  Green   \n",
       "\n",
       "    category_two_defects            expiration            certification_body  \\\n",
       "437                  0.0       June 13th, 2012                      Almacafé   \n",
       "285                  0.0   December 26th, 2014  Specialty Coffee Association   \n",
       "784                  0.0  September 12th, 2015  Specialty Coffee Association   \n",
       "648                  0.0   February 27th, 2014                      Almacafé   \n",
       "155                  6.0     October 9th, 2013                      Almacafé   \n",
       "\n",
       "                        certification_address  \\\n",
       "437  e493c36c2d076bf273064f7ac23ad562af257a25   \n",
       "285  36d0d00a3724338ba7937c52a378d085f2172daa   \n",
       "784  36d0d00a3724338ba7937c52a378d085f2172daa   \n",
       "648  e493c36c2d076bf273064f7ac23ad562af257a25   \n",
       "155  e493c36c2d076bf273064f7ac23ad562af257a25   \n",
       "\n",
       "                        certification_contact unit_of_measurement  \\\n",
       "437  70d3c0c26f89e00fdae6fb39ff54f0d2eb1c38ab                   m   \n",
       "285  0878a7d4b9d35ddbf0fe2ce69a2062cceb45a660                   m   \n",
       "784  0878a7d4b9d35ddbf0fe2ce69a2062cceb45a660                   m   \n",
       "648  70d3c0c26f89e00fdae6fb39ff54f0d2eb1c38ab                   m   \n",
       "155  70d3c0c26f89e00fdae6fb39ff54f0d2eb1c38ab                   m   \n",
       "\n",
       "    altitude_low_meters altitude_high_meters altitude_mean_meters  \n",
       "437              1600.0               1800.0               1700.0  \n",
       "285              1260.0               1260.0               1260.0  \n",
       "784                 NaN                  NaN                  NaN  \n",
       "648              1750.0               1750.0               1750.0  \n",
       "155              1800.0               1800.0               1800.0  \n",
       "\n",
       "[5 rows x 43 columns]"
      ]
     },
     "execution_count": 31,
     "metadata": {},
     "output_type": "execute_result"
    }
   ],
   "source": [
    "coffee_ratings.sample(n=5, random_state=19000113) # random_state is the seed of sample"
   ]
  },
  {
   "cell_type": "markdown",
   "id": "0c3d65d1",
   "metadata": {},
   "source": [
    "> A seed makes reproducible results.\n",
    "\n",
    "###### Systematic sampling\n",
    "\n"
   ]
  },
  {
   "cell_type": "code",
   "execution_count": 32,
   "id": "eedb9a3b",
   "metadata": {},
   "outputs": [
    {
     "data": {
      "text/plain": [
       "1338"
      ]
     },
     "execution_count": 32,
     "metadata": {},
     "output_type": "execute_result"
    }
   ],
   "source": [
    "sample_size = 5\n",
    "pop_size = len(coffee_ratings)\n",
    "pop_size"
   ]
  },
  {
   "cell_type": "code",
   "execution_count": 33,
   "id": "bf1cac2e",
   "metadata": {},
   "outputs": [
    {
     "data": {
      "text/plain": [
       "267"
      ]
     },
     "execution_count": 33,
     "metadata": {},
     "output_type": "execute_result"
    }
   ],
   "source": [
    "interval = pop_size // sample_size\n",
    "interval"
   ]
  },
  {
   "cell_type": "code",
   "execution_count": 34,
   "id": "8474d3a0",
   "metadata": {},
   "outputs": [
    {
     "data": {
      "text/html": [
       "<div>\n",
       "<style scoped>\n",
       "    .dataframe tbody tr th:only-of-type {\n",
       "        vertical-align: middle;\n",
       "    }\n",
       "\n",
       "    .dataframe tbody tr th {\n",
       "        vertical-align: top;\n",
       "    }\n",
       "\n",
       "    .dataframe thead th {\n",
       "        text-align: right;\n",
       "    }\n",
       "</style>\n",
       "<table border=\"1\" class=\"dataframe\">\n",
       "  <thead>\n",
       "    <tr style=\"text-align: right;\">\n",
       "      <th></th>\n",
       "      <th>total_cup_points</th>\n",
       "      <th>species</th>\n",
       "      <th>owner</th>\n",
       "      <th>country_of_origin</th>\n",
       "      <th>farm_name</th>\n",
       "      <th>lot_number</th>\n",
       "      <th>mill</th>\n",
       "      <th>ico_number</th>\n",
       "      <th>company</th>\n",
       "      <th>altitude</th>\n",
       "      <th>...</th>\n",
       "      <th>color</th>\n",
       "      <th>category_two_defects</th>\n",
       "      <th>expiration</th>\n",
       "      <th>certification_body</th>\n",
       "      <th>certification_address</th>\n",
       "      <th>certification_contact</th>\n",
       "      <th>unit_of_measurement</th>\n",
       "      <th>altitude_low_meters</th>\n",
       "      <th>altitude_high_meters</th>\n",
       "      <th>altitude_mean_meters</th>\n",
       "    </tr>\n",
       "  </thead>\n",
       "  <tbody>\n",
       "    <tr>\n",
       "      <th>0</th>\n",
       "      <td>90.58</td>\n",
       "      <td>Arabica</td>\n",
       "      <td>metad plc</td>\n",
       "      <td>Ethiopia</td>\n",
       "      <td>metad plc</td>\n",
       "      <td>None</td>\n",
       "      <td>metad plc</td>\n",
       "      <td>2014/2015</td>\n",
       "      <td>metad agricultural developmet plc</td>\n",
       "      <td>1950-2200</td>\n",
       "      <td>...</td>\n",
       "      <td>Green</td>\n",
       "      <td>0.0</td>\n",
       "      <td>April 3rd, 2016</td>\n",
       "      <td>METAD Agricultural Development plc</td>\n",
       "      <td>309fcf77415a3661ae83e027f7e5f05dad786e44</td>\n",
       "      <td>19fef5a731de2db57d16da10287413f5f99bc2dd</td>\n",
       "      <td>m</td>\n",
       "      <td>1950.0</td>\n",
       "      <td>2200.0</td>\n",
       "      <td>2075.0</td>\n",
       "    </tr>\n",
       "    <tr>\n",
       "      <th>267</th>\n",
       "      <td>83.92</td>\n",
       "      <td>Arabica</td>\n",
       "      <td>federacion nacional de cafeteros</td>\n",
       "      <td>Colombia</td>\n",
       "      <td>None</td>\n",
       "      <td>None</td>\n",
       "      <td>None</td>\n",
       "      <td>01-1969</td>\n",
       "      <td>federacion nacional de cafeteros</td>\n",
       "      <td>None</td>\n",
       "      <td>...</td>\n",
       "      <td>None</td>\n",
       "      <td>1.0</td>\n",
       "      <td>March 11th, 2016</td>\n",
       "      <td>Almacafé</td>\n",
       "      <td>e493c36c2d076bf273064f7ac23ad562af257a25</td>\n",
       "      <td>70d3c0c26f89e00fdae6fb39ff54f0d2eb1c38ab</td>\n",
       "      <td>m</td>\n",
       "      <td>NaN</td>\n",
       "      <td>NaN</td>\n",
       "      <td>NaN</td>\n",
       "    </tr>\n",
       "    <tr>\n",
       "      <th>534</th>\n",
       "      <td>82.92</td>\n",
       "      <td>Arabica</td>\n",
       "      <td>consejo salvadoreño del café</td>\n",
       "      <td>El Salvador</td>\n",
       "      <td>santa josefita</td>\n",
       "      <td>1-198</td>\n",
       "      <td>beneficio cuzcachapa</td>\n",
       "      <td>09-030-273</td>\n",
       "      <td>soc. coop. cuzcachapa de r.l.</td>\n",
       "      <td>1350</td>\n",
       "      <td>...</td>\n",
       "      <td>Green</td>\n",
       "      <td>1.0</td>\n",
       "      <td>August 28th, 2018</td>\n",
       "      <td>Salvadoran Coffee Council</td>\n",
       "      <td>3d4987e3b91399dbb3938b5bdf53893b6ef45be1</td>\n",
       "      <td>27b21e368fb8291cbea02c60623fe6c98f84524d</td>\n",
       "      <td>m</td>\n",
       "      <td>1350.0</td>\n",
       "      <td>1350.0</td>\n",
       "      <td>1350.0</td>\n",
       "    </tr>\n",
       "    <tr>\n",
       "      <th>801</th>\n",
       "      <td>82.00</td>\n",
       "      <td>Arabica</td>\n",
       "      <td>lin, che-hao krude 林哲豪</td>\n",
       "      <td>Taiwan</td>\n",
       "      <td>you siang coffee farmtainan, taiwan 台灣台南優香咖啡</td>\n",
       "      <td>None</td>\n",
       "      <td>you siang coffee farmtainan, taiwan 台灣台南優香咖啡</td>\n",
       "      <td>Taiwan</td>\n",
       "      <td>red on tree co., ltd.</td>\n",
       "      <td>600m</td>\n",
       "      <td>...</td>\n",
       "      <td>Green</td>\n",
       "      <td>0.0</td>\n",
       "      <td>July 22nd, 2015</td>\n",
       "      <td>Specialty Coffee Association</td>\n",
       "      <td>36d0d00a3724338ba7937c52a378d085f2172daa</td>\n",
       "      <td>0878a7d4b9d35ddbf0fe2ce69a2062cceb45a660</td>\n",
       "      <td>m</td>\n",
       "      <td>600.0</td>\n",
       "      <td>600.0</td>\n",
       "      <td>600.0</td>\n",
       "    </tr>\n",
       "    <tr>\n",
       "      <th>1068</th>\n",
       "      <td>80.50</td>\n",
       "      <td>Arabica</td>\n",
       "      <td>cqi taiwan icp cqi台灣合作夥伴</td>\n",
       "      <td>Taiwan</td>\n",
       "      <td>王秋金</td>\n",
       "      <td>1</td>\n",
       "      <td>non</td>\n",
       "      <td>None</td>\n",
       "      <td>王秋金</td>\n",
       "      <td>50</td>\n",
       "      <td>...</td>\n",
       "      <td>Blue-Green</td>\n",
       "      <td>0.0</td>\n",
       "      <td>December 8th, 2018</td>\n",
       "      <td>Blossom Valley International</td>\n",
       "      <td>fc45352eee499d8470cf94c9827922fb745bf815</td>\n",
       "      <td>de73fc9412358b523d3a641501e542f31d2668b0</td>\n",
       "      <td>m</td>\n",
       "      <td>50.0</td>\n",
       "      <td>50.0</td>\n",
       "      <td>50.0</td>\n",
       "    </tr>\n",
       "    <tr>\n",
       "      <th>1335</th>\n",
       "      <td>77.17</td>\n",
       "      <td>Robusta</td>\n",
       "      <td>james moore</td>\n",
       "      <td>United States</td>\n",
       "      <td>fazenda cazengo</td>\n",
       "      <td>None</td>\n",
       "      <td>cafe cazengo</td>\n",
       "      <td>None</td>\n",
       "      <td>global opportunity fund</td>\n",
       "      <td>795 meters</td>\n",
       "      <td>...</td>\n",
       "      <td>None</td>\n",
       "      <td>6.0</td>\n",
       "      <td>December 23rd, 2015</td>\n",
       "      <td>Specialty Coffee Association</td>\n",
       "      <td>ff7c18ad303d4b603ac3f8cff7e611ffc735e720</td>\n",
       "      <td>352d0cf7f3e9be14dad7df644ad65efc27605ae2</td>\n",
       "      <td>m</td>\n",
       "      <td>795.0</td>\n",
       "      <td>795.0</td>\n",
       "      <td>795.0</td>\n",
       "    </tr>\n",
       "  </tbody>\n",
       "</table>\n",
       "<p>6 rows × 43 columns</p>\n",
       "</div>"
      ],
      "text/plain": [
       "      total_cup_points  species                             owner  \\\n",
       "0                90.58  Arabica                         metad plc   \n",
       "267              83.92  Arabica  federacion nacional de cafeteros   \n",
       "534              82.92  Arabica      consejo salvadoreño del café   \n",
       "801              82.00  Arabica            lin, che-hao krude 林哲豪   \n",
       "1068             80.50  Arabica          cqi taiwan icp cqi台灣合作夥伴   \n",
       "1335             77.17  Robusta                       james moore   \n",
       "\n",
       "     country_of_origin                                     farm_name  \\\n",
       "0             Ethiopia                                     metad plc   \n",
       "267           Colombia                                          None   \n",
       "534        El Salvador                                santa josefita   \n",
       "801             Taiwan  you siang coffee farmtainan, taiwan 台灣台南優香咖啡   \n",
       "1068            Taiwan                                           王秋金   \n",
       "1335     United States                               fazenda cazengo   \n",
       "\n",
       "     lot_number                                          mill  ico_number  \\\n",
       "0          None                                     metad plc   2014/2015   \n",
       "267        None                                          None     01-1969   \n",
       "534       1-198                          beneficio cuzcachapa  09-030-273   \n",
       "801        None  you siang coffee farmtainan, taiwan 台灣台南優香咖啡      Taiwan   \n",
       "1068          1                                           non        None   \n",
       "1335       None                                  cafe cazengo        None   \n",
       "\n",
       "                                company    altitude  ...       color  \\\n",
       "0     metad agricultural developmet plc   1950-2200  ...       Green   \n",
       "267    federacion nacional de cafeteros        None  ...        None   \n",
       "534       soc. coop. cuzcachapa de r.l.        1350  ...       Green   \n",
       "801               red on tree co., ltd.        600m  ...       Green   \n",
       "1068                                王秋金          50  ...  Blue-Green   \n",
       "1335            global opportunity fund  795 meters  ...        None   \n",
       "\n",
       "     category_two_defects           expiration  \\\n",
       "0                     0.0      April 3rd, 2016   \n",
       "267                   1.0     March 11th, 2016   \n",
       "534                   1.0    August 28th, 2018   \n",
       "801                   0.0      July 22nd, 2015   \n",
       "1068                  0.0   December 8th, 2018   \n",
       "1335                  6.0  December 23rd, 2015   \n",
       "\n",
       "                      certification_body  \\\n",
       "0     METAD Agricultural Development plc   \n",
       "267                             Almacafé   \n",
       "534            Salvadoran Coffee Council   \n",
       "801         Specialty Coffee Association   \n",
       "1068        Blossom Valley International   \n",
       "1335        Specialty Coffee Association   \n",
       "\n",
       "                         certification_address  \\\n",
       "0     309fcf77415a3661ae83e027f7e5f05dad786e44   \n",
       "267   e493c36c2d076bf273064f7ac23ad562af257a25   \n",
       "534   3d4987e3b91399dbb3938b5bdf53893b6ef45be1   \n",
       "801   36d0d00a3724338ba7937c52a378d085f2172daa   \n",
       "1068  fc45352eee499d8470cf94c9827922fb745bf815   \n",
       "1335  ff7c18ad303d4b603ac3f8cff7e611ffc735e720   \n",
       "\n",
       "                         certification_contact unit_of_measurement  \\\n",
       "0     19fef5a731de2db57d16da10287413f5f99bc2dd                   m   \n",
       "267   70d3c0c26f89e00fdae6fb39ff54f0d2eb1c38ab                   m   \n",
       "534   27b21e368fb8291cbea02c60623fe6c98f84524d                   m   \n",
       "801   0878a7d4b9d35ddbf0fe2ce69a2062cceb45a660                   m   \n",
       "1068  de73fc9412358b523d3a641501e542f31d2668b0                   m   \n",
       "1335  352d0cf7f3e9be14dad7df644ad65efc27605ae2                   m   \n",
       "\n",
       "     altitude_low_meters altitude_high_meters altitude_mean_meters  \n",
       "0                 1950.0               2200.0               2075.0  \n",
       "267                  NaN                  NaN                  NaN  \n",
       "534               1350.0               1350.0               1350.0  \n",
       "801                600.0                600.0                600.0  \n",
       "1068                50.0                 50.0                 50.0  \n",
       "1335               795.0                795.0                795.0  \n",
       "\n",
       "[6 rows x 43 columns]"
      ]
     },
     "execution_count": 34,
     "metadata": {},
     "output_type": "execute_result"
    }
   ],
   "source": [
    "coffee_ratings.iloc[::interval]"
   ]
  },
  {
   "cell_type": "markdown",
   "id": "7abb4b05",
   "metadata": {},
   "source": [
    "> Double-colon interval tells pandas to select every 267 row from 0 to the end of the DataFrame.\n",
    "\n",
    "**Downfalls of systematic sampling**"
   ]
  },
  {
   "cell_type": "code",
   "execution_count": 35,
   "id": "af4a5c10",
   "metadata": {},
   "outputs": [
    {
     "data": {
      "image/png": "[encoded data removed]",
      "text/plain": [
       "<Figure size 432x288 with 1 Axes>"
      ]
     },
     "metadata": {
      "needs_background": "light"
     },
     "output_type": "display_data"
    }
   ],
   "source": [
    "coffee_ratings_with_id = coffee_ratings.reset_index()\n",
    "coffee_ratings_with_id.plot(x='index', y='aftertaste', kind='scatter')\n",
    "plt.show()"
   ]
  },
  {
   "cell_type": "markdown",
   "id": "32c52ad5",
   "metadata": {},
   "source": [
    "> Plotting aftertaste against index shows a pattern. Earlier rows generally have higher aftertaste scores than later rows.\n",
    "\n",
    "> This introduces bias into the statistics that we calculate.\n",
    "\n",
    "> **Systematic sampling in only safe if we do NOT see a pattern in the scatter plot.**"
   ]
  },
  {
   "cell_type": "markdown",
   "id": "24dd0b1e",
   "metadata": {},
   "source": [
    "###### Making systematic sampling safe"
   ]
  },
  {
   "cell_type": "code",
   "execution_count": 36,
   "id": "7db6b2f4",
   "metadata": {},
   "outputs": [
    {
     "data": {
      "image/png": "[encoded data removed]",
      "text/plain": [
       "<Figure size 432x288 with 1 Axes>"
      ]
     },
     "metadata": {
      "needs_background": "light"
     },
     "output_type": "display_data"
    }
   ],
   "source": [
    "shuffled = coffee_ratings.sample(frac=1) # Setting frac = 1 randomly samples the whole dataset.\n",
    "shuffled = shuffled.reset_index(drop=True).reset_index()\n",
    "shuffled.plot(x='index', y='aftertaste', kind='scatter')\n",
    "plt.show()"
   ]
  },
  {
   "cell_type": "markdown",
   "id": "10ad475e",
   "metadata": {},
   "source": [
    "> There is not a pattern between aftertaste and index.\n",
    "\n",
    "> **Shuffling rows + systematic sampling is the same as simple random sampling.**\n",
    "### Simple random sampling\n"
   ]
  },
  {
   "cell_type": "code",
   "execution_count": 37,
   "id": "57e0ad16",
   "metadata": {},
   "outputs": [
    {
     "data": {
      "text/html": [
       "<div>\n",
       "<style scoped>\n",
       "    .dataframe tbody tr th:only-of-type {\n",
       "        vertical-align: middle;\n",
       "    }\n",
       "\n",
       "    .dataframe tbody tr th {\n",
       "        vertical-align: top;\n",
       "    }\n",
       "\n",
       "    .dataframe thead th {\n",
       "        text-align: right;\n",
       "    }\n",
       "</style>\n",
       "<table border=\"1\" class=\"dataframe\">\n",
       "  <thead>\n",
       "    <tr style=\"text-align: right;\">\n",
       "      <th></th>\n",
       "      <th>Age</th>\n",
       "      <th>Attrition</th>\n",
       "      <th>BusinessTravel</th>\n",
       "      <th>DailyRate</th>\n",
       "      <th>Department</th>\n",
       "      <th>DistanceFromHome</th>\n",
       "      <th>Education</th>\n",
       "      <th>EducationField</th>\n",
       "      <th>EnvironmentSatisfaction</th>\n",
       "      <th>Gender</th>\n",
       "      <th>...</th>\n",
       "      <th>PerformanceRating</th>\n",
       "      <th>RelationshipSatisfaction</th>\n",
       "      <th>StockOptionLevel</th>\n",
       "      <th>TotalWorkingYears</th>\n",
       "      <th>TrainingTimesLastYear</th>\n",
       "      <th>WorkLifeBalance</th>\n",
       "      <th>YearsAtCompany</th>\n",
       "      <th>YearsInCurrentRole</th>\n",
       "      <th>YearsSinceLastPromotion</th>\n",
       "      <th>YearsWithCurrManager</th>\n",
       "    </tr>\n",
       "  </thead>\n",
       "  <tbody>\n",
       "    <tr>\n",
       "      <th>0</th>\n",
       "      <td>21</td>\n",
       "      <td>0.0</td>\n",
       "      <td>Travel_Rarely</td>\n",
       "      <td>391</td>\n",
       "      <td>Research_Development</td>\n",
       "      <td>15</td>\n",
       "      <td>College</td>\n",
       "      <td>Life_Sciences</td>\n",
       "      <td>High</td>\n",
       "      <td>Male</td>\n",
       "      <td>...</td>\n",
       "      <td>Excellent</td>\n",
       "      <td>Very_High</td>\n",
       "      <td>0</td>\n",
       "      <td>0</td>\n",
       "      <td>6</td>\n",
       "      <td>Better</td>\n",
       "      <td>0</td>\n",
       "      <td>0</td>\n",
       "      <td>0</td>\n",
       "      <td>0</td>\n",
       "    </tr>\n",
       "    <tr>\n",
       "      <th>1</th>\n",
       "      <td>19</td>\n",
       "      <td>1.0</td>\n",
       "      <td>Travel_Rarely</td>\n",
       "      <td>528</td>\n",
       "      <td>Sales</td>\n",
       "      <td>22</td>\n",
       "      <td>Below_College</td>\n",
       "      <td>Marketing</td>\n",
       "      <td>Very_High</td>\n",
       "      <td>Male</td>\n",
       "      <td>...</td>\n",
       "      <td>Excellent</td>\n",
       "      <td>Very_High</td>\n",
       "      <td>0</td>\n",
       "      <td>0</td>\n",
       "      <td>2</td>\n",
       "      <td>Good</td>\n",
       "      <td>0</td>\n",
       "      <td>0</td>\n",
       "      <td>0</td>\n",
       "      <td>0</td>\n",
       "    </tr>\n",
       "    <tr>\n",
       "      <th>2</th>\n",
       "      <td>18</td>\n",
       "      <td>1.0</td>\n",
       "      <td>Travel_Rarely</td>\n",
       "      <td>230</td>\n",
       "      <td>Research_Development</td>\n",
       "      <td>3</td>\n",
       "      <td>Bachelor</td>\n",
       "      <td>Life_Sciences</td>\n",
       "      <td>High</td>\n",
       "      <td>Male</td>\n",
       "      <td>...</td>\n",
       "      <td>Excellent</td>\n",
       "      <td>High</td>\n",
       "      <td>0</td>\n",
       "      <td>0</td>\n",
       "      <td>2</td>\n",
       "      <td>Better</td>\n",
       "      <td>0</td>\n",
       "      <td>0</td>\n",
       "      <td>0</td>\n",
       "      <td>0</td>\n",
       "    </tr>\n",
       "    <tr>\n",
       "      <th>3</th>\n",
       "      <td>18</td>\n",
       "      <td>0.0</td>\n",
       "      <td>Travel_Rarely</td>\n",
       "      <td>812</td>\n",
       "      <td>Sales</td>\n",
       "      <td>10</td>\n",
       "      <td>Bachelor</td>\n",
       "      <td>Medical</td>\n",
       "      <td>Very_High</td>\n",
       "      <td>Female</td>\n",
       "      <td>...</td>\n",
       "      <td>Excellent</td>\n",
       "      <td>Low</td>\n",
       "      <td>0</td>\n",
       "      <td>0</td>\n",
       "      <td>2</td>\n",
       "      <td>Better</td>\n",
       "      <td>0</td>\n",
       "      <td>0</td>\n",
       "      <td>0</td>\n",
       "      <td>0</td>\n",
       "    </tr>\n",
       "    <tr>\n",
       "      <th>4</th>\n",
       "      <td>18</td>\n",
       "      <td>1.0</td>\n",
       "      <td>Travel_Frequently</td>\n",
       "      <td>1306</td>\n",
       "      <td>Sales</td>\n",
       "      <td>5</td>\n",
       "      <td>Bachelor</td>\n",
       "      <td>Marketing</td>\n",
       "      <td>Medium</td>\n",
       "      <td>Male</td>\n",
       "      <td>...</td>\n",
       "      <td>Excellent</td>\n",
       "      <td>Very_High</td>\n",
       "      <td>0</td>\n",
       "      <td>0</td>\n",
       "      <td>3</td>\n",
       "      <td>Better</td>\n",
       "      <td>0</td>\n",
       "      <td>0</td>\n",
       "      <td>0</td>\n",
       "      <td>0</td>\n",
       "    </tr>\n",
       "  </tbody>\n",
       "</table>\n",
       "<p>5 rows × 31 columns</p>\n",
       "</div>"
      ],
      "text/plain": [
       "   Age  Attrition     BusinessTravel  DailyRate            Department  \\\n",
       "0   21        0.0      Travel_Rarely        391  Research_Development   \n",
       "1   19        1.0      Travel_Rarely        528                 Sales   \n",
       "2   18        1.0      Travel_Rarely        230  Research_Development   \n",
       "3   18        0.0      Travel_Rarely        812                 Sales   \n",
       "4   18        1.0  Travel_Frequently       1306                 Sales   \n",
       "\n",
       "   DistanceFromHome      Education EducationField EnvironmentSatisfaction  \\\n",
       "0                15        College  Life_Sciences                    High   \n",
       "1                22  Below_College      Marketing               Very_High   \n",
       "2                 3       Bachelor  Life_Sciences                    High   \n",
       "3                10       Bachelor        Medical               Very_High   \n",
       "4                 5       Bachelor      Marketing                  Medium   \n",
       "\n",
       "   Gender  ...  PerformanceRating RelationshipSatisfaction  StockOptionLevel  \\\n",
       "0    Male  ...          Excellent                Very_High                 0   \n",
       "1    Male  ...          Excellent                Very_High                 0   \n",
       "2    Male  ...          Excellent                     High                 0   \n",
       "3  Female  ...          Excellent                      Low                 0   \n",
       "4    Male  ...          Excellent                Very_High                 0   \n",
       "\n",
       "  TotalWorkingYears TrainingTimesLastYear WorkLifeBalance  YearsAtCompany  \\\n",
       "0                 0                     6          Better               0   \n",
       "1                 0                     2            Good               0   \n",
       "2                 0                     2          Better               0   \n",
       "3                 0                     2          Better               0   \n",
       "4                 0                     3          Better               0   \n",
       "\n",
       "   YearsInCurrentRole  YearsSinceLastPromotion YearsWithCurrManager  \n",
       "0                   0                        0                    0  \n",
       "1                   0                        0                    0  \n",
       "2                   0                        0                    0  \n",
       "3                   0                        0                    0  \n",
       "4                   0                        0                    0  \n",
       "\n",
       "[5 rows x 31 columns]"
      ]
     },
     "execution_count": 37,
     "metadata": {},
     "output_type": "execute_result"
    }
   ],
   "source": [
    "attrition_pop = pd.read_feather('attrition.feather')\n",
    "attrition_pop.head()"
   ]
  },
  {
   "cell_type": "code",
   "execution_count": 38,
   "id": "813af998",
   "metadata": {},
   "outputs": [
    {
     "data": {
      "text/html": [
       "<div>\n",
       "<style scoped>\n",
       "    .dataframe tbody tr th:only-of-type {\n",
       "        vertical-align: middle;\n",
       "    }\n",
       "\n",
       "    .dataframe tbody tr th {\n",
       "        vertical-align: top;\n",
       "    }\n",
       "\n",
       "    .dataframe thead th {\n",
       "        text-align: right;\n",
       "    }\n",
       "</style>\n",
       "<table border=\"1\" class=\"dataframe\">\n",
       "  <thead>\n",
       "    <tr style=\"text-align: right;\">\n",
       "      <th></th>\n",
       "      <th>Age</th>\n",
       "      <th>Attrition</th>\n",
       "      <th>BusinessTravel</th>\n",
       "      <th>DailyRate</th>\n",
       "      <th>Department</th>\n",
       "      <th>DistanceFromHome</th>\n",
       "      <th>Education</th>\n",
       "      <th>EducationField</th>\n",
       "      <th>EnvironmentSatisfaction</th>\n",
       "      <th>Gender</th>\n",
       "      <th>...</th>\n",
       "      <th>PerformanceRating</th>\n",
       "      <th>RelationshipSatisfaction</th>\n",
       "      <th>StockOptionLevel</th>\n",
       "      <th>TotalWorkingYears</th>\n",
       "      <th>TrainingTimesLastYear</th>\n",
       "      <th>WorkLifeBalance</th>\n",
       "      <th>YearsAtCompany</th>\n",
       "      <th>YearsInCurrentRole</th>\n",
       "      <th>YearsSinceLastPromotion</th>\n",
       "      <th>YearsWithCurrManager</th>\n",
       "    </tr>\n",
       "  </thead>\n",
       "  <tbody>\n",
       "    <tr>\n",
       "      <th>1134</th>\n",
       "      <td>35</td>\n",
       "      <td>0.0</td>\n",
       "      <td>Travel_Rarely</td>\n",
       "      <td>583</td>\n",
       "      <td>Research_Development</td>\n",
       "      <td>25</td>\n",
       "      <td>Master</td>\n",
       "      <td>Medical</td>\n",
       "      <td>High</td>\n",
       "      <td>Female</td>\n",
       "      <td>...</td>\n",
       "      <td>Excellent</td>\n",
       "      <td>High</td>\n",
       "      <td>1</td>\n",
       "      <td>16</td>\n",
       "      <td>3</td>\n",
       "      <td>Good</td>\n",
       "      <td>16</td>\n",
       "      <td>10</td>\n",
       "      <td>10</td>\n",
       "      <td>1</td>\n",
       "    </tr>\n",
       "    <tr>\n",
       "      <th>1150</th>\n",
       "      <td>52</td>\n",
       "      <td>0.0</td>\n",
       "      <td>Non-Travel</td>\n",
       "      <td>585</td>\n",
       "      <td>Sales</td>\n",
       "      <td>29</td>\n",
       "      <td>Master</td>\n",
       "      <td>Life_Sciences</td>\n",
       "      <td>Low</td>\n",
       "      <td>Male</td>\n",
       "      <td>...</td>\n",
       "      <td>Excellent</td>\n",
       "      <td>Medium</td>\n",
       "      <td>2</td>\n",
       "      <td>16</td>\n",
       "      <td>3</td>\n",
       "      <td>Good</td>\n",
       "      <td>9</td>\n",
       "      <td>8</td>\n",
       "      <td>0</td>\n",
       "      <td>0</td>\n",
       "    </tr>\n",
       "    <tr>\n",
       "      <th>531</th>\n",
       "      <td>33</td>\n",
       "      <td>0.0</td>\n",
       "      <td>Travel_Rarely</td>\n",
       "      <td>931</td>\n",
       "      <td>Research_Development</td>\n",
       "      <td>14</td>\n",
       "      <td>Bachelor</td>\n",
       "      <td>Medical</td>\n",
       "      <td>Very_High</td>\n",
       "      <td>Female</td>\n",
       "      <td>...</td>\n",
       "      <td>Excellent</td>\n",
       "      <td>Very_High</td>\n",
       "      <td>1</td>\n",
       "      <td>8</td>\n",
       "      <td>5</td>\n",
       "      <td>Better</td>\n",
       "      <td>8</td>\n",
       "      <td>7</td>\n",
       "      <td>1</td>\n",
       "      <td>6</td>\n",
       "    </tr>\n",
       "    <tr>\n",
       "      <th>395</th>\n",
       "      <td>31</td>\n",
       "      <td>0.0</td>\n",
       "      <td>Travel_Rarely</td>\n",
       "      <td>1332</td>\n",
       "      <td>Research_Development</td>\n",
       "      <td>11</td>\n",
       "      <td>College</td>\n",
       "      <td>Medical</td>\n",
       "      <td>High</td>\n",
       "      <td>Male</td>\n",
       "      <td>...</td>\n",
       "      <td>Excellent</td>\n",
       "      <td>Very_High</td>\n",
       "      <td>0</td>\n",
       "      <td>6</td>\n",
       "      <td>2</td>\n",
       "      <td>Good</td>\n",
       "      <td>6</td>\n",
       "      <td>5</td>\n",
       "      <td>0</td>\n",
       "      <td>1</td>\n",
       "    </tr>\n",
       "    <tr>\n",
       "      <th>392</th>\n",
       "      <td>29</td>\n",
       "      <td>0.0</td>\n",
       "      <td>Travel_Rarely</td>\n",
       "      <td>942</td>\n",
       "      <td>Research_Development</td>\n",
       "      <td>15</td>\n",
       "      <td>Below_College</td>\n",
       "      <td>Life_Sciences</td>\n",
       "      <td>Medium</td>\n",
       "      <td>Female</td>\n",
       "      <td>...</td>\n",
       "      <td>Excellent</td>\n",
       "      <td>Low</td>\n",
       "      <td>1</td>\n",
       "      <td>6</td>\n",
       "      <td>2</td>\n",
       "      <td>Good</td>\n",
       "      <td>5</td>\n",
       "      <td>4</td>\n",
       "      <td>1</td>\n",
       "      <td>3</td>\n",
       "    </tr>\n",
       "    <tr>\n",
       "      <th>...</th>\n",
       "      <td>...</td>\n",
       "      <td>...</td>\n",
       "      <td>...</td>\n",
       "      <td>...</td>\n",
       "      <td>...</td>\n",
       "      <td>...</td>\n",
       "      <td>...</td>\n",
       "      <td>...</td>\n",
       "      <td>...</td>\n",
       "      <td>...</td>\n",
       "      <td>...</td>\n",
       "      <td>...</td>\n",
       "      <td>...</td>\n",
       "      <td>...</td>\n",
       "      <td>...</td>\n",
       "      <td>...</td>\n",
       "      <td>...</td>\n",
       "      <td>...</td>\n",
       "      <td>...</td>\n",
       "      <td>...</td>\n",
       "      <td>...</td>\n",
       "    </tr>\n",
       "    <tr>\n",
       "      <th>361</th>\n",
       "      <td>27</td>\n",
       "      <td>0.0</td>\n",
       "      <td>Travel_Frequently</td>\n",
       "      <td>1410</td>\n",
       "      <td>Sales</td>\n",
       "      <td>3</td>\n",
       "      <td>Below_College</td>\n",
       "      <td>Medical</td>\n",
       "      <td>Very_High</td>\n",
       "      <td>Female</td>\n",
       "      <td>...</td>\n",
       "      <td>Outstanding</td>\n",
       "      <td>Medium</td>\n",
       "      <td>2</td>\n",
       "      <td>6</td>\n",
       "      <td>3</td>\n",
       "      <td>Better</td>\n",
       "      <td>6</td>\n",
       "      <td>5</td>\n",
       "      <td>0</td>\n",
       "      <td>4</td>\n",
       "    </tr>\n",
       "    <tr>\n",
       "      <th>1180</th>\n",
       "      <td>36</td>\n",
       "      <td>0.0</td>\n",
       "      <td>Travel_Rarely</td>\n",
       "      <td>530</td>\n",
       "      <td>Sales</td>\n",
       "      <td>2</td>\n",
       "      <td>Master</td>\n",
       "      <td>Life_Sciences</td>\n",
       "      <td>High</td>\n",
       "      <td>Female</td>\n",
       "      <td>...</td>\n",
       "      <td>Excellent</td>\n",
       "      <td>High</td>\n",
       "      <td>0</td>\n",
       "      <td>17</td>\n",
       "      <td>2</td>\n",
       "      <td>Good</td>\n",
       "      <td>13</td>\n",
       "      <td>7</td>\n",
       "      <td>6</td>\n",
       "      <td>7</td>\n",
       "    </tr>\n",
       "    <tr>\n",
       "      <th>230</th>\n",
       "      <td>26</td>\n",
       "      <td>0.0</td>\n",
       "      <td>Travel_Rarely</td>\n",
       "      <td>1443</td>\n",
       "      <td>Sales</td>\n",
       "      <td>23</td>\n",
       "      <td>Bachelor</td>\n",
       "      <td>Marketing</td>\n",
       "      <td>High</td>\n",
       "      <td>Female</td>\n",
       "      <td>...</td>\n",
       "      <td>Excellent</td>\n",
       "      <td>High</td>\n",
       "      <td>1</td>\n",
       "      <td>5</td>\n",
       "      <td>2</td>\n",
       "      <td>Good</td>\n",
       "      <td>2</td>\n",
       "      <td>2</td>\n",
       "      <td>0</td>\n",
       "      <td>0</td>\n",
       "    </tr>\n",
       "    <tr>\n",
       "      <th>211</th>\n",
       "      <td>29</td>\n",
       "      <td>0.0</td>\n",
       "      <td>Travel_Frequently</td>\n",
       "      <td>410</td>\n",
       "      <td>Research_Development</td>\n",
       "      <td>2</td>\n",
       "      <td>Below_College</td>\n",
       "      <td>Life_Sciences</td>\n",
       "      <td>Very_High</td>\n",
       "      <td>Female</td>\n",
       "      <td>...</td>\n",
       "      <td>Excellent</td>\n",
       "      <td>High</td>\n",
       "      <td>3</td>\n",
       "      <td>4</td>\n",
       "      <td>3</td>\n",
       "      <td>Better</td>\n",
       "      <td>3</td>\n",
       "      <td>2</td>\n",
       "      <td>0</td>\n",
       "      <td>2</td>\n",
       "    </tr>\n",
       "    <tr>\n",
       "      <th>890</th>\n",
       "      <td>30</td>\n",
       "      <td>0.0</td>\n",
       "      <td>Travel_Frequently</td>\n",
       "      <td>1312</td>\n",
       "      <td>Research_Development</td>\n",
       "      <td>2</td>\n",
       "      <td>Master</td>\n",
       "      <td>Technical_Degree</td>\n",
       "      <td>Very_High</td>\n",
       "      <td>Female</td>\n",
       "      <td>...</td>\n",
       "      <td>Excellent</td>\n",
       "      <td>Very_High</td>\n",
       "      <td>0</td>\n",
       "      <td>10</td>\n",
       "      <td>2</td>\n",
       "      <td>Better</td>\n",
       "      <td>9</td>\n",
       "      <td>7</td>\n",
       "      <td>0</td>\n",
       "      <td>7</td>\n",
       "    </tr>\n",
       "  </tbody>\n",
       "</table>\n",
       "<p>70 rows × 31 columns</p>\n",
       "</div>"
      ],
      "text/plain": [
       "      Age  Attrition     BusinessTravel  DailyRate            Department  \\\n",
       "1134   35        0.0      Travel_Rarely        583  Research_Development   \n",
       "1150   52        0.0         Non-Travel        585                 Sales   \n",
       "531    33        0.0      Travel_Rarely        931  Research_Development   \n",
       "395    31        0.0      Travel_Rarely       1332  Research_Development   \n",
       "392    29        0.0      Travel_Rarely        942  Research_Development   \n",
       "...   ...        ...                ...        ...                   ...   \n",
       "361    27        0.0  Travel_Frequently       1410                 Sales   \n",
       "1180   36        0.0      Travel_Rarely        530                 Sales   \n",
       "230    26        0.0      Travel_Rarely       1443                 Sales   \n",
       "211    29        0.0  Travel_Frequently        410  Research_Development   \n",
       "890    30        0.0  Travel_Frequently       1312  Research_Development   \n",
       "\n",
       "      DistanceFromHome      Education    EducationField  \\\n",
       "1134                25         Master           Medical   \n",
       "1150                29         Master     Life_Sciences   \n",
       "531                 14       Bachelor           Medical   \n",
       "395                 11        College           Medical   \n",
       "392                 15  Below_College     Life_Sciences   \n",
       "...                ...            ...               ...   \n",
       "361                  3  Below_College           Medical   \n",
       "1180                 2         Master     Life_Sciences   \n",
       "230                 23       Bachelor         Marketing   \n",
       "211                  2  Below_College     Life_Sciences   \n",
       "890                  2         Master  Technical_Degree   \n",
       "\n",
       "     EnvironmentSatisfaction  Gender  ...  PerformanceRating  \\\n",
       "1134                    High  Female  ...          Excellent   \n",
       "1150                     Low    Male  ...          Excellent   \n",
       "531                Very_High  Female  ...          Excellent   \n",
       "395                     High    Male  ...          Excellent   \n",
       "392                   Medium  Female  ...          Excellent   \n",
       "...                      ...     ...  ...                ...   \n",
       "361                Very_High  Female  ...        Outstanding   \n",
       "1180                    High  Female  ...          Excellent   \n",
       "230                     High  Female  ...          Excellent   \n",
       "211                Very_High  Female  ...          Excellent   \n",
       "890                Very_High  Female  ...          Excellent   \n",
       "\n",
       "     RelationshipSatisfaction  StockOptionLevel TotalWorkingYears  \\\n",
       "1134                     High                 1                16   \n",
       "1150                   Medium                 2                16   \n",
       "531                 Very_High                 1                 8   \n",
       "395                 Very_High                 0                 6   \n",
       "392                       Low                 1                 6   \n",
       "...                       ...               ...               ...   \n",
       "361                    Medium                 2                 6   \n",
       "1180                     High                 0                17   \n",
       "230                      High                 1                 5   \n",
       "211                      High                 3                 4   \n",
       "890                 Very_High                 0                10   \n",
       "\n",
       "     TrainingTimesLastYear WorkLifeBalance  YearsAtCompany  \\\n",
       "1134                     3            Good              16   \n",
       "1150                     3            Good               9   \n",
       "531                      5          Better               8   \n",
       "395                      2            Good               6   \n",
       "392                      2            Good               5   \n",
       "...                    ...             ...             ...   \n",
       "361                      3          Better               6   \n",
       "1180                     2            Good              13   \n",
       "230                      2            Good               2   \n",
       "211                      3          Better               3   \n",
       "890                      2          Better               9   \n",
       "\n",
       "      YearsInCurrentRole  YearsSinceLastPromotion YearsWithCurrManager  \n",
       "1134                  10                       10                    1  \n",
       "1150                   8                        0                    0  \n",
       "531                    7                        1                    6  \n",
       "395                    5                        0                    1  \n",
       "392                    4                        1                    3  \n",
       "...                  ...                      ...                  ...  \n",
       "361                    5                        0                    4  \n",
       "1180                   7                        6                    7  \n",
       "230                    2                        0                    0  \n",
       "211                    2                        0                    2  \n",
       "890                    7                        0                    7  \n",
       "\n",
       "[70 rows x 31 columns]"
      ]
     },
     "execution_count": 38,
     "metadata": {},
     "output_type": "execute_result"
    }
   ],
   "source": [
    "# Sample 70 rows using simple random sampling and set the seed\n",
    "attrition_samp = attrition_pop.sample(70, random_state=18900217)\n",
    "\n",
    "# Print the sample\n",
    "attrition_samp"
   ]
  },
  {
   "cell_type": "markdown",
   "id": "18ea8d20",
   "metadata": {},
   "source": [
    "### Systematic sampling\n"
   ]
  },
  {
   "cell_type": "code",
   "execution_count": 39,
   "id": "73f81e7a",
   "metadata": {},
   "outputs": [
    {
     "data": {
      "text/plain": [
       "21"
      ]
     },
     "execution_count": 39,
     "metadata": {},
     "output_type": "execute_result"
    }
   ],
   "source": [
    "# Set the sample size to 70\n",
    "sample_size = 70\n",
    "\n",
    "# Calculate the population size from attrition_pop\n",
    "pop_size = len(attrition_pop)\n",
    "\n",
    "# Calculate the interval\n",
    "interval = pop_size // sample_size\n",
    "interval"
   ]
  },
  {
   "cell_type": "code",
   "execution_count": 40,
   "id": "ee361c94",
   "metadata": {},
   "outputs": [
    {
     "data": {
      "text/html": [
       "<div>\n",
       "<style scoped>\n",
       "    .dataframe tbody tr th:only-of-type {\n",
       "        vertical-align: middle;\n",
       "    }\n",
       "\n",
       "    .dataframe tbody tr th {\n",
       "        vertical-align: top;\n",
       "    }\n",
       "\n",
       "    .dataframe thead th {\n",
       "        text-align: right;\n",
       "    }\n",
       "</style>\n",
       "<table border=\"1\" class=\"dataframe\">\n",
       "  <thead>\n",
       "    <tr style=\"text-align: right;\">\n",
       "      <th></th>\n",
       "      <th>Age</th>\n",
       "      <th>Attrition</th>\n",
       "      <th>BusinessTravel</th>\n",
       "      <th>DailyRate</th>\n",
       "      <th>Department</th>\n",
       "      <th>DistanceFromHome</th>\n",
       "      <th>Education</th>\n",
       "      <th>EducationField</th>\n",
       "      <th>EnvironmentSatisfaction</th>\n",
       "      <th>Gender</th>\n",
       "      <th>...</th>\n",
       "      <th>PerformanceRating</th>\n",
       "      <th>RelationshipSatisfaction</th>\n",
       "      <th>StockOptionLevel</th>\n",
       "      <th>TotalWorkingYears</th>\n",
       "      <th>TrainingTimesLastYear</th>\n",
       "      <th>WorkLifeBalance</th>\n",
       "      <th>YearsAtCompany</th>\n",
       "      <th>YearsInCurrentRole</th>\n",
       "      <th>YearsSinceLastPromotion</th>\n",
       "      <th>YearsWithCurrManager</th>\n",
       "    </tr>\n",
       "  </thead>\n",
       "  <tbody>\n",
       "    <tr>\n",
       "      <th>0</th>\n",
       "      <td>21</td>\n",
       "      <td>0.0</td>\n",
       "      <td>Travel_Rarely</td>\n",
       "      <td>391</td>\n",
       "      <td>Research_Development</td>\n",
       "      <td>15</td>\n",
       "      <td>College</td>\n",
       "      <td>Life_Sciences</td>\n",
       "      <td>High</td>\n",
       "      <td>Male</td>\n",
       "      <td>...</td>\n",
       "      <td>Excellent</td>\n",
       "      <td>Very_High</td>\n",
       "      <td>0</td>\n",
       "      <td>0</td>\n",
       "      <td>6</td>\n",
       "      <td>Better</td>\n",
       "      <td>0</td>\n",
       "      <td>0</td>\n",
       "      <td>0</td>\n",
       "      <td>0</td>\n",
       "    </tr>\n",
       "    <tr>\n",
       "      <th>21</th>\n",
       "      <td>19</td>\n",
       "      <td>0.0</td>\n",
       "      <td>Travel_Rarely</td>\n",
       "      <td>1181</td>\n",
       "      <td>Research_Development</td>\n",
       "      <td>3</td>\n",
       "      <td>Below_College</td>\n",
       "      <td>Medical</td>\n",
       "      <td>Medium</td>\n",
       "      <td>Female</td>\n",
       "      <td>...</td>\n",
       "      <td>Excellent</td>\n",
       "      <td>Very_High</td>\n",
       "      <td>0</td>\n",
       "      <td>1</td>\n",
       "      <td>3</td>\n",
       "      <td>Better</td>\n",
       "      <td>1</td>\n",
       "      <td>0</td>\n",
       "      <td>0</td>\n",
       "      <td>0</td>\n",
       "    </tr>\n",
       "    <tr>\n",
       "      <th>42</th>\n",
       "      <td>45</td>\n",
       "      <td>0.0</td>\n",
       "      <td>Travel_Rarely</td>\n",
       "      <td>252</td>\n",
       "      <td>Research_Development</td>\n",
       "      <td>2</td>\n",
       "      <td>Bachelor</td>\n",
       "      <td>Life_Sciences</td>\n",
       "      <td>Medium</td>\n",
       "      <td>Female</td>\n",
       "      <td>...</td>\n",
       "      <td>Excellent</td>\n",
       "      <td>Very_High</td>\n",
       "      <td>0</td>\n",
       "      <td>1</td>\n",
       "      <td>3</td>\n",
       "      <td>Better</td>\n",
       "      <td>1</td>\n",
       "      <td>0</td>\n",
       "      <td>0</td>\n",
       "      <td>0</td>\n",
       "    </tr>\n",
       "    <tr>\n",
       "      <th>63</th>\n",
       "      <td>23</td>\n",
       "      <td>0.0</td>\n",
       "      <td>Travel_Rarely</td>\n",
       "      <td>373</td>\n",
       "      <td>Research_Development</td>\n",
       "      <td>1</td>\n",
       "      <td>College</td>\n",
       "      <td>Life_Sciences</td>\n",
       "      <td>Very_High</td>\n",
       "      <td>Male</td>\n",
       "      <td>...</td>\n",
       "      <td>Outstanding</td>\n",
       "      <td>Very_High</td>\n",
       "      <td>1</td>\n",
       "      <td>1</td>\n",
       "      <td>2</td>\n",
       "      <td>Better</td>\n",
       "      <td>1</td>\n",
       "      <td>0</td>\n",
       "      <td>0</td>\n",
       "      <td>1</td>\n",
       "    </tr>\n",
       "    <tr>\n",
       "      <th>84</th>\n",
       "      <td>30</td>\n",
       "      <td>1.0</td>\n",
       "      <td>Travel_Rarely</td>\n",
       "      <td>945</td>\n",
       "      <td>Sales</td>\n",
       "      <td>9</td>\n",
       "      <td>Bachelor</td>\n",
       "      <td>Medical</td>\n",
       "      <td>Medium</td>\n",
       "      <td>Male</td>\n",
       "      <td>...</td>\n",
       "      <td>Excellent</td>\n",
       "      <td>High</td>\n",
       "      <td>0</td>\n",
       "      <td>1</td>\n",
       "      <td>3</td>\n",
       "      <td>Good</td>\n",
       "      <td>1</td>\n",
       "      <td>0</td>\n",
       "      <td>0</td>\n",
       "      <td>0</td>\n",
       "    </tr>\n",
       "    <tr>\n",
       "      <th>...</th>\n",
       "      <td>...</td>\n",
       "      <td>...</td>\n",
       "      <td>...</td>\n",
       "      <td>...</td>\n",
       "      <td>...</td>\n",
       "      <td>...</td>\n",
       "      <td>...</td>\n",
       "      <td>...</td>\n",
       "      <td>...</td>\n",
       "      <td>...</td>\n",
       "      <td>...</td>\n",
       "      <td>...</td>\n",
       "      <td>...</td>\n",
       "      <td>...</td>\n",
       "      <td>...</td>\n",
       "      <td>...</td>\n",
       "      <td>...</td>\n",
       "      <td>...</td>\n",
       "      <td>...</td>\n",
       "      <td>...</td>\n",
       "      <td>...</td>\n",
       "    </tr>\n",
       "    <tr>\n",
       "      <th>1365</th>\n",
       "      <td>48</td>\n",
       "      <td>0.0</td>\n",
       "      <td>Travel_Rarely</td>\n",
       "      <td>715</td>\n",
       "      <td>Research_Development</td>\n",
       "      <td>1</td>\n",
       "      <td>Bachelor</td>\n",
       "      <td>Life_Sciences</td>\n",
       "      <td>Very_High</td>\n",
       "      <td>Male</td>\n",
       "      <td>...</td>\n",
       "      <td>Excellent</td>\n",
       "      <td>High</td>\n",
       "      <td>0</td>\n",
       "      <td>25</td>\n",
       "      <td>3</td>\n",
       "      <td>Best</td>\n",
       "      <td>1</td>\n",
       "      <td>0</td>\n",
       "      <td>0</td>\n",
       "      <td>0</td>\n",
       "    </tr>\n",
       "    <tr>\n",
       "      <th>1386</th>\n",
       "      <td>48</td>\n",
       "      <td>0.0</td>\n",
       "      <td>Travel_Rarely</td>\n",
       "      <td>1355</td>\n",
       "      <td>Research_Development</td>\n",
       "      <td>4</td>\n",
       "      <td>Master</td>\n",
       "      <td>Life_Sciences</td>\n",
       "      <td>High</td>\n",
       "      <td>Male</td>\n",
       "      <td>...</td>\n",
       "      <td>Excellent</td>\n",
       "      <td>Medium</td>\n",
       "      <td>0</td>\n",
       "      <td>27</td>\n",
       "      <td>3</td>\n",
       "      <td>Better</td>\n",
       "      <td>15</td>\n",
       "      <td>11</td>\n",
       "      <td>4</td>\n",
       "      <td>8</td>\n",
       "    </tr>\n",
       "    <tr>\n",
       "      <th>1407</th>\n",
       "      <td>50</td>\n",
       "      <td>0.0</td>\n",
       "      <td>Travel_Rarely</td>\n",
       "      <td>989</td>\n",
       "      <td>Research_Development</td>\n",
       "      <td>7</td>\n",
       "      <td>College</td>\n",
       "      <td>Medical</td>\n",
       "      <td>Medium</td>\n",
       "      <td>Female</td>\n",
       "      <td>...</td>\n",
       "      <td>Excellent</td>\n",
       "      <td>Very_High</td>\n",
       "      <td>1</td>\n",
       "      <td>29</td>\n",
       "      <td>2</td>\n",
       "      <td>Good</td>\n",
       "      <td>27</td>\n",
       "      <td>3</td>\n",
       "      <td>13</td>\n",
       "      <td>8</td>\n",
       "    </tr>\n",
       "    <tr>\n",
       "      <th>1428</th>\n",
       "      <td>50</td>\n",
       "      <td>0.0</td>\n",
       "      <td>Non-Travel</td>\n",
       "      <td>881</td>\n",
       "      <td>Research_Development</td>\n",
       "      <td>2</td>\n",
       "      <td>Master</td>\n",
       "      <td>Life_Sciences</td>\n",
       "      <td>Low</td>\n",
       "      <td>Male</td>\n",
       "      <td>...</td>\n",
       "      <td>Excellent</td>\n",
       "      <td>Very_High</td>\n",
       "      <td>1</td>\n",
       "      <td>31</td>\n",
       "      <td>3</td>\n",
       "      <td>Better</td>\n",
       "      <td>31</td>\n",
       "      <td>6</td>\n",
       "      <td>14</td>\n",
       "      <td>7</td>\n",
       "    </tr>\n",
       "    <tr>\n",
       "      <th>1449</th>\n",
       "      <td>52</td>\n",
       "      <td>0.0</td>\n",
       "      <td>Travel_Rarely</td>\n",
       "      <td>699</td>\n",
       "      <td>Research_Development</td>\n",
       "      <td>1</td>\n",
       "      <td>Master</td>\n",
       "      <td>Life_Sciences</td>\n",
       "      <td>High</td>\n",
       "      <td>Male</td>\n",
       "      <td>...</td>\n",
       "      <td>Excellent</td>\n",
       "      <td>Low</td>\n",
       "      <td>1</td>\n",
       "      <td>34</td>\n",
       "      <td>5</td>\n",
       "      <td>Better</td>\n",
       "      <td>33</td>\n",
       "      <td>18</td>\n",
       "      <td>11</td>\n",
       "      <td>9</td>\n",
       "    </tr>\n",
       "  </tbody>\n",
       "</table>\n",
       "<p>70 rows × 31 columns</p>\n",
       "</div>"
      ],
      "text/plain": [
       "      Age  Attrition BusinessTravel  DailyRate            Department  \\\n",
       "0      21        0.0  Travel_Rarely        391  Research_Development   \n",
       "21     19        0.0  Travel_Rarely       1181  Research_Development   \n",
       "42     45        0.0  Travel_Rarely        252  Research_Development   \n",
       "63     23        0.0  Travel_Rarely        373  Research_Development   \n",
       "84     30        1.0  Travel_Rarely        945                 Sales   \n",
       "...   ...        ...            ...        ...                   ...   \n",
       "1365   48        0.0  Travel_Rarely        715  Research_Development   \n",
       "1386   48        0.0  Travel_Rarely       1355  Research_Development   \n",
       "1407   50        0.0  Travel_Rarely        989  Research_Development   \n",
       "1428   50        0.0     Non-Travel        881  Research_Development   \n",
       "1449   52        0.0  Travel_Rarely        699  Research_Development   \n",
       "\n",
       "      DistanceFromHome      Education EducationField EnvironmentSatisfaction  \\\n",
       "0                   15        College  Life_Sciences                    High   \n",
       "21                   3  Below_College        Medical                  Medium   \n",
       "42                   2       Bachelor  Life_Sciences                  Medium   \n",
       "63                   1        College  Life_Sciences               Very_High   \n",
       "84                   9       Bachelor        Medical                  Medium   \n",
       "...                ...            ...            ...                     ...   \n",
       "1365                 1       Bachelor  Life_Sciences               Very_High   \n",
       "1386                 4         Master  Life_Sciences                    High   \n",
       "1407                 7        College        Medical                  Medium   \n",
       "1428                 2         Master  Life_Sciences                     Low   \n",
       "1449                 1         Master  Life_Sciences                    High   \n",
       "\n",
       "      Gender  ...  PerformanceRating RelationshipSatisfaction  \\\n",
       "0       Male  ...          Excellent                Very_High   \n",
       "21    Female  ...          Excellent                Very_High   \n",
       "42    Female  ...          Excellent                Very_High   \n",
       "63      Male  ...        Outstanding                Very_High   \n",
       "84      Male  ...          Excellent                     High   \n",
       "...      ...  ...                ...                      ...   \n",
       "1365    Male  ...          Excellent                     High   \n",
       "1386    Male  ...          Excellent                   Medium   \n",
       "1407  Female  ...          Excellent                Very_High   \n",
       "1428    Male  ...          Excellent                Very_High   \n",
       "1449    Male  ...          Excellent                      Low   \n",
       "\n",
       "      StockOptionLevel TotalWorkingYears TrainingTimesLastYear  \\\n",
       "0                    0                 0                     6   \n",
       "21                   0                 1                     3   \n",
       "42                   0                 1                     3   \n",
       "63                   1                 1                     2   \n",
       "84                   0                 1                     3   \n",
       "...                ...               ...                   ...   \n",
       "1365                 0                25                     3   \n",
       "1386                 0                27                     3   \n",
       "1407                 1                29                     2   \n",
       "1428                 1                31                     3   \n",
       "1449                 1                34                     5   \n",
       "\n",
       "     WorkLifeBalance  YearsAtCompany  YearsInCurrentRole  \\\n",
       "0             Better               0                   0   \n",
       "21            Better               1                   0   \n",
       "42            Better               1                   0   \n",
       "63            Better               1                   0   \n",
       "84              Good               1                   0   \n",
       "...              ...             ...                 ...   \n",
       "1365            Best               1                   0   \n",
       "1386          Better              15                  11   \n",
       "1407            Good              27                   3   \n",
       "1428          Better              31                   6   \n",
       "1449          Better              33                  18   \n",
       "\n",
       "      YearsSinceLastPromotion YearsWithCurrManager  \n",
       "0                           0                    0  \n",
       "21                          0                    0  \n",
       "42                          0                    0  \n",
       "63                          0                    1  \n",
       "84                          0                    0  \n",
       "...                       ...                  ...  \n",
       "1365                        0                    0  \n",
       "1386                        4                    8  \n",
       "1407                       13                    8  \n",
       "1428                       14                    7  \n",
       "1449                       11                    9  \n",
       "\n",
       "[70 rows x 31 columns]"
      ]
     },
     "execution_count": 40,
     "metadata": {},
     "output_type": "execute_result"
    }
   ],
   "source": [
    "# Systematically sample 70 rows\n",
    "attrition_sys_samp = attrition_pop.iloc[::interval]\n",
    "\n",
    "# Print the sample\n",
    "attrition_sys_samp"
   ]
  },
  {
   "cell_type": "markdown",
   "id": "b4d2c6da",
   "metadata": {},
   "source": [
    "> Systematic sampling avoids randomness by picking rows at regular intervals."
   ]
  },
  {
   "cell_type": "markdown",
   "id": "04791f12",
   "metadata": {},
   "source": [
    "### Is systematic sampling OK?\n"
   ]
  },
  {
   "cell_type": "code",
   "execution_count": 41,
   "id": "2e32450e",
   "metadata": {},
   "outputs": [
    {
     "data": {
      "image/png": "[encoded data removed]",
      "text/plain": [
       "<Figure size 432x288 with 1 Axes>"
      ]
     },
     "metadata": {
      "needs_background": "light"
     },
     "output_type": "display_data"
    }
   ],
   "source": [
    "# Add an index column to attrition_pop\n",
    "attrition_pop_id = attrition_pop.reset_index()\n",
    "\n",
    "# Plot YearsAtCompany vs. index for attrition_pop_id\n",
    "attrition_pop_id.plot(x='index', y='YearsAtCompany', kind='scatter')\n",
    "plt.show()"
   ]
  },
  {
   "cell_type": "code",
   "execution_count": 42,
   "id": "379f6fad",
   "metadata": {},
   "outputs": [
    {
     "data": {
      "image/png": "[encoded data removed]",
      "text/plain": [
       "<Figure size 432x288 with 1 Axes>"
      ]
     },
     "metadata": {
      "needs_background": "light"
     },
     "output_type": "display_data"
    }
   ],
   "source": [
    "# Shuffle the rows of attrition_pop\n",
    "attrition_shuffled = attrition_pop.sample(frac=1)\n",
    "\n",
    "# Reset the row indexes and create an index column\n",
    "attrition_shuffled = attrition_shuffled.reset_index(drop=True).reset_index()\n",
    "\n",
    "# Plot YearsAtCompany vs. index for attrition_shuffled\n",
    "attrition_shuffled.plot(x='index', y='YearsAtCompany', kind='scatter')\n",
    "plt.show()"
   ]
  },
  {
   "cell_type": "markdown",
   "id": "93184146",
   "metadata": {},
   "source": [
    "> **Systematic sampling has problems when the data are sorted or contain a pattern. Shuffling the rows makes it equivalent to simple random sampling.**\n",
    "\n",
    "### Can't get no stratisfaction\n"
   ]
  },
  {
   "cell_type": "code",
   "execution_count": 43,
   "id": "c739b00b",
   "metadata": {},
   "outputs": [
    {
     "data": {
      "text/plain": [
       "Mexico                    236\n",
       "Colombia                  183\n",
       "Guatemala                 181\n",
       "Brazil                    132\n",
       "Taiwan                     75\n",
       "United States (Hawaii)     73\n",
       "Name: country_of_origin, dtype: int64"
      ]
     },
     "execution_count": 43,
     "metadata": {},
     "output_type": "execute_result"
    }
   ],
   "source": [
    "top_counts = coffee_ratings['country_of_origin'].value_counts()\n",
    "top_counts.head(6)"
   ]
  },
  {
   "cell_type": "markdown",
   "id": "33cc2614",
   "metadata": {},
   "source": [
    "**Filtering for 6 countries**"
   ]
  },
  {
   "cell_type": "code",
   "execution_count": 44,
   "id": "b5fdb277",
   "metadata": {},
   "outputs": [
    {
     "data": {
      "text/html": [
       "<div>\n",
       "<style scoped>\n",
       "    .dataframe tbody tr th:only-of-type {\n",
       "        vertical-align: middle;\n",
       "    }\n",
       "\n",
       "    .dataframe tbody tr th {\n",
       "        vertical-align: top;\n",
       "    }\n",
       "\n",
       "    .dataframe thead th {\n",
       "        text-align: right;\n",
       "    }\n",
       "</style>\n",
       "<table border=\"1\" class=\"dataframe\">\n",
       "  <thead>\n",
       "    <tr style=\"text-align: right;\">\n",
       "      <th></th>\n",
       "      <th>total_cup_points</th>\n",
       "      <th>species</th>\n",
       "      <th>owner</th>\n",
       "      <th>country_of_origin</th>\n",
       "      <th>farm_name</th>\n",
       "      <th>lot_number</th>\n",
       "      <th>mill</th>\n",
       "      <th>ico_number</th>\n",
       "      <th>company</th>\n",
       "      <th>altitude</th>\n",
       "      <th>...</th>\n",
       "      <th>color</th>\n",
       "      <th>category_two_defects</th>\n",
       "      <th>expiration</th>\n",
       "      <th>certification_body</th>\n",
       "      <th>certification_address</th>\n",
       "      <th>certification_contact</th>\n",
       "      <th>unit_of_measurement</th>\n",
       "      <th>altitude_low_meters</th>\n",
       "      <th>altitude_high_meters</th>\n",
       "      <th>altitude_mean_meters</th>\n",
       "    </tr>\n",
       "  </thead>\n",
       "  <tbody>\n",
       "    <tr>\n",
       "      <th>2</th>\n",
       "      <td>89.75</td>\n",
       "      <td>Arabica</td>\n",
       "      <td>grounds for health admin</td>\n",
       "      <td>Guatemala</td>\n",
       "      <td>san marcos barrancas \"san cristobal cuch</td>\n",
       "      <td>None</td>\n",
       "      <td>None</td>\n",
       "      <td>None</td>\n",
       "      <td>None</td>\n",
       "      <td>1600 - 1800 m</td>\n",
       "      <td>...</td>\n",
       "      <td>None</td>\n",
       "      <td>0.0</td>\n",
       "      <td>May 31st, 2011</td>\n",
       "      <td>Specialty Coffee Association</td>\n",
       "      <td>36d0d00a3724338ba7937c52a378d085f2172daa</td>\n",
       "      <td>0878a7d4b9d35ddbf0fe2ce69a2062cceb45a660</td>\n",
       "      <td>m</td>\n",
       "      <td>1600.0</td>\n",
       "      <td>1800.0</td>\n",
       "      <td>1700.0</td>\n",
       "    </tr>\n",
       "    <tr>\n",
       "      <th>5</th>\n",
       "      <td>88.83</td>\n",
       "      <td>Arabica</td>\n",
       "      <td>ji-ae ahn</td>\n",
       "      <td>Brazil</td>\n",
       "      <td>None</td>\n",
       "      <td>None</td>\n",
       "      <td>None</td>\n",
       "      <td>None</td>\n",
       "      <td>None</td>\n",
       "      <td>None</td>\n",
       "      <td>...</td>\n",
       "      <td>Bluish-Green</td>\n",
       "      <td>1.0</td>\n",
       "      <td>September 3rd, 2014</td>\n",
       "      <td>Specialty Coffee Institute of Asia</td>\n",
       "      <td>726e4891cf2c9a4848768bd34b668124d12c4224</td>\n",
       "      <td>b70da261fcc84831e3e9620c30a8701540abc200</td>\n",
       "      <td>m</td>\n",
       "      <td>NaN</td>\n",
       "      <td>NaN</td>\n",
       "      <td>NaN</td>\n",
       "    </tr>\n",
       "    <tr>\n",
       "      <th>13</th>\n",
       "      <td>87.92</td>\n",
       "      <td>Arabica</td>\n",
       "      <td>grounds for health admin</td>\n",
       "      <td>United States (Hawaii)</td>\n",
       "      <td>arianna farms</td>\n",
       "      <td>None</td>\n",
       "      <td>None</td>\n",
       "      <td>None</td>\n",
       "      <td>None</td>\n",
       "      <td>2000 ft</td>\n",
       "      <td>...</td>\n",
       "      <td>None</td>\n",
       "      <td>2.0</td>\n",
       "      <td>May 31st, 2011</td>\n",
       "      <td>Specialty Coffee Association</td>\n",
       "      <td>36d0d00a3724338ba7937c52a378d085f2172daa</td>\n",
       "      <td>0878a7d4b9d35ddbf0fe2ce69a2062cceb45a660</td>\n",
       "      <td>ft</td>\n",
       "      <td>609.6</td>\n",
       "      <td>609.6</td>\n",
       "      <td>609.6</td>\n",
       "    </tr>\n",
       "    <tr>\n",
       "      <th>22</th>\n",
       "      <td>87.17</td>\n",
       "      <td>Arabica</td>\n",
       "      <td>roberto licona franco</td>\n",
       "      <td>Mexico</td>\n",
       "      <td>la herradura</td>\n",
       "      <td>None</td>\n",
       "      <td>la herradura</td>\n",
       "      <td>0</td>\n",
       "      <td>None</td>\n",
       "      <td>1320</td>\n",
       "      <td>...</td>\n",
       "      <td>Green</td>\n",
       "      <td>0.0</td>\n",
       "      <td>July 26th, 2013</td>\n",
       "      <td>AMECAFE</td>\n",
       "      <td>59e396ad6e22a1c22b248f958e1da2bd8af85272</td>\n",
       "      <td>0eb4ee5b3f47b20b049548a2fd1e7d4a2b70d0a7</td>\n",
       "      <td>m</td>\n",
       "      <td>1320.0</td>\n",
       "      <td>1320.0</td>\n",
       "      <td>1320.0</td>\n",
       "    </tr>\n",
       "    <tr>\n",
       "      <th>25</th>\n",
       "      <td>86.92</td>\n",
       "      <td>Arabica</td>\n",
       "      <td>nucoffee</td>\n",
       "      <td>Brazil</td>\n",
       "      <td>fazenda kaquend</td>\n",
       "      <td>None</td>\n",
       "      <td>None</td>\n",
       "      <td>002/1251/0073</td>\n",
       "      <td>nucoffee</td>\n",
       "      <td>1250m</td>\n",
       "      <td>...</td>\n",
       "      <td>Green</td>\n",
       "      <td>2.0</td>\n",
       "      <td>December 2nd, 2012</td>\n",
       "      <td>NUCOFFEE</td>\n",
       "      <td>567f200bcc17a90070cb952647bf88141ad9c80c</td>\n",
       "      <td>aa2ff513ffb9c844462a1fb07c599bce7f3bb53d</td>\n",
       "      <td>m</td>\n",
       "      <td>1250.0</td>\n",
       "      <td>1250.0</td>\n",
       "      <td>1250.0</td>\n",
       "    </tr>\n",
       "  </tbody>\n",
       "</table>\n",
       "<p>5 rows × 43 columns</p>\n",
       "</div>"
      ],
      "text/plain": [
       "    total_cup_points  species                     owner  \\\n",
       "2              89.75  Arabica  grounds for health admin   \n",
       "5              88.83  Arabica                 ji-ae ahn   \n",
       "13             87.92  Arabica  grounds for health admin   \n",
       "22             87.17  Arabica     roberto licona franco   \n",
       "25             86.92  Arabica                  nucoffee   \n",
       "\n",
       "         country_of_origin                                 farm_name  \\\n",
       "2                Guatemala  san marcos barrancas \"san cristobal cuch   \n",
       "5                   Brazil                                      None   \n",
       "13  United States (Hawaii)                             arianna farms   \n",
       "22                  Mexico                              la herradura   \n",
       "25                  Brazil                           fazenda kaquend   \n",
       "\n",
       "   lot_number          mill     ico_number   company       altitude  ...  \\\n",
       "2        None          None           None      None  1600 - 1800 m  ...   \n",
       "5        None          None           None      None           None  ...   \n",
       "13       None          None           None      None        2000 ft  ...   \n",
       "22       None  la herradura              0      None           1320  ...   \n",
       "25       None          None  002/1251/0073  nucoffee          1250m  ...   \n",
       "\n",
       "           color category_two_defects           expiration  \\\n",
       "2           None                  0.0       May 31st, 2011   \n",
       "5   Bluish-Green                  1.0  September 3rd, 2014   \n",
       "13          None                  2.0       May 31st, 2011   \n",
       "22         Green                  0.0      July 26th, 2013   \n",
       "25         Green                  2.0   December 2nd, 2012   \n",
       "\n",
       "                    certification_body  \\\n",
       "2         Specialty Coffee Association   \n",
       "5   Specialty Coffee Institute of Asia   \n",
       "13        Specialty Coffee Association   \n",
       "22                             AMECAFE   \n",
       "25                            NUCOFFEE   \n",
       "\n",
       "                       certification_address  \\\n",
       "2   36d0d00a3724338ba7937c52a378d085f2172daa   \n",
       "5   726e4891cf2c9a4848768bd34b668124d12c4224   \n",
       "13  36d0d00a3724338ba7937c52a378d085f2172daa   \n",
       "22  59e396ad6e22a1c22b248f958e1da2bd8af85272   \n",
       "25  567f200bcc17a90070cb952647bf88141ad9c80c   \n",
       "\n",
       "                       certification_contact unit_of_measurement  \\\n",
       "2   0878a7d4b9d35ddbf0fe2ce69a2062cceb45a660                   m   \n",
       "5   b70da261fcc84831e3e9620c30a8701540abc200                   m   \n",
       "13  0878a7d4b9d35ddbf0fe2ce69a2062cceb45a660                  ft   \n",
       "22  0eb4ee5b3f47b20b049548a2fd1e7d4a2b70d0a7                   m   \n",
       "25  aa2ff513ffb9c844462a1fb07c599bce7f3bb53d                   m   \n",
       "\n",
       "   altitude_low_meters altitude_high_meters altitude_mean_meters  \n",
       "2               1600.0               1800.0               1700.0  \n",
       "5                  NaN                  NaN                  NaN  \n",
       "13               609.6                609.6                609.6  \n",
       "22              1320.0               1320.0               1320.0  \n",
       "25              1250.0               1250.0               1250.0  \n",
       "\n",
       "[5 rows x 43 columns]"
      ]
     },
     "execution_count": 44,
     "metadata": {},
     "output_type": "execute_result"
    }
   ],
   "source": [
    "top_countries = ['Mexico','Colombia','Guatemala','Brazil','Taiwan','United States (Hawaii)']\n",
    "top_counted_subset = coffee_ratings['country_of_origin'].isin(top_countries)\n",
    "coffee_ratings_top = coffee_ratings[top_counted_subset]\n",
    "coffee_ratings_top.head()"
   ]
  },
  {
   "cell_type": "markdown",
   "id": "4a608dda",
   "metadata": {},
   "source": [
    "**Counts of a simple random sample**"
   ]
  },
  {
   "cell_type": "code",
   "execution_count": 45,
   "id": "18b6eb78",
   "metadata": {
    "scrolled": true
   },
   "outputs": [
    {
     "data": {
      "text/plain": [
       "Mexico                    0.250000\n",
       "Guatemala                 0.204545\n",
       "Colombia                  0.181818\n",
       "Brazil                    0.181818\n",
       "United States (Hawaii)    0.102273\n",
       "Taiwan                    0.079545\n",
       "Name: country_of_origin, dtype: float64"
      ]
     },
     "execution_count": 45,
     "metadata": {},
     "output_type": "execute_result"
    }
   ],
   "source": [
    "coffee_ratings_sample = coffee_ratings_top.sample(frac=0.1, random_state=2021)\n",
    "coffee_ratings_sample['country_of_origin'].value_counts(normalize=True)"
   ]
  },
  {
   "cell_type": "markdown",
   "id": "8d5d01ba",
   "metadata": {},
   "source": [
    "> **Compare with coffee_ratings_top sample** "
   ]
  },
  {
   "cell_type": "code",
   "execution_count": 46,
   "id": "dd26e217",
   "metadata": {
    "scrolled": false
   },
   "outputs": [
    {
     "data": {
      "text/plain": [
       "Mexico                    0.268182\n",
       "Colombia                  0.207955\n",
       "Guatemala                 0.205682\n",
       "Brazil                    0.150000\n",
       "Taiwan                    0.085227\n",
       "United States (Hawaii)    0.082955\n",
       "Name: country_of_origin, dtype: float64"
      ]
     },
     "execution_count": 46,
     "metadata": {},
     "output_type": "execute_result"
    }
   ],
   "source": [
    "coffee_ratings_top['country_of_origin'].value_counts(normalize=True).head(6)"
   ]
  },
  {
   "cell_type": "markdown",
   "id": "288caecd",
   "metadata": {},
   "source": [
    "**Proportional stratified sampling.**"
   ]
  },
  {
   "cell_type": "code",
   "execution_count": 47,
   "id": "f99ac71f",
   "metadata": {},
   "outputs": [
    {
     "data": {
      "text/plain": [
       "Mexico                    0.272727\n",
       "Colombia                  0.204545\n",
       "Guatemala                 0.204545\n",
       "Brazil                    0.147727\n",
       "Taiwan                    0.090909\n",
       "United States (Hawaii)    0.079545\n",
       "Name: country_of_origin, dtype: float64"
      ]
     },
     "execution_count": 47,
     "metadata": {},
     "output_type": "execute_result"
    }
   ],
   "source": [
    "coffee_ratings_strat = coffee_ratings_top.groupby('country_of_origin').sample(frac=0.1, random_state=2021)\n",
    "coffee_ratings_strat['country_of_origin'].value_counts(normalize=True)"
   ]
  },
  {
   "cell_type": "markdown",
   "id": "4a76b477",
   "metadata": {},
   "source": [
    "**Equal counts stratified sampling.**"
   ]
  },
  {
   "cell_type": "code",
   "execution_count": 48,
   "id": "837f17ff",
   "metadata": {},
   "outputs": [
    {
     "data": {
      "text/plain": [
       "Brazil                    0.166667\n",
       "Colombia                  0.166667\n",
       "Guatemala                 0.166667\n",
       "Mexico                    0.166667\n",
       "Taiwan                    0.166667\n",
       "United States (Hawaii)    0.166667\n",
       "Name: country_of_origin, dtype: float64"
      ]
     },
     "execution_count": 48,
     "metadata": {},
     "output_type": "execute_result"
    }
   ],
   "source": [
    "coffee_ratings_eq = coffee_ratings_top.groupby(\"country_of_origin\").sample(n=15, random_state=2021)\n",
    "coffee_ratings_eq['country_of_origin'].value_counts(normalize=True)"
   ]
  },
  {
   "cell_type": "markdown",
   "id": "6f5d83ae",
   "metadata": {},
   "source": [
    "> Here the resulting sample has equal proportion 16.67% of each country.\n",
    "\n",
    "**Weighted random sampling.**"
   ]
  },
  {
   "cell_type": "code",
   "execution_count": 49,
   "id": "71c0721b",
   "metadata": {},
   "outputs": [
    {
     "data": {
      "text/plain": [
       "Mexico                    0.306818\n",
       "Taiwan                    0.193182\n",
       "Brazil                    0.147727\n",
       "Colombia                  0.136364\n",
       "Guatemala                 0.136364\n",
       "United States (Hawaii)    0.079545\n",
       "Name: country_of_origin, dtype: float64"
      ]
     },
     "execution_count": 49,
     "metadata": {},
     "output_type": "execute_result"
    }
   ],
   "source": [
    "coffee_ratings_weight = coffee_ratings_top.copy()\n",
    "condition = coffee_ratings_weight['country_of_origin'] == 'Taiwan'\n",
    "coffee_ratings_weight['weight'] = np.where(condition, 2, 1)\n",
    "coffee_ratings_weight = coffee_ratings_weight.sample(frac=0.1, weights='weight')\n",
    "coffee_ratings_weight['country_of_origin'].value_counts(normalize=True)"
   ]
  },
  {
   "cell_type": "markdown",
   "id": "c45aa5a1",
   "metadata": {},
   "source": [
    "> **This means when each row is randomly sampled, Taiwanese coffees have 2 times the change of being picked compared to other coffees.**\n",
    "\n",
    "**This sort of weighted sampling is common in political polling, where we need to correct for \"under\" o \"over\" representation of demographic groups.**\n",
    "\n",
    "#### Stratified sampling is useful if you care about subgroups. Otherwise, simple random sampling is more appropriate.\n",
    "### Proportional stratified sampling\n"
   ]
  },
  {
   "cell_type": "code",
   "execution_count": 50,
   "id": "d56141f5",
   "metadata": {},
   "outputs": [
    {
     "data": {
      "text/plain": [
       "Bachelor         0.389116\n",
       "Master           0.270748\n",
       "College          0.191837\n",
       "Below_College    0.115646\n",
       "Doctor           0.032653\n",
       "Name: Education, dtype: float64"
      ]
     },
     "execution_count": 50,
     "metadata": {},
     "output_type": "execute_result"
    }
   ],
   "source": [
    "# Proportion of employees by Education level\n",
    "education_counts_pop = attrition_pop['Education'].value_counts(normalize=True)\n",
    "\n",
    "# Print education_counts_pop\n",
    "education_counts_pop"
   ]
  },
  {
   "cell_type": "code",
   "execution_count": 51,
   "id": "459cb231",
   "metadata": {},
   "outputs": [
    {
     "data": {
      "text/html": [
       "<div>\n",
       "<style scoped>\n",
       "    .dataframe tbody tr th:only-of-type {\n",
       "        vertical-align: middle;\n",
       "    }\n",
       "\n",
       "    .dataframe tbody tr th {\n",
       "        vertical-align: top;\n",
       "    }\n",
       "\n",
       "    .dataframe thead th {\n",
       "        text-align: right;\n",
       "    }\n",
       "</style>\n",
       "<table border=\"1\" class=\"dataframe\">\n",
       "  <thead>\n",
       "    <tr style=\"text-align: right;\">\n",
       "      <th></th>\n",
       "      <th>Age</th>\n",
       "      <th>Attrition</th>\n",
       "      <th>BusinessTravel</th>\n",
       "      <th>DailyRate</th>\n",
       "      <th>Department</th>\n",
       "      <th>DistanceFromHome</th>\n",
       "      <th>Education</th>\n",
       "      <th>EducationField</th>\n",
       "      <th>EnvironmentSatisfaction</th>\n",
       "      <th>Gender</th>\n",
       "      <th>...</th>\n",
       "      <th>PerformanceRating</th>\n",
       "      <th>RelationshipSatisfaction</th>\n",
       "      <th>StockOptionLevel</th>\n",
       "      <th>TotalWorkingYears</th>\n",
       "      <th>TrainingTimesLastYear</th>\n",
       "      <th>WorkLifeBalance</th>\n",
       "      <th>YearsAtCompany</th>\n",
       "      <th>YearsInCurrentRole</th>\n",
       "      <th>YearsSinceLastPromotion</th>\n",
       "      <th>YearsWithCurrManager</th>\n",
       "    </tr>\n",
       "  </thead>\n",
       "  <tbody>\n",
       "    <tr>\n",
       "      <th>1191</th>\n",
       "      <td>53</td>\n",
       "      <td>0.0</td>\n",
       "      <td>Travel_Rarely</td>\n",
       "      <td>238</td>\n",
       "      <td>Sales</td>\n",
       "      <td>1</td>\n",
       "      <td>Below_College</td>\n",
       "      <td>Medical</td>\n",
       "      <td>Very_High</td>\n",
       "      <td>Female</td>\n",
       "      <td>...</td>\n",
       "      <td>Outstanding</td>\n",
       "      <td>Very_High</td>\n",
       "      <td>0</td>\n",
       "      <td>18</td>\n",
       "      <td>2</td>\n",
       "      <td>Best</td>\n",
       "      <td>14</td>\n",
       "      <td>7</td>\n",
       "      <td>8</td>\n",
       "      <td>10</td>\n",
       "    </tr>\n",
       "    <tr>\n",
       "      <th>407</th>\n",
       "      <td>29</td>\n",
       "      <td>0.0</td>\n",
       "      <td>Travel_Frequently</td>\n",
       "      <td>995</td>\n",
       "      <td>Research_Development</td>\n",
       "      <td>2</td>\n",
       "      <td>Below_College</td>\n",
       "      <td>Life_Sciences</td>\n",
       "      <td>Low</td>\n",
       "      <td>Male</td>\n",
       "      <td>...</td>\n",
       "      <td>Excellent</td>\n",
       "      <td>Very_High</td>\n",
       "      <td>1</td>\n",
       "      <td>6</td>\n",
       "      <td>0</td>\n",
       "      <td>Best</td>\n",
       "      <td>6</td>\n",
       "      <td>4</td>\n",
       "      <td>1</td>\n",
       "      <td>3</td>\n",
       "    </tr>\n",
       "    <tr>\n",
       "      <th>1233</th>\n",
       "      <td>59</td>\n",
       "      <td>0.0</td>\n",
       "      <td>Travel_Frequently</td>\n",
       "      <td>1225</td>\n",
       "      <td>Sales</td>\n",
       "      <td>1</td>\n",
       "      <td>Below_College</td>\n",
       "      <td>Life_Sciences</td>\n",
       "      <td>Low</td>\n",
       "      <td>Female</td>\n",
       "      <td>...</td>\n",
       "      <td>Excellent</td>\n",
       "      <td>Very_High</td>\n",
       "      <td>0</td>\n",
       "      <td>20</td>\n",
       "      <td>2</td>\n",
       "      <td>Good</td>\n",
       "      <td>4</td>\n",
       "      <td>3</td>\n",
       "      <td>1</td>\n",
       "      <td>3</td>\n",
       "    </tr>\n",
       "    <tr>\n",
       "      <th>366</th>\n",
       "      <td>37</td>\n",
       "      <td>0.0</td>\n",
       "      <td>Travel_Rarely</td>\n",
       "      <td>571</td>\n",
       "      <td>Research_Development</td>\n",
       "      <td>10</td>\n",
       "      <td>Below_College</td>\n",
       "      <td>Life_Sciences</td>\n",
       "      <td>Very_High</td>\n",
       "      <td>Female</td>\n",
       "      <td>...</td>\n",
       "      <td>Excellent</td>\n",
       "      <td>Medium</td>\n",
       "      <td>2</td>\n",
       "      <td>6</td>\n",
       "      <td>3</td>\n",
       "      <td>Good</td>\n",
       "      <td>5</td>\n",
       "      <td>3</td>\n",
       "      <td>4</td>\n",
       "      <td>3</td>\n",
       "    </tr>\n",
       "    <tr>\n",
       "      <th>702</th>\n",
       "      <td>31</td>\n",
       "      <td>0.0</td>\n",
       "      <td>Travel_Frequently</td>\n",
       "      <td>163</td>\n",
       "      <td>Research_Development</td>\n",
       "      <td>24</td>\n",
       "      <td>Below_College</td>\n",
       "      <td>Technical_Degree</td>\n",
       "      <td>Very_High</td>\n",
       "      <td>Female</td>\n",
       "      <td>...</td>\n",
       "      <td>Outstanding</td>\n",
       "      <td>Very_High</td>\n",
       "      <td>0</td>\n",
       "      <td>9</td>\n",
       "      <td>3</td>\n",
       "      <td>Good</td>\n",
       "      <td>5</td>\n",
       "      <td>4</td>\n",
       "      <td>1</td>\n",
       "      <td>4</td>\n",
       "    </tr>\n",
       "  </tbody>\n",
       "</table>\n",
       "<p>5 rows × 31 columns</p>\n",
       "</div>"
      ],
      "text/plain": [
       "      Age  Attrition     BusinessTravel  DailyRate            Department  \\\n",
       "1191   53        0.0      Travel_Rarely        238                 Sales   \n",
       "407    29        0.0  Travel_Frequently        995  Research_Development   \n",
       "1233   59        0.0  Travel_Frequently       1225                 Sales   \n",
       "366    37        0.0      Travel_Rarely        571  Research_Development   \n",
       "702    31        0.0  Travel_Frequently        163  Research_Development   \n",
       "\n",
       "      DistanceFromHome      Education    EducationField  \\\n",
       "1191                 1  Below_College           Medical   \n",
       "407                  2  Below_College     Life_Sciences   \n",
       "1233                 1  Below_College     Life_Sciences   \n",
       "366                 10  Below_College     Life_Sciences   \n",
       "702                 24  Below_College  Technical_Degree   \n",
       "\n",
       "     EnvironmentSatisfaction  Gender  ...  PerformanceRating  \\\n",
       "1191               Very_High  Female  ...        Outstanding   \n",
       "407                      Low    Male  ...          Excellent   \n",
       "1233                     Low  Female  ...          Excellent   \n",
       "366                Very_High  Female  ...          Excellent   \n",
       "702                Very_High  Female  ...        Outstanding   \n",
       "\n",
       "     RelationshipSatisfaction  StockOptionLevel TotalWorkingYears  \\\n",
       "1191                Very_High                 0                18   \n",
       "407                 Very_High                 1                 6   \n",
       "1233                Very_High                 0                20   \n",
       "366                    Medium                 2                 6   \n",
       "702                 Very_High                 0                 9   \n",
       "\n",
       "     TrainingTimesLastYear WorkLifeBalance  YearsAtCompany  \\\n",
       "1191                     2            Best              14   \n",
       "407                      0            Best               6   \n",
       "1233                     2            Good               4   \n",
       "366                      3            Good               5   \n",
       "702                      3            Good               5   \n",
       "\n",
       "      YearsInCurrentRole  YearsSinceLastPromotion YearsWithCurrManager  \n",
       "1191                   7                        8                   10  \n",
       "407                    4                        1                    3  \n",
       "1233                   3                        1                    3  \n",
       "366                    3                        4                    3  \n",
       "702                    4                        1                    4  \n",
       "\n",
       "[5 rows x 31 columns]"
      ]
     },
     "execution_count": 51,
     "metadata": {},
     "output_type": "execute_result"
    }
   ],
   "source": [
    "# Use proportional stratified sampling on attrition_pop to sample 40% of each Education group, setting the seed to 2022.\n",
    "\n",
    "# Proportional stratified sampling for 40% of each Education group\n",
    "attrition_strat = attrition_pop.groupby('Education').sample(frac=0.4, random_state=2022)\n",
    "attrition_strat.head()"
   ]
  },
  {
   "cell_type": "code",
   "execution_count": 52,
   "id": "878c6410",
   "metadata": {},
   "outputs": [
    {
     "data": {
      "text/plain": [
       "Bachelor         0.389456\n",
       "Master           0.270408\n",
       "College          0.192177\n",
       "Below_College    0.115646\n",
       "Doctor           0.032313\n",
       "Name: Education, dtype: float64"
      ]
     },
     "execution_count": 52,
     "metadata": {},
     "output_type": "execute_result"
    }
   ],
   "source": [
    "# Calculate the Education level proportions from attrition_strat\n",
    "education_counts_strat = attrition_strat['Education'].value_counts(normalize=True)\n",
    "\n",
    "# Print education_counts_strat\n",
    "education_counts_strat"
   ]
  },
  {
   "cell_type": "markdown",
   "id": "76000dfe",
   "metadata": {},
   "source": [
    "> By grouping then sampling, the size of each group in the sample is representative of the size of the sample in the population.\n",
    "\n",
    "### Equal counts stratified sampling\n"
   ]
  },
  {
   "cell_type": "code",
   "execution_count": 53,
   "id": "83975969",
   "metadata": {},
   "outputs": [
    {
     "data": {
      "text/html": [
       "<div>\n",
       "<style scoped>\n",
       "    .dataframe tbody tr th:only-of-type {\n",
       "        vertical-align: middle;\n",
       "    }\n",
       "\n",
       "    .dataframe tbody tr th {\n",
       "        vertical-align: top;\n",
       "    }\n",
       "\n",
       "    .dataframe thead th {\n",
       "        text-align: right;\n",
       "    }\n",
       "</style>\n",
       "<table border=\"1\" class=\"dataframe\">\n",
       "  <thead>\n",
       "    <tr style=\"text-align: right;\">\n",
       "      <th></th>\n",
       "      <th>Age</th>\n",
       "      <th>Attrition</th>\n",
       "      <th>BusinessTravel</th>\n",
       "      <th>DailyRate</th>\n",
       "      <th>Department</th>\n",
       "      <th>DistanceFromHome</th>\n",
       "      <th>Education</th>\n",
       "      <th>EducationField</th>\n",
       "      <th>EnvironmentSatisfaction</th>\n",
       "      <th>Gender</th>\n",
       "      <th>...</th>\n",
       "      <th>PerformanceRating</th>\n",
       "      <th>RelationshipSatisfaction</th>\n",
       "      <th>StockOptionLevel</th>\n",
       "      <th>TotalWorkingYears</th>\n",
       "      <th>TrainingTimesLastYear</th>\n",
       "      <th>WorkLifeBalance</th>\n",
       "      <th>YearsAtCompany</th>\n",
       "      <th>YearsInCurrentRole</th>\n",
       "      <th>YearsSinceLastPromotion</th>\n",
       "      <th>YearsWithCurrManager</th>\n",
       "    </tr>\n",
       "  </thead>\n",
       "  <tbody>\n",
       "    <tr>\n",
       "      <th>1191</th>\n",
       "      <td>53</td>\n",
       "      <td>0.0</td>\n",
       "      <td>Travel_Rarely</td>\n",
       "      <td>238</td>\n",
       "      <td>Sales</td>\n",
       "      <td>1</td>\n",
       "      <td>Below_College</td>\n",
       "      <td>Medical</td>\n",
       "      <td>Very_High</td>\n",
       "      <td>Female</td>\n",
       "      <td>...</td>\n",
       "      <td>Outstanding</td>\n",
       "      <td>Very_High</td>\n",
       "      <td>0</td>\n",
       "      <td>18</td>\n",
       "      <td>2</td>\n",
       "      <td>Best</td>\n",
       "      <td>14</td>\n",
       "      <td>7</td>\n",
       "      <td>8</td>\n",
       "      <td>10</td>\n",
       "    </tr>\n",
       "    <tr>\n",
       "      <th>407</th>\n",
       "      <td>29</td>\n",
       "      <td>0.0</td>\n",
       "      <td>Travel_Frequently</td>\n",
       "      <td>995</td>\n",
       "      <td>Research_Development</td>\n",
       "      <td>2</td>\n",
       "      <td>Below_College</td>\n",
       "      <td>Life_Sciences</td>\n",
       "      <td>Low</td>\n",
       "      <td>Male</td>\n",
       "      <td>...</td>\n",
       "      <td>Excellent</td>\n",
       "      <td>Very_High</td>\n",
       "      <td>1</td>\n",
       "      <td>6</td>\n",
       "      <td>0</td>\n",
       "      <td>Best</td>\n",
       "      <td>6</td>\n",
       "      <td>4</td>\n",
       "      <td>1</td>\n",
       "      <td>3</td>\n",
       "    </tr>\n",
       "    <tr>\n",
       "      <th>1233</th>\n",
       "      <td>59</td>\n",
       "      <td>0.0</td>\n",
       "      <td>Travel_Frequently</td>\n",
       "      <td>1225</td>\n",
       "      <td>Sales</td>\n",
       "      <td>1</td>\n",
       "      <td>Below_College</td>\n",
       "      <td>Life_Sciences</td>\n",
       "      <td>Low</td>\n",
       "      <td>Female</td>\n",
       "      <td>...</td>\n",
       "      <td>Excellent</td>\n",
       "      <td>Very_High</td>\n",
       "      <td>0</td>\n",
       "      <td>20</td>\n",
       "      <td>2</td>\n",
       "      <td>Good</td>\n",
       "      <td>4</td>\n",
       "      <td>3</td>\n",
       "      <td>1</td>\n",
       "      <td>3</td>\n",
       "    </tr>\n",
       "    <tr>\n",
       "      <th>366</th>\n",
       "      <td>37</td>\n",
       "      <td>0.0</td>\n",
       "      <td>Travel_Rarely</td>\n",
       "      <td>571</td>\n",
       "      <td>Research_Development</td>\n",
       "      <td>10</td>\n",
       "      <td>Below_College</td>\n",
       "      <td>Life_Sciences</td>\n",
       "      <td>Very_High</td>\n",
       "      <td>Female</td>\n",
       "      <td>...</td>\n",
       "      <td>Excellent</td>\n",
       "      <td>Medium</td>\n",
       "      <td>2</td>\n",
       "      <td>6</td>\n",
       "      <td>3</td>\n",
       "      <td>Good</td>\n",
       "      <td>5</td>\n",
       "      <td>3</td>\n",
       "      <td>4</td>\n",
       "      <td>3</td>\n",
       "    </tr>\n",
       "    <tr>\n",
       "      <th>702</th>\n",
       "      <td>31</td>\n",
       "      <td>0.0</td>\n",
       "      <td>Travel_Frequently</td>\n",
       "      <td>163</td>\n",
       "      <td>Research_Development</td>\n",
       "      <td>24</td>\n",
       "      <td>Below_College</td>\n",
       "      <td>Technical_Degree</td>\n",
       "      <td>Very_High</td>\n",
       "      <td>Female</td>\n",
       "      <td>...</td>\n",
       "      <td>Outstanding</td>\n",
       "      <td>Very_High</td>\n",
       "      <td>0</td>\n",
       "      <td>9</td>\n",
       "      <td>3</td>\n",
       "      <td>Good</td>\n",
       "      <td>5</td>\n",
       "      <td>4</td>\n",
       "      <td>1</td>\n",
       "      <td>4</td>\n",
       "    </tr>\n",
       "  </tbody>\n",
       "</table>\n",
       "<p>5 rows × 31 columns</p>\n",
       "</div>"
      ],
      "text/plain": [
       "      Age  Attrition     BusinessTravel  DailyRate            Department  \\\n",
       "1191   53        0.0      Travel_Rarely        238                 Sales   \n",
       "407    29        0.0  Travel_Frequently        995  Research_Development   \n",
       "1233   59        0.0  Travel_Frequently       1225                 Sales   \n",
       "366    37        0.0      Travel_Rarely        571  Research_Development   \n",
       "702    31        0.0  Travel_Frequently        163  Research_Development   \n",
       "\n",
       "      DistanceFromHome      Education    EducationField  \\\n",
       "1191                 1  Below_College           Medical   \n",
       "407                  2  Below_College     Life_Sciences   \n",
       "1233                 1  Below_College     Life_Sciences   \n",
       "366                 10  Below_College     Life_Sciences   \n",
       "702                 24  Below_College  Technical_Degree   \n",
       "\n",
       "     EnvironmentSatisfaction  Gender  ...  PerformanceRating  \\\n",
       "1191               Very_High  Female  ...        Outstanding   \n",
       "407                      Low    Male  ...          Excellent   \n",
       "1233                     Low  Female  ...          Excellent   \n",
       "366                Very_High  Female  ...          Excellent   \n",
       "702                Very_High  Female  ...        Outstanding   \n",
       "\n",
       "     RelationshipSatisfaction  StockOptionLevel TotalWorkingYears  \\\n",
       "1191                Very_High                 0                18   \n",
       "407                 Very_High                 1                 6   \n",
       "1233                Very_High                 0                20   \n",
       "366                    Medium                 2                 6   \n",
       "702                 Very_High                 0                 9   \n",
       "\n",
       "     TrainingTimesLastYear WorkLifeBalance  YearsAtCompany  \\\n",
       "1191                     2            Best              14   \n",
       "407                      0            Best               6   \n",
       "1233                     2            Good               4   \n",
       "366                      3            Good               5   \n",
       "702                      3            Good               5   \n",
       "\n",
       "      YearsInCurrentRole  YearsSinceLastPromotion YearsWithCurrManager  \n",
       "1191                   7                        8                   10  \n",
       "407                    4                        1                    3  \n",
       "1233                   3                        1                    3  \n",
       "366                    3                        4                    3  \n",
       "702                    4                        1                    4  \n",
       "\n",
       "[5 rows x 31 columns]"
      ]
     },
     "execution_count": 53,
     "metadata": {},
     "output_type": "execute_result"
    }
   ],
   "source": [
    "# Get 30 employees from each Education group\n",
    "attrition_eq = attrition_pop.groupby('Education')\\\n",
    "\t.sample(n=30, random_state=2022)      \n",
    "attrition_eq.head()"
   ]
  },
  {
   "cell_type": "code",
   "execution_count": 54,
   "id": "42507767",
   "metadata": {},
   "outputs": [
    {
     "data": {
      "text/plain": [
       "Below_College    0.2\n",
       "College          0.2\n",
       "Bachelor         0.2\n",
       "Master           0.2\n",
       "Doctor           0.2\n",
       "Name: Education, dtype: float64"
      ]
     },
     "execution_count": 54,
     "metadata": {},
     "output_type": "execute_result"
    }
   ],
   "source": [
    "# Get the proportions from attrition_eq\n",
    "education_counts_eq = attrition_eq['Education'].value_counts(normalize=True)\n",
    "\n",
    "# Print the results\n",
    "education_counts_eq"
   ]
  },
  {
   "cell_type": "markdown",
   "id": "18e8de69",
   "metadata": {},
   "source": [
    "> If you want each subgroup to have equal weight in your analysis, then equal counts stratified sampling is the appropriate technique.\n",
    "### Weighted sampling\n"
   ]
  },
  {
   "cell_type": "code",
   "execution_count": 55,
   "id": "c35c6531",
   "metadata": {},
   "outputs": [
    {
     "data": {
      "image/png": "[encoded data removed]",
      "text/plain": [
       "<Figure size 432x288 with 1 Axes>"
      ]
     },
     "metadata": {
      "needs_background": "light"
     },
     "output_type": "display_data"
    }
   ],
   "source": [
    "# Plot YearsAtCompany from attrition_pop as a histogram\n",
    "attrition_pop['YearsAtCompany'].hist(bins=np.arange(0,41,1))\n",
    "plt.show()"
   ]
  },
  {
   "cell_type": "code",
   "execution_count": 56,
   "id": "0ea77f99",
   "metadata": {},
   "outputs": [
    {
     "data": {
      "text/plain": [
       "168      3\n",
       "412      4\n",
       "1144     2\n",
       "1180    13\n",
       "743     10\n",
       "        ..\n",
       "693      4\n",
       "40       1\n",
       "767     10\n",
       "183      3\n",
       "411      6\n",
       "Name: YearsAtCompany, Length: 400, dtype: int32"
      ]
     },
     "execution_count": 56,
     "metadata": {},
     "output_type": "execute_result"
    }
   ],
   "source": [
    "# Sample 400 employees weighted by YearsAtCompany\n",
    "attrition_weight = attrition_pop['YearsAtCompany'].sample(400)\n",
    "\n",
    "attrition_weight"
   ]
  },
  {
   "cell_type": "code",
   "execution_count": 57,
   "id": "9dd04164",
   "metadata": {},
   "outputs": [
    {
     "data": {
      "text/html": [
       "<div>\n",
       "<style scoped>\n",
       "    .dataframe tbody tr th:only-of-type {\n",
       "        vertical-align: middle;\n",
       "    }\n",
       "\n",
       "    .dataframe tbody tr th {\n",
       "        vertical-align: top;\n",
       "    }\n",
       "\n",
       "    .dataframe thead th {\n",
       "        text-align: right;\n",
       "    }\n",
       "</style>\n",
       "<table border=\"1\" class=\"dataframe\">\n",
       "  <thead>\n",
       "    <tr style=\"text-align: right;\">\n",
       "      <th></th>\n",
       "      <th>Age</th>\n",
       "      <th>Attrition</th>\n",
       "      <th>BusinessTravel</th>\n",
       "      <th>DailyRate</th>\n",
       "      <th>Department</th>\n",
       "      <th>DistanceFromHome</th>\n",
       "      <th>Education</th>\n",
       "      <th>EducationField</th>\n",
       "      <th>EnvironmentSatisfaction</th>\n",
       "      <th>Gender</th>\n",
       "      <th>...</th>\n",
       "      <th>PerformanceRating</th>\n",
       "      <th>RelationshipSatisfaction</th>\n",
       "      <th>StockOptionLevel</th>\n",
       "      <th>TotalWorkingYears</th>\n",
       "      <th>TrainingTimesLastYear</th>\n",
       "      <th>WorkLifeBalance</th>\n",
       "      <th>YearsAtCompany</th>\n",
       "      <th>YearsInCurrentRole</th>\n",
       "      <th>YearsSinceLastPromotion</th>\n",
       "      <th>YearsWithCurrManager</th>\n",
       "    </tr>\n",
       "  </thead>\n",
       "  <tbody>\n",
       "    <tr>\n",
       "      <th>1469</th>\n",
       "      <td>58</td>\n",
       "      <td>1.0</td>\n",
       "      <td>Travel_Rarely</td>\n",
       "      <td>286</td>\n",
       "      <td>Research_Development</td>\n",
       "      <td>2</td>\n",
       "      <td>Master</td>\n",
       "      <td>Life_Sciences</td>\n",
       "      <td>Very_High</td>\n",
       "      <td>Male</td>\n",
       "      <td>...</td>\n",
       "      <td>Excellent</td>\n",
       "      <td>Very_High</td>\n",
       "      <td>0</td>\n",
       "      <td>40</td>\n",
       "      <td>2</td>\n",
       "      <td>Better</td>\n",
       "      <td>31</td>\n",
       "      <td>15</td>\n",
       "      <td>13</td>\n",
       "      <td>8</td>\n",
       "    </tr>\n",
       "    <tr>\n",
       "      <th>410</th>\n",
       "      <td>28</td>\n",
       "      <td>0.0</td>\n",
       "      <td>Travel_Rarely</td>\n",
       "      <td>580</td>\n",
       "      <td>Research_Development</td>\n",
       "      <td>27</td>\n",
       "      <td>Bachelor</td>\n",
       "      <td>Medical</td>\n",
       "      <td>Medium</td>\n",
       "      <td>Female</td>\n",
       "      <td>...</td>\n",
       "      <td>Outstanding</td>\n",
       "      <td>Medium</td>\n",
       "      <td>1</td>\n",
       "      <td>6</td>\n",
       "      <td>5</td>\n",
       "      <td>Good</td>\n",
       "      <td>5</td>\n",
       "      <td>3</td>\n",
       "      <td>0</td>\n",
       "      <td>0</td>\n",
       "    </tr>\n",
       "    <tr>\n",
       "      <th>1271</th>\n",
       "      <td>39</td>\n",
       "      <td>0.0</td>\n",
       "      <td>Travel_Rarely</td>\n",
       "      <td>117</td>\n",
       "      <td>Research_Development</td>\n",
       "      <td>10</td>\n",
       "      <td>Below_College</td>\n",
       "      <td>Medical</td>\n",
       "      <td>High</td>\n",
       "      <td>Male</td>\n",
       "      <td>...</td>\n",
       "      <td>Excellent</td>\n",
       "      <td>Very_High</td>\n",
       "      <td>0</td>\n",
       "      <td>21</td>\n",
       "      <td>3</td>\n",
       "      <td>Better</td>\n",
       "      <td>21</td>\n",
       "      <td>9</td>\n",
       "      <td>11</td>\n",
       "      <td>10</td>\n",
       "    </tr>\n",
       "    <tr>\n",
       "      <th>242</th>\n",
       "      <td>25</td>\n",
       "      <td>0.0</td>\n",
       "      <td>Travel_Rarely</td>\n",
       "      <td>685</td>\n",
       "      <td>Research_Development</td>\n",
       "      <td>1</td>\n",
       "      <td>Bachelor</td>\n",
       "      <td>Life_Sciences</td>\n",
       "      <td>Low</td>\n",
       "      <td>Female</td>\n",
       "      <td>...</td>\n",
       "      <td>Excellent</td>\n",
       "      <td>Very_High</td>\n",
       "      <td>2</td>\n",
       "      <td>5</td>\n",
       "      <td>3</td>\n",
       "      <td>Better</td>\n",
       "      <td>4</td>\n",
       "      <td>2</td>\n",
       "      <td>1</td>\n",
       "      <td>2</td>\n",
       "    </tr>\n",
       "    <tr>\n",
       "      <th>233</th>\n",
       "      <td>34</td>\n",
       "      <td>0.0</td>\n",
       "      <td>Travel_Rarely</td>\n",
       "      <td>1153</td>\n",
       "      <td>Research_Development</td>\n",
       "      <td>1</td>\n",
       "      <td>College</td>\n",
       "      <td>Medical</td>\n",
       "      <td>Low</td>\n",
       "      <td>Male</td>\n",
       "      <td>...</td>\n",
       "      <td>Excellent</td>\n",
       "      <td>High</td>\n",
       "      <td>0</td>\n",
       "      <td>5</td>\n",
       "      <td>2</td>\n",
       "      <td>Better</td>\n",
       "      <td>5</td>\n",
       "      <td>2</td>\n",
       "      <td>1</td>\n",
       "      <td>3</td>\n",
       "    </tr>\n",
       "  </tbody>\n",
       "</table>\n",
       "<p>5 rows × 31 columns</p>\n",
       "</div>"
      ],
      "text/plain": [
       "      Age  Attrition BusinessTravel  DailyRate            Department  \\\n",
       "1469   58        1.0  Travel_Rarely        286  Research_Development   \n",
       "410    28        0.0  Travel_Rarely        580  Research_Development   \n",
       "1271   39        0.0  Travel_Rarely        117  Research_Development   \n",
       "242    25        0.0  Travel_Rarely        685  Research_Development   \n",
       "233    34        0.0  Travel_Rarely       1153  Research_Development   \n",
       "\n",
       "      DistanceFromHome      Education EducationField EnvironmentSatisfaction  \\\n",
       "1469                 2         Master  Life_Sciences               Very_High   \n",
       "410                 27       Bachelor        Medical                  Medium   \n",
       "1271                10  Below_College        Medical                    High   \n",
       "242                  1       Bachelor  Life_Sciences                     Low   \n",
       "233                  1        College        Medical                     Low   \n",
       "\n",
       "      Gender  ...  PerformanceRating RelationshipSatisfaction  \\\n",
       "1469    Male  ...          Excellent                Very_High   \n",
       "410   Female  ...        Outstanding                   Medium   \n",
       "1271    Male  ...          Excellent                Very_High   \n",
       "242   Female  ...          Excellent                Very_High   \n",
       "233     Male  ...          Excellent                     High   \n",
       "\n",
       "      StockOptionLevel TotalWorkingYears TrainingTimesLastYear  \\\n",
       "1469                 0                40                     2   \n",
       "410                  1                 6                     5   \n",
       "1271                 0                21                     3   \n",
       "242                  2                 5                     3   \n",
       "233                  0                 5                     2   \n",
       "\n",
       "     WorkLifeBalance  YearsAtCompany  YearsInCurrentRole  \\\n",
       "1469          Better              31                  15   \n",
       "410             Good               5                   3   \n",
       "1271          Better              21                   9   \n",
       "242           Better               4                   2   \n",
       "233           Better               5                   2   \n",
       "\n",
       "      YearsSinceLastPromotion YearsWithCurrManager  \n",
       "1469                       13                    8  \n",
       "410                         0                    0  \n",
       "1271                       11                   10  \n",
       "242                         1                    2  \n",
       "233                         1                    3  \n",
       "\n",
       "[5 rows x 31 columns]"
      ]
     },
     "execution_count": 57,
     "metadata": {},
     "output_type": "execute_result"
    }
   ],
   "source": [
    "# Sample 400 employees weighted by YearsAtCompany\n",
    "attrition_weight = attrition_pop.sample(n=400, weights=\"YearsAtCompany\")\n",
    "attrition_weight.head()"
   ]
  },
  {
   "cell_type": "code",
   "execution_count": 58,
   "id": "c46042bc",
   "metadata": {},
   "outputs": [
    {
     "data": {
      "image/png": "[encoded data removed]",
      "text/plain": [
       "<Figure size 432x288 with 1 Axes>"
      ]
     },
     "metadata": {
      "needs_background": "light"
     },
     "output_type": "display_data"
    }
   ],
   "source": [
    "# Plot YearsAtCompany from attrition_weight as a histogram\n",
    "attrition_weight['YearsAtCompany'].hist(bins=np.arange(0, 41, 1))\n",
    "plt.show()"
   ]
  },
  {
   "cell_type": "code",
   "execution_count": 59,
   "id": "95b5e418",
   "metadata": {},
   "outputs": [
    {
     "data": {
      "image/png": "[encoded data removed]",
      "text/plain": [
       "<Figure size 432x288 with 1 Axes>"
      ]
     },
     "metadata": {
      "needs_background": "light"
     },
     "output_type": "display_data"
    }
   ],
   "source": [
    "attrition_pop['YearsAtCompany'].hist(bins=np.arange(0, 41, 1))\n",
    "attrition_weight['YearsAtCompany'].hist(bins=np.arange(0, 41, 1))\n",
    "plt.show()"
   ]
  },
  {
   "cell_type": "markdown",
   "id": "f8b3cf7e",
   "metadata": {},
   "source": [
    "> The weighted sample mean is around 11, which is higher than the population mean of around 7. The fact that the two numbers are different means that the weighted simple random sample is biased.\n",
    "## What a cluster...\n",
    "\n",
    "#### Stratified sampling vs. Cluster sampling\n",
    "\n",
    "**Stratified:**\n",
    "* Split the population into subgroups.\n",
    "* Use simple random sampling on every subgroup.\n",
    "\n",
    "**Cluster:**\n",
    "* Use simple random sampling to pick some subgroups.\n",
    "* Use simple random sampling on only those subgroups."
   ]
  },
  {
   "cell_type": "code",
   "execution_count": 60,
   "id": "a47ef284",
   "metadata": {},
   "outputs": [
    {
     "data": {
      "text/plain": [
       "[None,\n",
       " 'Other',\n",
       " 'Bourbon',\n",
       " 'Catimor',\n",
       " 'Ethiopian Yirgacheffe',\n",
       " 'Caturra',\n",
       " 'SL14',\n",
       " 'Sumatra',\n",
       " 'SL34',\n",
       " 'Hawaiian Kona',\n",
       " 'Yellow Bourbon',\n",
       " 'SL28',\n",
       " 'Gesha',\n",
       " 'Catuai',\n",
       " 'Pacamara',\n",
       " 'Typica',\n",
       " 'Sumatra Lintong',\n",
       " 'Mundo Novo',\n",
       " 'Java',\n",
       " 'Peaberry',\n",
       " 'Pacas',\n",
       " 'Mandheling',\n",
       " 'Ruiru 11',\n",
       " 'Arusha',\n",
       " 'Ethiopian Heirlooms',\n",
       " 'Moka Peaberry',\n",
       " 'Sulawesi',\n",
       " 'Blue Mountain',\n",
       " 'Marigojipe',\n",
       " 'Pache Comun']"
      ]
     },
     "execution_count": 60,
     "metadata": {},
     "output_type": "execute_result"
    }
   ],
   "source": [
    "varieties_pop = list(coffee_ratings['variety'].unique())\n",
    "varieties_pop"
   ]
  },
  {
   "cell_type": "markdown",
   "id": "d35f9772",
   "metadata": {},
   "source": [
    "##### Stage 1: sampling subgroups"
   ]
  },
  {
   "cell_type": "code",
   "execution_count": 61,
   "id": "8e23574c",
   "metadata": {},
   "outputs": [
    {
     "data": {
      "text/plain": [
       "['Yellow Bourbon', 'SL14', 'Caturra']"
      ]
     },
     "execution_count": 61,
     "metadata": {},
     "output_type": "execute_result"
    }
   ],
   "source": [
    "import random\n",
    "varieties_sample = random.sample(varieties_pop, k=3)\n",
    "varieties_sample"
   ]
  },
  {
   "cell_type": "markdown",
   "id": "a676ff64",
   "metadata": {},
   "source": [
    "##### Stage 2: sampling each group\n"
   ]
  },
  {
   "cell_type": "code",
   "execution_count": 62,
   "id": "ac0af866",
   "metadata": {},
   "outputs": [
    {
     "data": {
      "text/plain": [
       "Caturra           255\n",
       "Yellow Bourbon     35\n",
       "SL14               17\n",
       "Name: variety, dtype: int64"
      ]
     },
     "execution_count": 62,
     "metadata": {},
     "output_type": "execute_result"
    }
   ],
   "source": [
    "variety_condition = coffee_ratings['variety'].isin(varieties_sample)\n",
    "coffee_ratings_cluster = coffee_ratings[variety_condition]\n",
    "coffee_ratings_cluster = coffee_ratings_cluster.copy()\n",
    "coffee_ratings_cluster['variety'] = coffee_ratings_cluster['variety'].astype('category').cat.remove_unused_categories()\n",
    "\n",
    "coffee_ratings_cluster['variety'].value_counts()"
   ]
  },
  {
   "cell_type": "code",
   "execution_count": 63,
   "id": "269d5f24",
   "metadata": {
    "scrolled": false
   },
   "outputs": [
    {
     "data": {
      "text/plain": [
       "Caturra           255\n",
       "Yellow Bourbon     35\n",
       "SL14               17\n",
       "Name: variety, dtype: int64"
      ]
     },
     "execution_count": 63,
     "metadata": {},
     "output_type": "execute_result"
    }
   ],
   "source": [
    "coffee_ratings_cluster['variety'] = coffee_ratings_cluster['variety'].astype('category').cat.remove_unused_categories()\n",
    "\n",
    "coffee_ratings_cluster['variety'].value_counts()"
   ]
  },
  {
   "cell_type": "code",
   "execution_count": 64,
   "id": "d0bd57cb",
   "metadata": {},
   "outputs": [
    {
     "data": {
      "text/html": [
       "<div>\n",
       "<style scoped>\n",
       "    .dataframe tbody tr th:only-of-type {\n",
       "        vertical-align: middle;\n",
       "    }\n",
       "\n",
       "    .dataframe tbody tr th {\n",
       "        vertical-align: top;\n",
       "    }\n",
       "\n",
       "    .dataframe thead th {\n",
       "        text-align: right;\n",
       "    }\n",
       "</style>\n",
       "<table border=\"1\" class=\"dataframe\">\n",
       "  <thead>\n",
       "    <tr style=\"text-align: right;\">\n",
       "      <th></th>\n",
       "      <th>total_cup_points</th>\n",
       "      <th>species</th>\n",
       "      <th>owner</th>\n",
       "      <th>country_of_origin</th>\n",
       "      <th>farm_name</th>\n",
       "      <th>lot_number</th>\n",
       "      <th>mill</th>\n",
       "      <th>ico_number</th>\n",
       "      <th>company</th>\n",
       "      <th>altitude</th>\n",
       "      <th>...</th>\n",
       "      <th>color</th>\n",
       "      <th>category_two_defects</th>\n",
       "      <th>expiration</th>\n",
       "      <th>certification_body</th>\n",
       "      <th>certification_address</th>\n",
       "      <th>certification_contact</th>\n",
       "      <th>unit_of_measurement</th>\n",
       "      <th>altitude_low_meters</th>\n",
       "      <th>altitude_high_meters</th>\n",
       "      <th>altitude_mean_meters</th>\n",
       "    </tr>\n",
       "  </thead>\n",
       "  <tbody>\n",
       "    <tr>\n",
       "      <th>97</th>\n",
       "      <td>85.00</td>\n",
       "      <td>Arabica</td>\n",
       "      <td>racafe &amp; cia s.c.a</td>\n",
       "      <td>Colombia</td>\n",
       "      <td>None</td>\n",
       "      <td>3-37-1829</td>\n",
       "      <td>bachue</td>\n",
       "      <td>3-37-1829</td>\n",
       "      <td>racafe &amp; cia s.c.a</td>\n",
       "      <td>None</td>\n",
       "      <td>...</td>\n",
       "      <td>Green</td>\n",
       "      <td>3.0</td>\n",
       "      <td>February 15th, 2018</td>\n",
       "      <td>Almacafé</td>\n",
       "      <td>e493c36c2d076bf273064f7ac23ad562af257a25</td>\n",
       "      <td>70d3c0c26f89e00fdae6fb39ff54f0d2eb1c38ab</td>\n",
       "      <td>m</td>\n",
       "      <td>NaN</td>\n",
       "      <td>NaN</td>\n",
       "      <td>NaN</td>\n",
       "    </tr>\n",
       "    <tr>\n",
       "      <th>380</th>\n",
       "      <td>83.42</td>\n",
       "      <td>Arabica</td>\n",
       "      <td>bugisu cooperative union</td>\n",
       "      <td>Uganda</td>\n",
       "      <td>bulago &amp; buginyanya</td>\n",
       "      <td>5055</td>\n",
       "      <td>bcu</td>\n",
       "      <td>7697</td>\n",
       "      <td>bugisu cooperative union</td>\n",
       "      <td>1800</td>\n",
       "      <td>...</td>\n",
       "      <td>Green</td>\n",
       "      <td>1.0</td>\n",
       "      <td>July 21st, 2017</td>\n",
       "      <td>Uganda Coffee Development Authority</td>\n",
       "      <td>188fe373b511e21f614564bf86aa4774270d8e04</td>\n",
       "      <td>b7614767a5343729bbde3a2777c60ce836aed928</td>\n",
       "      <td>m</td>\n",
       "      <td>1800.0</td>\n",
       "      <td>1800.0</td>\n",
       "      <td>1800.0</td>\n",
       "    </tr>\n",
       "    <tr>\n",
       "      <th>683</th>\n",
       "      <td>82.42</td>\n",
       "      <td>Arabica</td>\n",
       "      <td>ipanema coffees</td>\n",
       "      <td>Brazil</td>\n",
       "      <td>rio verde</td>\n",
       "      <td>None</td>\n",
       "      <td>ipanema comercial e exportadora sa</td>\n",
       "      <td>002/4177/0150</td>\n",
       "      <td>ipanema coffees</td>\n",
       "      <td>1</td>\n",
       "      <td>...</td>\n",
       "      <td>Green</td>\n",
       "      <td>0.0</td>\n",
       "      <td>October 7th, 2016</td>\n",
       "      <td>Brazil Specialty Coffee Association</td>\n",
       "      <td>3297cfa4c538e3dd03f72cc4082c54f7999e1f9d</td>\n",
       "      <td>8900f0bf1d0b2bafe6807a73562c7677d57eb980</td>\n",
       "      <td>m</td>\n",
       "      <td>1.0</td>\n",
       "      <td>1.0</td>\n",
       "      <td>1.0</td>\n",
       "    </tr>\n",
       "  </tbody>\n",
       "</table>\n",
       "<p>3 rows × 43 columns</p>\n",
       "</div>"
      ],
      "text/plain": [
       "     total_cup_points  species                     owner country_of_origin  \\\n",
       "97              85.00  Arabica        racafe & cia s.c.a          Colombia   \n",
       "380             83.42  Arabica  bugisu cooperative union            Uganda   \n",
       "683             82.42  Arabica           ipanema coffees            Brazil   \n",
       "\n",
       "               farm_name lot_number                                mill  \\\n",
       "97                  None  3-37-1829                              bachue   \n",
       "380  bulago & buginyanya       5055                                 bcu   \n",
       "683            rio verde       None  ipanema comercial e exportadora sa   \n",
       "\n",
       "        ico_number                   company altitude  ...  color  \\\n",
       "97       3-37-1829        racafe & cia s.c.a     None  ...  Green   \n",
       "380           7697  bugisu cooperative union     1800  ...  Green   \n",
       "683  002/4177/0150           ipanema coffees        1  ...  Green   \n",
       "\n",
       "    category_two_defects           expiration  \\\n",
       "97                   3.0  February 15th, 2018   \n",
       "380                  1.0      July 21st, 2017   \n",
       "683                  0.0    October 7th, 2016   \n",
       "\n",
       "                      certification_body  \\\n",
       "97                              Almacafé   \n",
       "380  Uganda Coffee Development Authority   \n",
       "683  Brazil Specialty Coffee Association   \n",
       "\n",
       "                        certification_address  \\\n",
       "97   e493c36c2d076bf273064f7ac23ad562af257a25   \n",
       "380  188fe373b511e21f614564bf86aa4774270d8e04   \n",
       "683  3297cfa4c538e3dd03f72cc4082c54f7999e1f9d   \n",
       "\n",
       "                        certification_contact unit_of_measurement  \\\n",
       "97   70d3c0c26f89e00fdae6fb39ff54f0d2eb1c38ab                   m   \n",
       "380  b7614767a5343729bbde3a2777c60ce836aed928                   m   \n",
       "683  8900f0bf1d0b2bafe6807a73562c7677d57eb980                   m   \n",
       "\n",
       "    altitude_low_meters altitude_high_meters altitude_mean_meters  \n",
       "97                  NaN                  NaN                  NaN  \n",
       "380              1800.0               1800.0               1800.0  \n",
       "683                 1.0                  1.0                  1.0  \n",
       "\n",
       "[3 rows x 43 columns]"
      ]
     },
     "execution_count": 64,
     "metadata": {},
     "output_type": "execute_result"
    }
   ],
   "source": [
    "coffee_ratings_cluster.groupby('variety').sample(n=1, random_state=2021)"
   ]
  },
  {
   "cell_type": "markdown",
   "id": "900fea74",
   "metadata": {},
   "source": [
    "> 3 rows 1 of each variety.\n",
    "\n",
    "**Multistage sampling**\n",
    "* Cluster sampling is a type of multistage sampling.\n",
    "* Can have more than 2 stages.\n",
    "* Cases: Countrywide surveys may sample states, counties, cities, and neighborhoods.\n",
    "\n",
    "\n",
    "> **The main benefit of cluster sampling over stratified sampling is that you can save time and money by not including every subgroup in your sample.**\n",
    "\n",
    "### Cluster sampling\n"
   ]
  },
  {
   "cell_type": "code",
   "execution_count": 65,
   "id": "23df4f4c",
   "metadata": {},
   "outputs": [
    {
     "data": {
      "text/plain": [
       "['Research_Scientist',\n",
       " 'Sales_Representative',\n",
       " 'Laboratory_Technician',\n",
       " 'Human_Resources',\n",
       " 'Sales_Executive',\n",
       " 'Manufacturing_Director',\n",
       " 'Healthcare_Representative',\n",
       " 'Research_Director',\n",
       " 'Manager']"
      ]
     },
     "execution_count": 65,
     "metadata": {},
     "output_type": "execute_result"
    }
   ],
   "source": [
    "# Create a list of unique JobRole values\n",
    "job_roles_pop = list(attrition_pop['JobRole'].unique())\n",
    "job_roles_pop"
   ]
  },
  {
   "cell_type": "code",
   "execution_count": 66,
   "id": "85f6cc1d",
   "metadata": {
    "scrolled": true
   },
   "outputs": [
    {
     "data": {
      "text/plain": [
       "['Healthcare_Representative',\n",
       " 'Research_Scientist',\n",
       " 'Research_Director',\n",
       " 'Manager']"
      ]
     },
     "execution_count": 66,
     "metadata": {},
     "output_type": "execute_result"
    }
   ],
   "source": [
    "# Randomly sample four JobRole values\n",
    "job_roles_samp = random.sample(job_roles_pop, k=4)\n",
    "job_roles_samp"
   ]
  },
  {
   "cell_type": "code",
   "execution_count": 67,
   "id": "f0db18bd",
   "metadata": {
    "scrolled": true
   },
   "outputs": [
    {
     "data": {
      "text/html": [
       "<div>\n",
       "<style scoped>\n",
       "    .dataframe tbody tr th:only-of-type {\n",
       "        vertical-align: middle;\n",
       "    }\n",
       "\n",
       "    .dataframe tbody tr th {\n",
       "        vertical-align: top;\n",
       "    }\n",
       "\n",
       "    .dataframe thead th {\n",
       "        text-align: right;\n",
       "    }\n",
       "</style>\n",
       "<table border=\"1\" class=\"dataframe\">\n",
       "  <thead>\n",
       "    <tr style=\"text-align: right;\">\n",
       "      <th></th>\n",
       "      <th>Age</th>\n",
       "      <th>Attrition</th>\n",
       "      <th>BusinessTravel</th>\n",
       "      <th>DailyRate</th>\n",
       "      <th>Department</th>\n",
       "      <th>DistanceFromHome</th>\n",
       "      <th>Education</th>\n",
       "      <th>EducationField</th>\n",
       "      <th>EnvironmentSatisfaction</th>\n",
       "      <th>Gender</th>\n",
       "      <th>...</th>\n",
       "      <th>PerformanceRating</th>\n",
       "      <th>RelationshipSatisfaction</th>\n",
       "      <th>StockOptionLevel</th>\n",
       "      <th>TotalWorkingYears</th>\n",
       "      <th>TrainingTimesLastYear</th>\n",
       "      <th>WorkLifeBalance</th>\n",
       "      <th>YearsAtCompany</th>\n",
       "      <th>YearsInCurrentRole</th>\n",
       "      <th>YearsSinceLastPromotion</th>\n",
       "      <th>YearsWithCurrManager</th>\n",
       "    </tr>\n",
       "  </thead>\n",
       "  <tbody>\n",
       "    <tr>\n",
       "      <th>0</th>\n",
       "      <td>21</td>\n",
       "      <td>0.0</td>\n",
       "      <td>Travel_Rarely</td>\n",
       "      <td>391</td>\n",
       "      <td>Research_Development</td>\n",
       "      <td>15</td>\n",
       "      <td>College</td>\n",
       "      <td>Life_Sciences</td>\n",
       "      <td>High</td>\n",
       "      <td>Male</td>\n",
       "      <td>...</td>\n",
       "      <td>Excellent</td>\n",
       "      <td>Very_High</td>\n",
       "      <td>0</td>\n",
       "      <td>0</td>\n",
       "      <td>6</td>\n",
       "      <td>Better</td>\n",
       "      <td>0</td>\n",
       "      <td>0</td>\n",
       "      <td>0</td>\n",
       "      <td>0</td>\n",
       "    </tr>\n",
       "    <tr>\n",
       "      <th>5</th>\n",
       "      <td>27</td>\n",
       "      <td>0.0</td>\n",
       "      <td>Non-Travel</td>\n",
       "      <td>443</td>\n",
       "      <td>Research_Development</td>\n",
       "      <td>3</td>\n",
       "      <td>Bachelor</td>\n",
       "      <td>Medical</td>\n",
       "      <td>Very_High</td>\n",
       "      <td>Male</td>\n",
       "      <td>...</td>\n",
       "      <td>Excellent</td>\n",
       "      <td>High</td>\n",
       "      <td>3</td>\n",
       "      <td>0</td>\n",
       "      <td>6</td>\n",
       "      <td>Good</td>\n",
       "      <td>0</td>\n",
       "      <td>0</td>\n",
       "      <td>0</td>\n",
       "      <td>0</td>\n",
       "    </tr>\n",
       "    <tr>\n",
       "      <th>6</th>\n",
       "      <td>18</td>\n",
       "      <td>0.0</td>\n",
       "      <td>Non-Travel</td>\n",
       "      <td>287</td>\n",
       "      <td>Research_Development</td>\n",
       "      <td>5</td>\n",
       "      <td>College</td>\n",
       "      <td>Life_Sciences</td>\n",
       "      <td>Medium</td>\n",
       "      <td>Male</td>\n",
       "      <td>...</td>\n",
       "      <td>Excellent</td>\n",
       "      <td>Very_High</td>\n",
       "      <td>0</td>\n",
       "      <td>0</td>\n",
       "      <td>2</td>\n",
       "      <td>Better</td>\n",
       "      <td>0</td>\n",
       "      <td>0</td>\n",
       "      <td>0</td>\n",
       "      <td>0</td>\n",
       "    </tr>\n",
       "    <tr>\n",
       "      <th>10</th>\n",
       "      <td>18</td>\n",
       "      <td>0.0</td>\n",
       "      <td>Non-Travel</td>\n",
       "      <td>1431</td>\n",
       "      <td>Research_Development</td>\n",
       "      <td>14</td>\n",
       "      <td>Bachelor</td>\n",
       "      <td>Medical</td>\n",
       "      <td>Medium</td>\n",
       "      <td>Female</td>\n",
       "      <td>...</td>\n",
       "      <td>Excellent</td>\n",
       "      <td>High</td>\n",
       "      <td>0</td>\n",
       "      <td>0</td>\n",
       "      <td>4</td>\n",
       "      <td>Bad</td>\n",
       "      <td>0</td>\n",
       "      <td>0</td>\n",
       "      <td>0</td>\n",
       "      <td>0</td>\n",
       "    </tr>\n",
       "    <tr>\n",
       "      <th>17</th>\n",
       "      <td>31</td>\n",
       "      <td>0.0</td>\n",
       "      <td>Travel_Rarely</td>\n",
       "      <td>1082</td>\n",
       "      <td>Research_Development</td>\n",
       "      <td>1</td>\n",
       "      <td>Master</td>\n",
       "      <td>Medical</td>\n",
       "      <td>High</td>\n",
       "      <td>Male</td>\n",
       "      <td>...</td>\n",
       "      <td>Excellent</td>\n",
       "      <td>Medium</td>\n",
       "      <td>0</td>\n",
       "      <td>1</td>\n",
       "      <td>4</td>\n",
       "      <td>Better</td>\n",
       "      <td>1</td>\n",
       "      <td>1</td>\n",
       "      <td>1</td>\n",
       "      <td>0</td>\n",
       "    </tr>\n",
       "  </tbody>\n",
       "</table>\n",
       "<p>5 rows × 31 columns</p>\n",
       "</div>"
      ],
      "text/plain": [
       "    Age  Attrition BusinessTravel  DailyRate            Department  \\\n",
       "0    21        0.0  Travel_Rarely        391  Research_Development   \n",
       "5    27        0.0     Non-Travel        443  Research_Development   \n",
       "6    18        0.0     Non-Travel        287  Research_Development   \n",
       "10   18        0.0     Non-Travel       1431  Research_Development   \n",
       "17   31        0.0  Travel_Rarely       1082  Research_Development   \n",
       "\n",
       "    DistanceFromHome Education EducationField EnvironmentSatisfaction  Gender  \\\n",
       "0                 15   College  Life_Sciences                    High    Male   \n",
       "5                  3  Bachelor        Medical               Very_High    Male   \n",
       "6                  5   College  Life_Sciences                  Medium    Male   \n",
       "10                14  Bachelor        Medical                  Medium  Female   \n",
       "17                 1    Master        Medical                    High    Male   \n",
       "\n",
       "    ...  PerformanceRating RelationshipSatisfaction  StockOptionLevel  \\\n",
       "0   ...          Excellent                Very_High                 0   \n",
       "5   ...          Excellent                     High                 3   \n",
       "6   ...          Excellent                Very_High                 0   \n",
       "10  ...          Excellent                     High                 0   \n",
       "17  ...          Excellent                   Medium                 0   \n",
       "\n",
       "   TotalWorkingYears TrainingTimesLastYear WorkLifeBalance  YearsAtCompany  \\\n",
       "0                  0                     6          Better               0   \n",
       "5                  0                     6            Good               0   \n",
       "6                  0                     2          Better               0   \n",
       "10                 0                     4             Bad               0   \n",
       "17                 1                     4          Better               1   \n",
       "\n",
       "    YearsInCurrentRole  YearsSinceLastPromotion YearsWithCurrManager  \n",
       "0                    0                        0                    0  \n",
       "5                    0                        0                    0  \n",
       "6                    0                        0                    0  \n",
       "10                   0                        0                    0  \n",
       "17                   1                        1                    0  \n",
       "\n",
       "[5 rows x 31 columns]"
      ]
     },
     "execution_count": 67,
     "metadata": {},
     "output_type": "execute_result"
    }
   ],
   "source": [
    "# Filter for rows where JobRole is in job_roles_samp\n",
    "jobrole_condition = attrition_pop['JobRole'].isin(job_roles_samp)\n",
    "attrition_filtered = attrition_pop[jobrole_condition]\n",
    "attrition_filtered.head()"
   ]
  },
  {
   "cell_type": "code",
   "execution_count": 68,
   "id": "1759e530",
   "metadata": {},
   "outputs": [
    {
     "data": {
      "text/html": [
       "<div>\n",
       "<style scoped>\n",
       "    .dataframe tbody tr th:only-of-type {\n",
       "        vertical-align: middle;\n",
       "    }\n",
       "\n",
       "    .dataframe tbody tr th {\n",
       "        vertical-align: top;\n",
       "    }\n",
       "\n",
       "    .dataframe thead th {\n",
       "        text-align: right;\n",
       "    }\n",
       "</style>\n",
       "<table border=\"1\" class=\"dataframe\">\n",
       "  <thead>\n",
       "    <tr style=\"text-align: right;\">\n",
       "      <th></th>\n",
       "      <th>Age</th>\n",
       "      <th>Attrition</th>\n",
       "      <th>BusinessTravel</th>\n",
       "      <th>DailyRate</th>\n",
       "      <th>Department</th>\n",
       "      <th>DistanceFromHome</th>\n",
       "      <th>Education</th>\n",
       "      <th>EducationField</th>\n",
       "      <th>EnvironmentSatisfaction</th>\n",
       "      <th>Gender</th>\n",
       "      <th>...</th>\n",
       "      <th>PerformanceRating</th>\n",
       "      <th>RelationshipSatisfaction</th>\n",
       "      <th>StockOptionLevel</th>\n",
       "      <th>TotalWorkingYears</th>\n",
       "      <th>TrainingTimesLastYear</th>\n",
       "      <th>WorkLifeBalance</th>\n",
       "      <th>YearsAtCompany</th>\n",
       "      <th>YearsInCurrentRole</th>\n",
       "      <th>YearsSinceLastPromotion</th>\n",
       "      <th>YearsWithCurrManager</th>\n",
       "    </tr>\n",
       "  </thead>\n",
       "  <tbody>\n",
       "    <tr>\n",
       "      <th>812</th>\n",
       "      <td>31</td>\n",
       "      <td>0.0</td>\n",
       "      <td>Travel_Rarely</td>\n",
       "      <td>616</td>\n",
       "      <td>Research_Development</td>\n",
       "      <td>12</td>\n",
       "      <td>Bachelor</td>\n",
       "      <td>Medical</td>\n",
       "      <td>Very_High</td>\n",
       "      <td>Female</td>\n",
       "      <td>...</td>\n",
       "      <td>Excellent</td>\n",
       "      <td>High</td>\n",
       "      <td>2</td>\n",
       "      <td>10</td>\n",
       "      <td>2</td>\n",
       "      <td>Bad</td>\n",
       "      <td>9</td>\n",
       "      <td>7</td>\n",
       "      <td>8</td>\n",
       "      <td>5</td>\n",
       "    </tr>\n",
       "    <tr>\n",
       "      <th>1190</th>\n",
       "      <td>38</td>\n",
       "      <td>0.0</td>\n",
       "      <td>Travel_Rarely</td>\n",
       "      <td>1495</td>\n",
       "      <td>Research_Development</td>\n",
       "      <td>10</td>\n",
       "      <td>Bachelor</td>\n",
       "      <td>Medical</td>\n",
       "      <td>High</td>\n",
       "      <td>Female</td>\n",
       "      <td>...</td>\n",
       "      <td>Excellent</td>\n",
       "      <td>High</td>\n",
       "      <td>1</td>\n",
       "      <td>18</td>\n",
       "      <td>4</td>\n",
       "      <td>Better</td>\n",
       "      <td>1</td>\n",
       "      <td>0</td>\n",
       "      <td>0</td>\n",
       "      <td>0</td>\n",
       "    </tr>\n",
       "    <tr>\n",
       "      <th>378</th>\n",
       "      <td>33</td>\n",
       "      <td>0.0</td>\n",
       "      <td>Travel_Rarely</td>\n",
       "      <td>1069</td>\n",
       "      <td>Research_Development</td>\n",
       "      <td>1</td>\n",
       "      <td>Bachelor</td>\n",
       "      <td>Life_Sciences</td>\n",
       "      <td>Medium</td>\n",
       "      <td>Female</td>\n",
       "      <td>...</td>\n",
       "      <td>Excellent</td>\n",
       "      <td>Low</td>\n",
       "      <td>0</td>\n",
       "      <td>6</td>\n",
       "      <td>3</td>\n",
       "      <td>Better</td>\n",
       "      <td>5</td>\n",
       "      <td>0</td>\n",
       "      <td>1</td>\n",
       "      <td>4</td>\n",
       "    </tr>\n",
       "    <tr>\n",
       "      <th>920</th>\n",
       "      <td>35</td>\n",
       "      <td>0.0</td>\n",
       "      <td>Travel_Frequently</td>\n",
       "      <td>1199</td>\n",
       "      <td>Research_Development</td>\n",
       "      <td>18</td>\n",
       "      <td>Master</td>\n",
       "      <td>Life_Sciences</td>\n",
       "      <td>High</td>\n",
       "      <td>Male</td>\n",
       "      <td>...</td>\n",
       "      <td>Excellent</td>\n",
       "      <td>Very_High</td>\n",
       "      <td>2</td>\n",
       "      <td>10</td>\n",
       "      <td>2</td>\n",
       "      <td>Best</td>\n",
       "      <td>10</td>\n",
       "      <td>2</td>\n",
       "      <td>0</td>\n",
       "      <td>2</td>\n",
       "    </tr>\n",
       "    <tr>\n",
       "      <th>917</th>\n",
       "      <td>33</td>\n",
       "      <td>0.0</td>\n",
       "      <td>Travel_Rarely</td>\n",
       "      <td>501</td>\n",
       "      <td>Research_Development</td>\n",
       "      <td>15</td>\n",
       "      <td>College</td>\n",
       "      <td>Medical</td>\n",
       "      <td>Medium</td>\n",
       "      <td>Female</td>\n",
       "      <td>...</td>\n",
       "      <td>Excellent</td>\n",
       "      <td>Low</td>\n",
       "      <td>1</td>\n",
       "      <td>10</td>\n",
       "      <td>6</td>\n",
       "      <td>Better</td>\n",
       "      <td>9</td>\n",
       "      <td>7</td>\n",
       "      <td>8</td>\n",
       "      <td>1</td>\n",
       "    </tr>\n",
       "    <tr>\n",
       "      <th>1058</th>\n",
       "      <td>34</td>\n",
       "      <td>0.0</td>\n",
       "      <td>Travel_Rarely</td>\n",
       "      <td>404</td>\n",
       "      <td>Research_Development</td>\n",
       "      <td>2</td>\n",
       "      <td>Master</td>\n",
       "      <td>Technical_Degree</td>\n",
       "      <td>High</td>\n",
       "      <td>Female</td>\n",
       "      <td>...</td>\n",
       "      <td>Excellent</td>\n",
       "      <td>Very_High</td>\n",
       "      <td>0</td>\n",
       "      <td>14</td>\n",
       "      <td>2</td>\n",
       "      <td>Best</td>\n",
       "      <td>14</td>\n",
       "      <td>11</td>\n",
       "      <td>4</td>\n",
       "      <td>11</td>\n",
       "    </tr>\n",
       "    <tr>\n",
       "      <th>1264</th>\n",
       "      <td>46</td>\n",
       "      <td>0.0</td>\n",
       "      <td>Travel_Frequently</td>\n",
       "      <td>638</td>\n",
       "      <td>Research_Development</td>\n",
       "      <td>1</td>\n",
       "      <td>Bachelor</td>\n",
       "      <td>Medical</td>\n",
       "      <td>High</td>\n",
       "      <td>Male</td>\n",
       "      <td>...</td>\n",
       "      <td>Excellent</td>\n",
       "      <td>High</td>\n",
       "      <td>1</td>\n",
       "      <td>21</td>\n",
       "      <td>5</td>\n",
       "      <td>Good</td>\n",
       "      <td>10</td>\n",
       "      <td>9</td>\n",
       "      <td>9</td>\n",
       "      <td>5</td>\n",
       "    </tr>\n",
       "    <tr>\n",
       "      <th>1340</th>\n",
       "      <td>44</td>\n",
       "      <td>0.0</td>\n",
       "      <td>Travel_Rarely</td>\n",
       "      <td>477</td>\n",
       "      <td>Research_Development</td>\n",
       "      <td>7</td>\n",
       "      <td>Master</td>\n",
       "      <td>Medical</td>\n",
       "      <td>Low</td>\n",
       "      <td>Female</td>\n",
       "      <td>...</td>\n",
       "      <td>Excellent</td>\n",
       "      <td>Very_High</td>\n",
       "      <td>1</td>\n",
       "      <td>24</td>\n",
       "      <td>4</td>\n",
       "      <td>Better</td>\n",
       "      <td>22</td>\n",
       "      <td>6</td>\n",
       "      <td>5</td>\n",
       "      <td>17</td>\n",
       "    </tr>\n",
       "    <tr>\n",
       "      <th>655</th>\n",
       "      <td>34</td>\n",
       "      <td>0.0</td>\n",
       "      <td>Travel_Rarely</td>\n",
       "      <td>1442</td>\n",
       "      <td>Research_Development</td>\n",
       "      <td>9</td>\n",
       "      <td>Bachelor</td>\n",
       "      <td>Medical</td>\n",
       "      <td>Very_High</td>\n",
       "      <td>Female</td>\n",
       "      <td>...</td>\n",
       "      <td>Excellent</td>\n",
       "      <td>Medium</td>\n",
       "      <td>0</td>\n",
       "      <td>9</td>\n",
       "      <td>3</td>\n",
       "      <td>Best</td>\n",
       "      <td>8</td>\n",
       "      <td>7</td>\n",
       "      <td>7</td>\n",
       "      <td>7</td>\n",
       "    </tr>\n",
       "    <tr>\n",
       "      <th>896</th>\n",
       "      <td>42</td>\n",
       "      <td>0.0</td>\n",
       "      <td>Travel_Rarely</td>\n",
       "      <td>1128</td>\n",
       "      <td>Research_Development</td>\n",
       "      <td>13</td>\n",
       "      <td>Bachelor</td>\n",
       "      <td>Medical</td>\n",
       "      <td>Medium</td>\n",
       "      <td>Male</td>\n",
       "      <td>...</td>\n",
       "      <td>Excellent</td>\n",
       "      <td>High</td>\n",
       "      <td>2</td>\n",
       "      <td>10</td>\n",
       "      <td>2</td>\n",
       "      <td>Good</td>\n",
       "      <td>0</td>\n",
       "      <td>0</td>\n",
       "      <td>0</td>\n",
       "      <td>0</td>\n",
       "    </tr>\n",
       "    <tr>\n",
       "      <th>1106</th>\n",
       "      <td>51</td>\n",
       "      <td>0.0</td>\n",
       "      <td>Travel_Rarely</td>\n",
       "      <td>942</td>\n",
       "      <td>Research_Development</td>\n",
       "      <td>3</td>\n",
       "      <td>Bachelor</td>\n",
       "      <td>Technical_Degree</td>\n",
       "      <td>Low</td>\n",
       "      <td>Female</td>\n",
       "      <td>...</td>\n",
       "      <td>Excellent</td>\n",
       "      <td>Very_High</td>\n",
       "      <td>0</td>\n",
       "      <td>15</td>\n",
       "      <td>2</td>\n",
       "      <td>Better</td>\n",
       "      <td>2</td>\n",
       "      <td>2</td>\n",
       "      <td>2</td>\n",
       "      <td>2</td>\n",
       "    </tr>\n",
       "    <tr>\n",
       "      <th>1307</th>\n",
       "      <td>41</td>\n",
       "      <td>0.0</td>\n",
       "      <td>Travel_Rarely</td>\n",
       "      <td>1276</td>\n",
       "      <td>Sales</td>\n",
       "      <td>2</td>\n",
       "      <td>Doctor</td>\n",
       "      <td>Life_Sciences</td>\n",
       "      <td>Medium</td>\n",
       "      <td>Female</td>\n",
       "      <td>...</td>\n",
       "      <td>Excellent</td>\n",
       "      <td>Medium</td>\n",
       "      <td>1</td>\n",
       "      <td>22</td>\n",
       "      <td>2</td>\n",
       "      <td>Better</td>\n",
       "      <td>18</td>\n",
       "      <td>16</td>\n",
       "      <td>11</td>\n",
       "      <td>8</td>\n",
       "    </tr>\n",
       "    <tr>\n",
       "      <th>1359</th>\n",
       "      <td>43</td>\n",
       "      <td>0.0</td>\n",
       "      <td>Travel_Frequently</td>\n",
       "      <td>394</td>\n",
       "      <td>Sales</td>\n",
       "      <td>26</td>\n",
       "      <td>College</td>\n",
       "      <td>Life_Sciences</td>\n",
       "      <td>High</td>\n",
       "      <td>Male</td>\n",
       "      <td>...</td>\n",
       "      <td>Excellent</td>\n",
       "      <td>Very_High</td>\n",
       "      <td>2</td>\n",
       "      <td>25</td>\n",
       "      <td>3</td>\n",
       "      <td>Best</td>\n",
       "      <td>25</td>\n",
       "      <td>12</td>\n",
       "      <td>4</td>\n",
       "      <td>12</td>\n",
       "    </tr>\n",
       "    <tr>\n",
       "      <th>1266</th>\n",
       "      <td>50</td>\n",
       "      <td>0.0</td>\n",
       "      <td>Travel_Rarely</td>\n",
       "      <td>1452</td>\n",
       "      <td>Research_Development</td>\n",
       "      <td>11</td>\n",
       "      <td>Bachelor</td>\n",
       "      <td>Life_Sciences</td>\n",
       "      <td>High</td>\n",
       "      <td>Female</td>\n",
       "      <td>...</td>\n",
       "      <td>Excellent</td>\n",
       "      <td>Medium</td>\n",
       "      <td>0</td>\n",
       "      <td>21</td>\n",
       "      <td>5</td>\n",
       "      <td>Better</td>\n",
       "      <td>5</td>\n",
       "      <td>4</td>\n",
       "      <td>4</td>\n",
       "      <td>4</td>\n",
       "    </tr>\n",
       "    <tr>\n",
       "      <th>1310</th>\n",
       "      <td>53</td>\n",
       "      <td>0.0</td>\n",
       "      <td>Travel_Rarely</td>\n",
       "      <td>1376</td>\n",
       "      <td>Sales</td>\n",
       "      <td>2</td>\n",
       "      <td>College</td>\n",
       "      <td>Medical</td>\n",
       "      <td>High</td>\n",
       "      <td>Male</td>\n",
       "      <td>...</td>\n",
       "      <td>Excellent</td>\n",
       "      <td>High</td>\n",
       "      <td>1</td>\n",
       "      <td>22</td>\n",
       "      <td>3</td>\n",
       "      <td>Best</td>\n",
       "      <td>17</td>\n",
       "      <td>13</td>\n",
       "      <td>15</td>\n",
       "      <td>2</td>\n",
       "    </tr>\n",
       "    <tr>\n",
       "      <th>1417</th>\n",
       "      <td>59</td>\n",
       "      <td>0.0</td>\n",
       "      <td>Non-Travel</td>\n",
       "      <td>1420</td>\n",
       "      <td>Human_Resources</td>\n",
       "      <td>2</td>\n",
       "      <td>Master</td>\n",
       "      <td>Human_Resources</td>\n",
       "      <td>High</td>\n",
       "      <td>Female</td>\n",
       "      <td>...</td>\n",
       "      <td>Outstanding</td>\n",
       "      <td>Very_High</td>\n",
       "      <td>1</td>\n",
       "      <td>30</td>\n",
       "      <td>3</td>\n",
       "      <td>Better</td>\n",
       "      <td>3</td>\n",
       "      <td>2</td>\n",
       "      <td>2</td>\n",
       "      <td>2</td>\n",
       "    </tr>\n",
       "    <tr>\n",
       "      <th>1044</th>\n",
       "      <td>34</td>\n",
       "      <td>0.0</td>\n",
       "      <td>Travel_Rarely</td>\n",
       "      <td>1354</td>\n",
       "      <td>Research_Development</td>\n",
       "      <td>5</td>\n",
       "      <td>Bachelor</td>\n",
       "      <td>Medical</td>\n",
       "      <td>High</td>\n",
       "      <td>Female</td>\n",
       "      <td>...</td>\n",
       "      <td>Excellent</td>\n",
       "      <td>Very_High</td>\n",
       "      <td>0</td>\n",
       "      <td>14</td>\n",
       "      <td>6</td>\n",
       "      <td>Better</td>\n",
       "      <td>11</td>\n",
       "      <td>10</td>\n",
       "      <td>5</td>\n",
       "      <td>8</td>\n",
       "    </tr>\n",
       "    <tr>\n",
       "      <th>1336</th>\n",
       "      <td>48</td>\n",
       "      <td>0.0</td>\n",
       "      <td>Travel_Frequently</td>\n",
       "      <td>365</td>\n",
       "      <td>Research_Development</td>\n",
       "      <td>4</td>\n",
       "      <td>Doctor</td>\n",
       "      <td>Medical</td>\n",
       "      <td>High</td>\n",
       "      <td>Male</td>\n",
       "      <td>...</td>\n",
       "      <td>Outstanding</td>\n",
       "      <td>Medium</td>\n",
       "      <td>1</td>\n",
       "      <td>23</td>\n",
       "      <td>3</td>\n",
       "      <td>Better</td>\n",
       "      <td>2</td>\n",
       "      <td>2</td>\n",
       "      <td>2</td>\n",
       "      <td>2</td>\n",
       "    </tr>\n",
       "    <tr>\n",
       "      <th>1280</th>\n",
       "      <td>42</td>\n",
       "      <td>0.0</td>\n",
       "      <td>Travel_Rarely</td>\n",
       "      <td>265</td>\n",
       "      <td>Sales</td>\n",
       "      <td>5</td>\n",
       "      <td>College</td>\n",
       "      <td>Marketing</td>\n",
       "      <td>Very_High</td>\n",
       "      <td>Male</td>\n",
       "      <td>...</td>\n",
       "      <td>Excellent</td>\n",
       "      <td>Medium</td>\n",
       "      <td>0</td>\n",
       "      <td>21</td>\n",
       "      <td>3</td>\n",
       "      <td>Best</td>\n",
       "      <td>1</td>\n",
       "      <td>0</td>\n",
       "      <td>0</td>\n",
       "      <td>0</td>\n",
       "    </tr>\n",
       "    <tr>\n",
       "      <th>1285</th>\n",
       "      <td>39</td>\n",
       "      <td>0.0</td>\n",
       "      <td>Travel_Rarely</td>\n",
       "      <td>412</td>\n",
       "      <td>Research_Development</td>\n",
       "      <td>13</td>\n",
       "      <td>Master</td>\n",
       "      <td>Medical</td>\n",
       "      <td>High</td>\n",
       "      <td>Female</td>\n",
       "      <td>...</td>\n",
       "      <td>Excellent</td>\n",
       "      <td>Very_High</td>\n",
       "      <td>2</td>\n",
       "      <td>21</td>\n",
       "      <td>4</td>\n",
       "      <td>Better</td>\n",
       "      <td>19</td>\n",
       "      <td>9</td>\n",
       "      <td>15</td>\n",
       "      <td>2</td>\n",
       "    </tr>\n",
       "    <tr>\n",
       "      <th>1273</th>\n",
       "      <td>47</td>\n",
       "      <td>0.0</td>\n",
       "      <td>Travel_Rarely</td>\n",
       "      <td>1482</td>\n",
       "      <td>Research_Development</td>\n",
       "      <td>5</td>\n",
       "      <td>Doctor</td>\n",
       "      <td>Life_Sciences</td>\n",
       "      <td>Very_High</td>\n",
       "      <td>Male</td>\n",
       "      <td>...</td>\n",
       "      <td>Excellent</td>\n",
       "      <td>Medium</td>\n",
       "      <td>1</td>\n",
       "      <td>21</td>\n",
       "      <td>2</td>\n",
       "      <td>Better</td>\n",
       "      <td>3</td>\n",
       "      <td>2</td>\n",
       "      <td>1</td>\n",
       "      <td>1</td>\n",
       "    </tr>\n",
       "    <tr>\n",
       "      <th>1352</th>\n",
       "      <td>44</td>\n",
       "      <td>0.0</td>\n",
       "      <td>Travel_Rarely</td>\n",
       "      <td>136</td>\n",
       "      <td>Research_Development</td>\n",
       "      <td>28</td>\n",
       "      <td>Bachelor</td>\n",
       "      <td>Life_Sciences</td>\n",
       "      <td>Very_High</td>\n",
       "      <td>Male</td>\n",
       "      <td>...</td>\n",
       "      <td>Excellent</td>\n",
       "      <td>High</td>\n",
       "      <td>1</td>\n",
       "      <td>24</td>\n",
       "      <td>1</td>\n",
       "      <td>Best</td>\n",
       "      <td>20</td>\n",
       "      <td>6</td>\n",
       "      <td>14</td>\n",
       "      <td>17</td>\n",
       "    </tr>\n",
       "    <tr>\n",
       "      <th>1126</th>\n",
       "      <td>42</td>\n",
       "      <td>0.0</td>\n",
       "      <td>Travel_Rarely</td>\n",
       "      <td>810</td>\n",
       "      <td>Research_Development</td>\n",
       "      <td>23</td>\n",
       "      <td>Doctor</td>\n",
       "      <td>Life_Sciences</td>\n",
       "      <td>Low</td>\n",
       "      <td>Female</td>\n",
       "      <td>...</td>\n",
       "      <td>Excellent</td>\n",
       "      <td>Medium</td>\n",
       "      <td>0</td>\n",
       "      <td>16</td>\n",
       "      <td>2</td>\n",
       "      <td>Better</td>\n",
       "      <td>1</td>\n",
       "      <td>0</td>\n",
       "      <td>0</td>\n",
       "      <td>0</td>\n",
       "    </tr>\n",
       "    <tr>\n",
       "      <th>1453</th>\n",
       "      <td>55</td>\n",
       "      <td>0.0</td>\n",
       "      <td>Travel_Rarely</td>\n",
       "      <td>478</td>\n",
       "      <td>Research_Development</td>\n",
       "      <td>2</td>\n",
       "      <td>Bachelor</td>\n",
       "      <td>Medical</td>\n",
       "      <td>High</td>\n",
       "      <td>Male</td>\n",
       "      <td>...</td>\n",
       "      <td>Excellent</td>\n",
       "      <td>Medium</td>\n",
       "      <td>3</td>\n",
       "      <td>34</td>\n",
       "      <td>2</td>\n",
       "      <td>Better</td>\n",
       "      <td>1</td>\n",
       "      <td>0</td>\n",
       "      <td>0</td>\n",
       "      <td>0</td>\n",
       "    </tr>\n",
       "    <tr>\n",
       "      <th>1322</th>\n",
       "      <td>51</td>\n",
       "      <td>0.0</td>\n",
       "      <td>Travel_Rarely</td>\n",
       "      <td>684</td>\n",
       "      <td>Research_Development</td>\n",
       "      <td>6</td>\n",
       "      <td>Bachelor</td>\n",
       "      <td>Life_Sciences</td>\n",
       "      <td>Low</td>\n",
       "      <td>Male</td>\n",
       "      <td>...</td>\n",
       "      <td>Excellent</td>\n",
       "      <td>High</td>\n",
       "      <td>0</td>\n",
       "      <td>23</td>\n",
       "      <td>5</td>\n",
       "      <td>Better</td>\n",
       "      <td>20</td>\n",
       "      <td>18</td>\n",
       "      <td>15</td>\n",
       "      <td>15</td>\n",
       "    </tr>\n",
       "    <tr>\n",
       "      <th>768</th>\n",
       "      <td>29</td>\n",
       "      <td>0.0</td>\n",
       "      <td>Travel_Rarely</td>\n",
       "      <td>986</td>\n",
       "      <td>Research_Development</td>\n",
       "      <td>3</td>\n",
       "      <td>Master</td>\n",
       "      <td>Medical</td>\n",
       "      <td>Medium</td>\n",
       "      <td>Male</td>\n",
       "      <td>...</td>\n",
       "      <td>Excellent</td>\n",
       "      <td>High</td>\n",
       "      <td>0</td>\n",
       "      <td>10</td>\n",
       "      <td>2</td>\n",
       "      <td>Better</td>\n",
       "      <td>10</td>\n",
       "      <td>2</td>\n",
       "      <td>0</td>\n",
       "      <td>7</td>\n",
       "    </tr>\n",
       "    <tr>\n",
       "      <th>1290</th>\n",
       "      <td>45</td>\n",
       "      <td>0.0</td>\n",
       "      <td>Travel_Rarely</td>\n",
       "      <td>1005</td>\n",
       "      <td>Research_Development</td>\n",
       "      <td>28</td>\n",
       "      <td>College</td>\n",
       "      <td>Technical_Degree</td>\n",
       "      <td>Very_High</td>\n",
       "      <td>Female</td>\n",
       "      <td>...</td>\n",
       "      <td>Excellent</td>\n",
       "      <td>High</td>\n",
       "      <td>0</td>\n",
       "      <td>21</td>\n",
       "      <td>2</td>\n",
       "      <td>Better</td>\n",
       "      <td>21</td>\n",
       "      <td>6</td>\n",
       "      <td>8</td>\n",
       "      <td>6</td>\n",
       "    </tr>\n",
       "    <tr>\n",
       "      <th>1062</th>\n",
       "      <td>43</td>\n",
       "      <td>0.0</td>\n",
       "      <td>Travel_Rarely</td>\n",
       "      <td>1291</td>\n",
       "      <td>Research_Development</td>\n",
       "      <td>15</td>\n",
       "      <td>College</td>\n",
       "      <td>Life_Sciences</td>\n",
       "      <td>High</td>\n",
       "      <td>Male</td>\n",
       "      <td>...</td>\n",
       "      <td>Outstanding</td>\n",
       "      <td>Low</td>\n",
       "      <td>1</td>\n",
       "      <td>14</td>\n",
       "      <td>3</td>\n",
       "      <td>Better</td>\n",
       "      <td>14</td>\n",
       "      <td>10</td>\n",
       "      <td>6</td>\n",
       "      <td>11</td>\n",
       "    </tr>\n",
       "    <tr>\n",
       "      <th>1469</th>\n",
       "      <td>58</td>\n",
       "      <td>1.0</td>\n",
       "      <td>Travel_Rarely</td>\n",
       "      <td>286</td>\n",
       "      <td>Research_Development</td>\n",
       "      <td>2</td>\n",
       "      <td>Master</td>\n",
       "      <td>Life_Sciences</td>\n",
       "      <td>Very_High</td>\n",
       "      <td>Male</td>\n",
       "      <td>...</td>\n",
       "      <td>Excellent</td>\n",
       "      <td>Very_High</td>\n",
       "      <td>0</td>\n",
       "      <td>40</td>\n",
       "      <td>2</td>\n",
       "      <td>Better</td>\n",
       "      <td>31</td>\n",
       "      <td>15</td>\n",
       "      <td>13</td>\n",
       "      <td>8</td>\n",
       "    </tr>\n",
       "    <tr>\n",
       "      <th>1459</th>\n",
       "      <td>54</td>\n",
       "      <td>0.0</td>\n",
       "      <td>Travel_Rarely</td>\n",
       "      <td>685</td>\n",
       "      <td>Research_Development</td>\n",
       "      <td>3</td>\n",
       "      <td>Bachelor</td>\n",
       "      <td>Life_Sciences</td>\n",
       "      <td>Very_High</td>\n",
       "      <td>Male</td>\n",
       "      <td>...</td>\n",
       "      <td>Excellent</td>\n",
       "      <td>Low</td>\n",
       "      <td>0</td>\n",
       "      <td>36</td>\n",
       "      <td>2</td>\n",
       "      <td>Better</td>\n",
       "      <td>10</td>\n",
       "      <td>9</td>\n",
       "      <td>0</td>\n",
       "      <td>9</td>\n",
       "    </tr>\n",
       "    <tr>\n",
       "      <th>22</th>\n",
       "      <td>27</td>\n",
       "      <td>0.0</td>\n",
       "      <td>Non-Travel</td>\n",
       "      <td>1450</td>\n",
       "      <td>Research_Development</td>\n",
       "      <td>3</td>\n",
       "      <td>Bachelor</td>\n",
       "      <td>Medical</td>\n",
       "      <td>High</td>\n",
       "      <td>Male</td>\n",
       "      <td>...</td>\n",
       "      <td>Excellent</td>\n",
       "      <td>Very_High</td>\n",
       "      <td>1</td>\n",
       "      <td>1</td>\n",
       "      <td>2</td>\n",
       "      <td>Good</td>\n",
       "      <td>1</td>\n",
       "      <td>1</td>\n",
       "      <td>0</td>\n",
       "      <td>1</td>\n",
       "    </tr>\n",
       "    <tr>\n",
       "      <th>450</th>\n",
       "      <td>31</td>\n",
       "      <td>0.0</td>\n",
       "      <td>Travel_Rarely</td>\n",
       "      <td>140</td>\n",
       "      <td>Research_Development</td>\n",
       "      <td>12</td>\n",
       "      <td>Below_College</td>\n",
       "      <td>Medical</td>\n",
       "      <td>High</td>\n",
       "      <td>Female</td>\n",
       "      <td>...</td>\n",
       "      <td>Outstanding</td>\n",
       "      <td>High</td>\n",
       "      <td>1</td>\n",
       "      <td>7</td>\n",
       "      <td>0</td>\n",
       "      <td>Better</td>\n",
       "      <td>4</td>\n",
       "      <td>2</td>\n",
       "      <td>0</td>\n",
       "      <td>2</td>\n",
       "    </tr>\n",
       "    <tr>\n",
       "      <th>231</th>\n",
       "      <td>35</td>\n",
       "      <td>0.0</td>\n",
       "      <td>Travel_Frequently</td>\n",
       "      <td>664</td>\n",
       "      <td>Research_Development</td>\n",
       "      <td>1</td>\n",
       "      <td>Bachelor</td>\n",
       "      <td>Medical</td>\n",
       "      <td>Medium</td>\n",
       "      <td>Male</td>\n",
       "      <td>...</td>\n",
       "      <td>Excellent</td>\n",
       "      <td>Very_High</td>\n",
       "      <td>1</td>\n",
       "      <td>5</td>\n",
       "      <td>2</td>\n",
       "      <td>Good</td>\n",
       "      <td>3</td>\n",
       "      <td>2</td>\n",
       "      <td>1</td>\n",
       "      <td>2</td>\n",
       "    </tr>\n",
       "    <tr>\n",
       "      <th>137</th>\n",
       "      <td>22</td>\n",
       "      <td>0.0</td>\n",
       "      <td>Travel_Rarely</td>\n",
       "      <td>604</td>\n",
       "      <td>Research_Development</td>\n",
       "      <td>6</td>\n",
       "      <td>Below_College</td>\n",
       "      <td>Medical</td>\n",
       "      <td>Low</td>\n",
       "      <td>Male</td>\n",
       "      <td>...</td>\n",
       "      <td>Outstanding</td>\n",
       "      <td>Very_High</td>\n",
       "      <td>0</td>\n",
       "      <td>3</td>\n",
       "      <td>3</td>\n",
       "      <td>Better</td>\n",
       "      <td>2</td>\n",
       "      <td>2</td>\n",
       "      <td>2</td>\n",
       "      <td>2</td>\n",
       "    </tr>\n",
       "    <tr>\n",
       "      <th>398</th>\n",
       "      <td>40</td>\n",
       "      <td>0.0</td>\n",
       "      <td>Non-Travel</td>\n",
       "      <td>458</td>\n",
       "      <td>Research_Development</td>\n",
       "      <td>16</td>\n",
       "      <td>College</td>\n",
       "      <td>Life_Sciences</td>\n",
       "      <td>High</td>\n",
       "      <td>Male</td>\n",
       "      <td>...</td>\n",
       "      <td>Excellent</td>\n",
       "      <td>Medium</td>\n",
       "      <td>1</td>\n",
       "      <td>6</td>\n",
       "      <td>0</td>\n",
       "      <td>Better</td>\n",
       "      <td>4</td>\n",
       "      <td>2</td>\n",
       "      <td>0</td>\n",
       "      <td>0</td>\n",
       "    </tr>\n",
       "    <tr>\n",
       "      <th>385</th>\n",
       "      <td>28</td>\n",
       "      <td>0.0</td>\n",
       "      <td>Travel_Rarely</td>\n",
       "      <td>1451</td>\n",
       "      <td>Research_Development</td>\n",
       "      <td>2</td>\n",
       "      <td>Below_College</td>\n",
       "      <td>Life_Sciences</td>\n",
       "      <td>Low</td>\n",
       "      <td>Male</td>\n",
       "      <td>...</td>\n",
       "      <td>Excellent</td>\n",
       "      <td>Low</td>\n",
       "      <td>0</td>\n",
       "      <td>6</td>\n",
       "      <td>2</td>\n",
       "      <td>Bad</td>\n",
       "      <td>5</td>\n",
       "      <td>3</td>\n",
       "      <td>0</td>\n",
       "      <td>4</td>\n",
       "    </tr>\n",
       "    <tr>\n",
       "      <th>1224</th>\n",
       "      <td>46</td>\n",
       "      <td>0.0</td>\n",
       "      <td>Travel_Rarely</td>\n",
       "      <td>1003</td>\n",
       "      <td>Research_Development</td>\n",
       "      <td>8</td>\n",
       "      <td>Master</td>\n",
       "      <td>Life_Sciences</td>\n",
       "      <td>Very_High</td>\n",
       "      <td>Female</td>\n",
       "      <td>...</td>\n",
       "      <td>Outstanding</td>\n",
       "      <td>Low</td>\n",
       "      <td>3</td>\n",
       "      <td>19</td>\n",
       "      <td>2</td>\n",
       "      <td>Better</td>\n",
       "      <td>16</td>\n",
       "      <td>13</td>\n",
       "      <td>1</td>\n",
       "      <td>7</td>\n",
       "    </tr>\n",
       "    <tr>\n",
       "      <th>1054</th>\n",
       "      <td>33</td>\n",
       "      <td>1.0</td>\n",
       "      <td>Travel_Frequently</td>\n",
       "      <td>827</td>\n",
       "      <td>Research_Development</td>\n",
       "      <td>29</td>\n",
       "      <td>Master</td>\n",
       "      <td>Medical</td>\n",
       "      <td>Low</td>\n",
       "      <td>Female</td>\n",
       "      <td>...</td>\n",
       "      <td>Outstanding</td>\n",
       "      <td>Medium</td>\n",
       "      <td>0</td>\n",
       "      <td>14</td>\n",
       "      <td>4</td>\n",
       "      <td>Better</td>\n",
       "      <td>13</td>\n",
       "      <td>7</td>\n",
       "      <td>3</td>\n",
       "      <td>8</td>\n",
       "    </tr>\n",
       "    <tr>\n",
       "      <th>591</th>\n",
       "      <td>37</td>\n",
       "      <td>0.0</td>\n",
       "      <td>Travel_Rarely</td>\n",
       "      <td>1439</td>\n",
       "      <td>Research_Development</td>\n",
       "      <td>4</td>\n",
       "      <td>Below_College</td>\n",
       "      <td>Life_Sciences</td>\n",
       "      <td>High</td>\n",
       "      <td>Male</td>\n",
       "      <td>...</td>\n",
       "      <td>Excellent</td>\n",
       "      <td>Very_High</td>\n",
       "      <td>0</td>\n",
       "      <td>8</td>\n",
       "      <td>2</td>\n",
       "      <td>Better</td>\n",
       "      <td>6</td>\n",
       "      <td>4</td>\n",
       "      <td>1</td>\n",
       "      <td>3</td>\n",
       "    </tr>\n",
       "    <tr>\n",
       "      <th>86</th>\n",
       "      <td>26</td>\n",
       "      <td>0.0</td>\n",
       "      <td>Travel_Rarely</td>\n",
       "      <td>482</td>\n",
       "      <td>Research_Development</td>\n",
       "      <td>1</td>\n",
       "      <td>College</td>\n",
       "      <td>Life_Sciences</td>\n",
       "      <td>Medium</td>\n",
       "      <td>Female</td>\n",
       "      <td>...</td>\n",
       "      <td>Excellent</td>\n",
       "      <td>High</td>\n",
       "      <td>1</td>\n",
       "      <td>1</td>\n",
       "      <td>3</td>\n",
       "      <td>Good</td>\n",
       "      <td>1</td>\n",
       "      <td>0</td>\n",
       "      <td>1</td>\n",
       "      <td>0</td>\n",
       "    </tr>\n",
       "  </tbody>\n",
       "</table>\n",
       "<p>40 rows × 31 columns</p>\n",
       "</div>"
      ],
      "text/plain": [
       "      Age  Attrition     BusinessTravel  DailyRate            Department  \\\n",
       "812    31        0.0      Travel_Rarely        616  Research_Development   \n",
       "1190   38        0.0      Travel_Rarely       1495  Research_Development   \n",
       "378    33        0.0      Travel_Rarely       1069  Research_Development   \n",
       "920    35        0.0  Travel_Frequently       1199  Research_Development   \n",
       "917    33        0.0      Travel_Rarely        501  Research_Development   \n",
       "1058   34        0.0      Travel_Rarely        404  Research_Development   \n",
       "1264   46        0.0  Travel_Frequently        638  Research_Development   \n",
       "1340   44        0.0      Travel_Rarely        477  Research_Development   \n",
       "655    34        0.0      Travel_Rarely       1442  Research_Development   \n",
       "896    42        0.0      Travel_Rarely       1128  Research_Development   \n",
       "1106   51        0.0      Travel_Rarely        942  Research_Development   \n",
       "1307   41        0.0      Travel_Rarely       1276                 Sales   \n",
       "1359   43        0.0  Travel_Frequently        394                 Sales   \n",
       "1266   50        0.0      Travel_Rarely       1452  Research_Development   \n",
       "1310   53        0.0      Travel_Rarely       1376                 Sales   \n",
       "1417   59        0.0         Non-Travel       1420       Human_Resources   \n",
       "1044   34        0.0      Travel_Rarely       1354  Research_Development   \n",
       "1336   48        0.0  Travel_Frequently        365  Research_Development   \n",
       "1280   42        0.0      Travel_Rarely        265                 Sales   \n",
       "1285   39        0.0      Travel_Rarely        412  Research_Development   \n",
       "1273   47        0.0      Travel_Rarely       1482  Research_Development   \n",
       "1352   44        0.0      Travel_Rarely        136  Research_Development   \n",
       "1126   42        0.0      Travel_Rarely        810  Research_Development   \n",
       "1453   55        0.0      Travel_Rarely        478  Research_Development   \n",
       "1322   51        0.0      Travel_Rarely        684  Research_Development   \n",
       "768    29        0.0      Travel_Rarely        986  Research_Development   \n",
       "1290   45        0.0      Travel_Rarely       1005  Research_Development   \n",
       "1062   43        0.0      Travel_Rarely       1291  Research_Development   \n",
       "1469   58        1.0      Travel_Rarely        286  Research_Development   \n",
       "1459   54        0.0      Travel_Rarely        685  Research_Development   \n",
       "22     27        0.0         Non-Travel       1450  Research_Development   \n",
       "450    31        0.0      Travel_Rarely        140  Research_Development   \n",
       "231    35        0.0  Travel_Frequently        664  Research_Development   \n",
       "137    22        0.0      Travel_Rarely        604  Research_Development   \n",
       "398    40        0.0         Non-Travel        458  Research_Development   \n",
       "385    28        0.0      Travel_Rarely       1451  Research_Development   \n",
       "1224   46        0.0      Travel_Rarely       1003  Research_Development   \n",
       "1054   33        1.0  Travel_Frequently        827  Research_Development   \n",
       "591    37        0.0      Travel_Rarely       1439  Research_Development   \n",
       "86     26        0.0      Travel_Rarely        482  Research_Development   \n",
       "\n",
       "      DistanceFromHome      Education    EducationField  \\\n",
       "812                 12       Bachelor           Medical   \n",
       "1190                10       Bachelor           Medical   \n",
       "378                  1       Bachelor     Life_Sciences   \n",
       "920                 18         Master     Life_Sciences   \n",
       "917                 15        College           Medical   \n",
       "1058                 2         Master  Technical_Degree   \n",
       "1264                 1       Bachelor           Medical   \n",
       "1340                 7         Master           Medical   \n",
       "655                  9       Bachelor           Medical   \n",
       "896                 13       Bachelor           Medical   \n",
       "1106                 3       Bachelor  Technical_Degree   \n",
       "1307                 2         Doctor     Life_Sciences   \n",
       "1359                26        College     Life_Sciences   \n",
       "1266                11       Bachelor     Life_Sciences   \n",
       "1310                 2        College           Medical   \n",
       "1417                 2         Master   Human_Resources   \n",
       "1044                 5       Bachelor           Medical   \n",
       "1336                 4         Doctor           Medical   \n",
       "1280                 5        College         Marketing   \n",
       "1285                13         Master           Medical   \n",
       "1273                 5         Doctor     Life_Sciences   \n",
       "1352                28       Bachelor     Life_Sciences   \n",
       "1126                23         Doctor     Life_Sciences   \n",
       "1453                 2       Bachelor           Medical   \n",
       "1322                 6       Bachelor     Life_Sciences   \n",
       "768                  3         Master           Medical   \n",
       "1290                28        College  Technical_Degree   \n",
       "1062                15        College     Life_Sciences   \n",
       "1469                 2         Master     Life_Sciences   \n",
       "1459                 3       Bachelor     Life_Sciences   \n",
       "22                   3       Bachelor           Medical   \n",
       "450                 12  Below_College           Medical   \n",
       "231                  1       Bachelor           Medical   \n",
       "137                  6  Below_College           Medical   \n",
       "398                 16        College     Life_Sciences   \n",
       "385                  2  Below_College     Life_Sciences   \n",
       "1224                 8         Master     Life_Sciences   \n",
       "1054                29         Master           Medical   \n",
       "591                  4  Below_College     Life_Sciences   \n",
       "86                   1        College     Life_Sciences   \n",
       "\n",
       "     EnvironmentSatisfaction  Gender  ...  PerformanceRating  \\\n",
       "812                Very_High  Female  ...          Excellent   \n",
       "1190                    High  Female  ...          Excellent   \n",
       "378                   Medium  Female  ...          Excellent   \n",
       "920                     High    Male  ...          Excellent   \n",
       "917                   Medium  Female  ...          Excellent   \n",
       "1058                    High  Female  ...          Excellent   \n",
       "1264                    High    Male  ...          Excellent   \n",
       "1340                     Low  Female  ...          Excellent   \n",
       "655                Very_High  Female  ...          Excellent   \n",
       "896                   Medium    Male  ...          Excellent   \n",
       "1106                     Low  Female  ...          Excellent   \n",
       "1307                  Medium  Female  ...          Excellent   \n",
       "1359                    High    Male  ...          Excellent   \n",
       "1266                    High  Female  ...          Excellent   \n",
       "1310                    High    Male  ...          Excellent   \n",
       "1417                    High  Female  ...        Outstanding   \n",
       "1044                    High  Female  ...          Excellent   \n",
       "1336                    High    Male  ...        Outstanding   \n",
       "1280               Very_High    Male  ...          Excellent   \n",
       "1285                    High  Female  ...          Excellent   \n",
       "1273               Very_High    Male  ...          Excellent   \n",
       "1352               Very_High    Male  ...          Excellent   \n",
       "1126                     Low  Female  ...          Excellent   \n",
       "1453                    High    Male  ...          Excellent   \n",
       "1322                     Low    Male  ...          Excellent   \n",
       "768                   Medium    Male  ...          Excellent   \n",
       "1290               Very_High  Female  ...          Excellent   \n",
       "1062                    High    Male  ...        Outstanding   \n",
       "1469               Very_High    Male  ...          Excellent   \n",
       "1459               Very_High    Male  ...          Excellent   \n",
       "22                      High    Male  ...          Excellent   \n",
       "450                     High  Female  ...        Outstanding   \n",
       "231                   Medium    Male  ...          Excellent   \n",
       "137                      Low    Male  ...        Outstanding   \n",
       "398                     High    Male  ...          Excellent   \n",
       "385                      Low    Male  ...          Excellent   \n",
       "1224               Very_High  Female  ...        Outstanding   \n",
       "1054                     Low  Female  ...        Outstanding   \n",
       "591                     High    Male  ...          Excellent   \n",
       "86                    Medium  Female  ...          Excellent   \n",
       "\n",
       "     RelationshipSatisfaction  StockOptionLevel TotalWorkingYears  \\\n",
       "812                      High                 2                10   \n",
       "1190                     High                 1                18   \n",
       "378                       Low                 0                 6   \n",
       "920                 Very_High                 2                10   \n",
       "917                       Low                 1                10   \n",
       "1058                Very_High                 0                14   \n",
       "1264                     High                 1                21   \n",
       "1340                Very_High                 1                24   \n",
       "655                    Medium                 0                 9   \n",
       "896                      High                 2                10   \n",
       "1106                Very_High                 0                15   \n",
       "1307                   Medium                 1                22   \n",
       "1359                Very_High                 2                25   \n",
       "1266                   Medium                 0                21   \n",
       "1310                     High                 1                22   \n",
       "1417                Very_High                 1                30   \n",
       "1044                Very_High                 0                14   \n",
       "1336                   Medium                 1                23   \n",
       "1280                   Medium                 0                21   \n",
       "1285                Very_High                 2                21   \n",
       "1273                   Medium                 1                21   \n",
       "1352                     High                 1                24   \n",
       "1126                   Medium                 0                16   \n",
       "1453                   Medium                 3                34   \n",
       "1322                     High                 0                23   \n",
       "768                      High                 0                10   \n",
       "1290                     High                 0                21   \n",
       "1062                      Low                 1                14   \n",
       "1469                Very_High                 0                40   \n",
       "1459                      Low                 0                36   \n",
       "22                  Very_High                 1                 1   \n",
       "450                      High                 1                 7   \n",
       "231                 Very_High                 1                 5   \n",
       "137                 Very_High                 0                 3   \n",
       "398                    Medium                 1                 6   \n",
       "385                       Low                 0                 6   \n",
       "1224                      Low                 3                19   \n",
       "1054                   Medium                 0                14   \n",
       "591                 Very_High                 0                 8   \n",
       "86                       High                 1                 1   \n",
       "\n",
       "     TrainingTimesLastYear WorkLifeBalance  YearsAtCompany  \\\n",
       "812                      2             Bad               9   \n",
       "1190                     4          Better               1   \n",
       "378                      3          Better               5   \n",
       "920                      2            Best              10   \n",
       "917                      6          Better               9   \n",
       "1058                     2            Best              14   \n",
       "1264                     5            Good              10   \n",
       "1340                     4          Better              22   \n",
       "655                      3            Best               8   \n",
       "896                      2            Good               0   \n",
       "1106                     2          Better               2   \n",
       "1307                     2          Better              18   \n",
       "1359                     3            Best              25   \n",
       "1266                     5          Better               5   \n",
       "1310                     3            Best              17   \n",
       "1417                     3          Better               3   \n",
       "1044                     6          Better              11   \n",
       "1336                     3          Better               2   \n",
       "1280                     3            Best               1   \n",
       "1285                     4          Better              19   \n",
       "1273                     2          Better               3   \n",
       "1352                     1            Best              20   \n",
       "1126                     2          Better               1   \n",
       "1453                     2          Better               1   \n",
       "1322                     5          Better              20   \n",
       "768                      2          Better              10   \n",
       "1290                     2          Better              21   \n",
       "1062                     3          Better              14   \n",
       "1469                     2          Better              31   \n",
       "1459                     2          Better              10   \n",
       "22                       2            Good               1   \n",
       "450                      0          Better               4   \n",
       "231                      2            Good               3   \n",
       "137                      3          Better               2   \n",
       "398                      0          Better               4   \n",
       "385                      2             Bad               5   \n",
       "1224                     2          Better              16   \n",
       "1054                     4          Better              13   \n",
       "591                      2          Better               6   \n",
       "86                       3            Good               1   \n",
       "\n",
       "      YearsInCurrentRole  YearsSinceLastPromotion YearsWithCurrManager  \n",
       "812                    7                        8                    5  \n",
       "1190                   0                        0                    0  \n",
       "378                    0                        1                    4  \n",
       "920                    2                        0                    2  \n",
       "917                    7                        8                    1  \n",
       "1058                  11                        4                   11  \n",
       "1264                   9                        9                    5  \n",
       "1340                   6                        5                   17  \n",
       "655                    7                        7                    7  \n",
       "896                    0                        0                    0  \n",
       "1106                   2                        2                    2  \n",
       "1307                  16                       11                    8  \n",
       "1359                  12                        4                   12  \n",
       "1266                   4                        4                    4  \n",
       "1310                  13                       15                    2  \n",
       "1417                   2                        2                    2  \n",
       "1044                  10                        5                    8  \n",
       "1336                   2                        2                    2  \n",
       "1280                   0                        0                    0  \n",
       "1285                   9                       15                    2  \n",
       "1273                   2                        1                    1  \n",
       "1352                   6                       14                   17  \n",
       "1126                   0                        0                    0  \n",
       "1453                   0                        0                    0  \n",
       "1322                  18                       15                   15  \n",
       "768                    2                        0                    7  \n",
       "1290                   6                        8                    6  \n",
       "1062                  10                        6                   11  \n",
       "1469                  15                       13                    8  \n",
       "1459                   9                        0                    9  \n",
       "22                     1                        0                    1  \n",
       "450                    2                        0                    2  \n",
       "231                    2                        1                    2  \n",
       "137                    2                        2                    2  \n",
       "398                    2                        0                    0  \n",
       "385                    3                        0                    4  \n",
       "1224                  13                        1                    7  \n",
       "1054                   7                        3                    8  \n",
       "591                    4                        1                    3  \n",
       "86                     0                        1                    0  \n",
       "\n",
       "[40 rows x 31 columns]"
      ]
     },
     "execution_count": 68,
     "metadata": {},
     "output_type": "execute_result"
    }
   ],
   "source": [
    "attrition_filtered = attrition_filtered.copy()\n",
    "# Remove categories with no rows\n",
    "attrition_filtered['JobRole'] = attrition_filtered['JobRole'].cat.remove_unused_categories()\n",
    "\n",
    "# Randomly sample 10 employees from each sampled job role\n",
    "attrition_clust = attrition_filtered.groupby('JobRole').sample(n=10, random_state=2022)\n",
    "\n",
    "# Print the sample\n",
    "attrition_clust"
   ]
  },
  {
   "cell_type": "markdown",
   "id": "67df410a",
   "metadata": {},
   "source": [
    "> The two-stage sampling technique gives you control over sampling both between subgroups and within subgroups.\n",
    "\n",
    "## Straight to the point (estimate)\n",
    "### 3 kinds of sampling\n",
    "##### Simple random sampling"
   ]
  },
  {
   "cell_type": "code",
   "execution_count": 69,
   "id": "50845456",
   "metadata": {},
   "outputs": [],
   "source": [
    "# Perform simple random sampling to get 0.25 of the population\n",
    "attrition_srs = attrition_pop.sample(frac=0.25, random_state=2022)"
   ]
  },
  {
   "cell_type": "markdown",
   "id": "a908fe32",
   "metadata": {},
   "source": [
    "##### Stratified sampling"
   ]
  },
  {
   "cell_type": "code",
   "execution_count": 70,
   "id": "7cd75514",
   "metadata": {},
   "outputs": [],
   "source": [
    "# Perform stratified sampling to get 0.25 of each relationship group\n",
    "attrition_strat = attrition_pop.groupby('RelationshipSatisfaction').sample(frac=0.25, random_state=2022)"
   ]
  },
  {
   "cell_type": "markdown",
   "id": "e7d6ac8a",
   "metadata": {},
   "source": [
    "##### Cluster sampling"
   ]
  },
  {
   "cell_type": "code",
   "execution_count": 71,
   "id": "f451471a",
   "metadata": {},
   "outputs": [
    {
     "data": {
      "text/plain": [
       "['Very_High', 'High', 'Low', 'Medium']"
      ]
     },
     "execution_count": 71,
     "metadata": {},
     "output_type": "execute_result"
    }
   ],
   "source": [
    "# Create a list of unique RelationshipSatisfaction values\n",
    "satisfaction_unique = list(attrition_pop['RelationshipSatisfaction'].unique())\n",
    "satisfaction_unique"
   ]
  },
  {
   "cell_type": "code",
   "execution_count": 72,
   "id": "ae7c5bed",
   "metadata": {},
   "outputs": [
    {
     "data": {
      "text/plain": [
       "['High', 'Very_High']"
      ]
     },
     "execution_count": 72,
     "metadata": {},
     "output_type": "execute_result"
    }
   ],
   "source": [
    "# Randomly sample 2 unique satisfaction values\n",
    "satisfaction_samp = random.sample(satisfaction_unique, k=2)\n",
    "satisfaction_samp"
   ]
  },
  {
   "cell_type": "code",
   "execution_count": 73,
   "id": "cd56aa8d",
   "metadata": {},
   "outputs": [
    {
     "data": {
      "text/plain": [
       "['Very_High', 'High']\n",
       "Categories (2, object): ['High' < 'Very_High']"
      ]
     },
     "execution_count": 73,
     "metadata": {},
     "output_type": "execute_result"
    }
   ],
   "source": [
    "# Filter for satisfaction_samp and clear unused categories from RelationshipSatisfaction\n",
    "satis_condition = attrition_pop['RelationshipSatisfaction'].isin(satisfaction_samp)\n",
    "attrition_clust_prep = attrition_pop[satis_condition]\n",
    "attrition_clust_prep = attrition_clust_prep.copy()\n",
    "attrition_clust_prep['RelationshipSatisfaction'] = attrition_clust_prep['RelationshipSatisfaction'].cat.remove_unused_categories()\n",
    "attrition_clust_prep['RelationshipSatisfaction'].unique()"
   ]
  },
  {
   "cell_type": "code",
   "execution_count": 74,
   "id": "86d3c2eb",
   "metadata": {},
   "outputs": [
    {
     "data": {
      "text/plain": [
       "(891, 31)"
      ]
     },
     "execution_count": 74,
     "metadata": {},
     "output_type": "execute_result"
    }
   ],
   "source": [
    "attrition_clust_prep.shape"
   ]
  },
  {
   "cell_type": "code",
   "execution_count": 75,
   "id": "2cd3c500",
   "metadata": {},
   "outputs": [
    {
     "data": {
      "text/plain": [
       "367"
      ]
     },
     "execution_count": 75,
     "metadata": {},
     "output_type": "execute_result"
    }
   ],
   "source": [
    "len(attrition_pop) // 4"
   ]
  },
  {
   "cell_type": "code",
   "execution_count": 76,
   "id": "1f8740b4",
   "metadata": {},
   "outputs": [
    {
     "data": {
      "text/html": [
       "<div>\n",
       "<style scoped>\n",
       "    .dataframe tbody tr th:only-of-type {\n",
       "        vertical-align: middle;\n",
       "    }\n",
       "\n",
       "    .dataframe tbody tr th {\n",
       "        vertical-align: top;\n",
       "    }\n",
       "\n",
       "    .dataframe thead th {\n",
       "        text-align: right;\n",
       "    }\n",
       "</style>\n",
       "<table border=\"1\" class=\"dataframe\">\n",
       "  <thead>\n",
       "    <tr style=\"text-align: right;\">\n",
       "      <th></th>\n",
       "      <th>Age</th>\n",
       "      <th>Attrition</th>\n",
       "      <th>BusinessTravel</th>\n",
       "      <th>DailyRate</th>\n",
       "      <th>Department</th>\n",
       "      <th>DistanceFromHome</th>\n",
       "      <th>Education</th>\n",
       "      <th>EducationField</th>\n",
       "      <th>EnvironmentSatisfaction</th>\n",
       "      <th>Gender</th>\n",
       "      <th>...</th>\n",
       "      <th>PerformanceRating</th>\n",
       "      <th>RelationshipSatisfaction</th>\n",
       "      <th>StockOptionLevel</th>\n",
       "      <th>TotalWorkingYears</th>\n",
       "      <th>TrainingTimesLastYear</th>\n",
       "      <th>WorkLifeBalance</th>\n",
       "      <th>YearsAtCompany</th>\n",
       "      <th>YearsInCurrentRole</th>\n",
       "      <th>YearsSinceLastPromotion</th>\n",
       "      <th>YearsWithCurrManager</th>\n",
       "    </tr>\n",
       "  </thead>\n",
       "  <tbody>\n",
       "    <tr>\n",
       "      <th>1231</th>\n",
       "      <td>37</td>\n",
       "      <td>0.0</td>\n",
       "      <td>Travel_Rarely</td>\n",
       "      <td>1239</td>\n",
       "      <td>Human_Resources</td>\n",
       "      <td>8</td>\n",
       "      <td>College</td>\n",
       "      <td>Other</td>\n",
       "      <td>High</td>\n",
       "      <td>Male</td>\n",
       "      <td>...</td>\n",
       "      <td>Excellent</td>\n",
       "      <td>High</td>\n",
       "      <td>0</td>\n",
       "      <td>19</td>\n",
       "      <td>4</td>\n",
       "      <td>Good</td>\n",
       "      <td>10</td>\n",
       "      <td>0</td>\n",
       "      <td>4</td>\n",
       "      <td>7</td>\n",
       "    </tr>\n",
       "    <tr>\n",
       "      <th>715</th>\n",
       "      <td>54</td>\n",
       "      <td>0.0</td>\n",
       "      <td>Travel_Rarely</td>\n",
       "      <td>155</td>\n",
       "      <td>Research_Development</td>\n",
       "      <td>9</td>\n",
       "      <td>College</td>\n",
       "      <td>Life_Sciences</td>\n",
       "      <td>Low</td>\n",
       "      <td>Female</td>\n",
       "      <td>...</td>\n",
       "      <td>Excellent</td>\n",
       "      <td>High</td>\n",
       "      <td>2</td>\n",
       "      <td>9</td>\n",
       "      <td>6</td>\n",
       "      <td>Good</td>\n",
       "      <td>4</td>\n",
       "      <td>3</td>\n",
       "      <td>2</td>\n",
       "      <td>3</td>\n",
       "    </tr>\n",
       "    <tr>\n",
       "      <th>525</th>\n",
       "      <td>34</td>\n",
       "      <td>1.0</td>\n",
       "      <td>Travel_Rarely</td>\n",
       "      <td>699</td>\n",
       "      <td>Research_Development</td>\n",
       "      <td>6</td>\n",
       "      <td>Below_College</td>\n",
       "      <td>Medical</td>\n",
       "      <td>Medium</td>\n",
       "      <td>Male</td>\n",
       "      <td>...</td>\n",
       "      <td>Excellent</td>\n",
       "      <td>High</td>\n",
       "      <td>0</td>\n",
       "      <td>8</td>\n",
       "      <td>2</td>\n",
       "      <td>Better</td>\n",
       "      <td>4</td>\n",
       "      <td>2</td>\n",
       "      <td>1</td>\n",
       "      <td>3</td>\n",
       "    </tr>\n",
       "    <tr>\n",
       "      <th>351</th>\n",
       "      <td>35</td>\n",
       "      <td>0.0</td>\n",
       "      <td>Travel_Rarely</td>\n",
       "      <td>144</td>\n",
       "      <td>Research_Development</td>\n",
       "      <td>22</td>\n",
       "      <td>Bachelor</td>\n",
       "      <td>Life_Sciences</td>\n",
       "      <td>Very_High</td>\n",
       "      <td>Male</td>\n",
       "      <td>...</td>\n",
       "      <td>Excellent</td>\n",
       "      <td>High</td>\n",
       "      <td>0</td>\n",
       "      <td>6</td>\n",
       "      <td>2</td>\n",
       "      <td>Better</td>\n",
       "      <td>5</td>\n",
       "      <td>4</td>\n",
       "      <td>4</td>\n",
       "      <td>3</td>\n",
       "    </tr>\n",
       "    <tr>\n",
       "      <th>540</th>\n",
       "      <td>37</td>\n",
       "      <td>0.0</td>\n",
       "      <td>Travel_Rarely</td>\n",
       "      <td>1192</td>\n",
       "      <td>Research_Development</td>\n",
       "      <td>5</td>\n",
       "      <td>College</td>\n",
       "      <td>Medical</td>\n",
       "      <td>Very_High</td>\n",
       "      <td>Male</td>\n",
       "      <td>...</td>\n",
       "      <td>Excellent</td>\n",
       "      <td>High</td>\n",
       "      <td>2</td>\n",
       "      <td>8</td>\n",
       "      <td>2</td>\n",
       "      <td>Good</td>\n",
       "      <td>6</td>\n",
       "      <td>2</td>\n",
       "      <td>0</td>\n",
       "      <td>4</td>\n",
       "    </tr>\n",
       "    <tr>\n",
       "      <th>...</th>\n",
       "      <td>...</td>\n",
       "      <td>...</td>\n",
       "      <td>...</td>\n",
       "      <td>...</td>\n",
       "      <td>...</td>\n",
       "      <td>...</td>\n",
       "      <td>...</td>\n",
       "      <td>...</td>\n",
       "      <td>...</td>\n",
       "      <td>...</td>\n",
       "      <td>...</td>\n",
       "      <td>...</td>\n",
       "      <td>...</td>\n",
       "      <td>...</td>\n",
       "      <td>...</td>\n",
       "      <td>...</td>\n",
       "      <td>...</td>\n",
       "      <td>...</td>\n",
       "      <td>...</td>\n",
       "      <td>...</td>\n",
       "      <td>...</td>\n",
       "    </tr>\n",
       "    <tr>\n",
       "      <th>703</th>\n",
       "      <td>39</td>\n",
       "      <td>0.0</td>\n",
       "      <td>Non-Travel</td>\n",
       "      <td>792</td>\n",
       "      <td>Research_Development</td>\n",
       "      <td>1</td>\n",
       "      <td>Bachelor</td>\n",
       "      <td>Life_Sciences</td>\n",
       "      <td>Very_High</td>\n",
       "      <td>Male</td>\n",
       "      <td>...</td>\n",
       "      <td>Excellent</td>\n",
       "      <td>Very_High</td>\n",
       "      <td>1</td>\n",
       "      <td>9</td>\n",
       "      <td>2</td>\n",
       "      <td>Better</td>\n",
       "      <td>9</td>\n",
       "      <td>8</td>\n",
       "      <td>5</td>\n",
       "      <td>8</td>\n",
       "    </tr>\n",
       "    <tr>\n",
       "      <th>1302</th>\n",
       "      <td>40</td>\n",
       "      <td>0.0</td>\n",
       "      <td>Travel_Rarely</td>\n",
       "      <td>1416</td>\n",
       "      <td>Research_Development</td>\n",
       "      <td>2</td>\n",
       "      <td>College</td>\n",
       "      <td>Medical</td>\n",
       "      <td>Low</td>\n",
       "      <td>Male</td>\n",
       "      <td>...</td>\n",
       "      <td>Excellent</td>\n",
       "      <td>Very_High</td>\n",
       "      <td>1</td>\n",
       "      <td>22</td>\n",
       "      <td>5</td>\n",
       "      <td>Better</td>\n",
       "      <td>21</td>\n",
       "      <td>7</td>\n",
       "      <td>3</td>\n",
       "      <td>9</td>\n",
       "    </tr>\n",
       "    <tr>\n",
       "      <th>452</th>\n",
       "      <td>43</td>\n",
       "      <td>0.0</td>\n",
       "      <td>Non-Travel</td>\n",
       "      <td>1344</td>\n",
       "      <td>Research_Development</td>\n",
       "      <td>7</td>\n",
       "      <td>Bachelor</td>\n",
       "      <td>Medical</td>\n",
       "      <td>Very_High</td>\n",
       "      <td>Male</td>\n",
       "      <td>...</td>\n",
       "      <td>Excellent</td>\n",
       "      <td>Very_High</td>\n",
       "      <td>3</td>\n",
       "      <td>7</td>\n",
       "      <td>3</td>\n",
       "      <td>Best</td>\n",
       "      <td>5</td>\n",
       "      <td>4</td>\n",
       "      <td>2</td>\n",
       "      <td>2</td>\n",
       "    </tr>\n",
       "    <tr>\n",
       "      <th>855</th>\n",
       "      <td>45</td>\n",
       "      <td>0.0</td>\n",
       "      <td>Travel_Rarely</td>\n",
       "      <td>1448</td>\n",
       "      <td>Research_Development</td>\n",
       "      <td>29</td>\n",
       "      <td>Bachelor</td>\n",
       "      <td>Technical_Degree</td>\n",
       "      <td>Medium</td>\n",
       "      <td>Male</td>\n",
       "      <td>...</td>\n",
       "      <td>Excellent</td>\n",
       "      <td>Very_High</td>\n",
       "      <td>2</td>\n",
       "      <td>10</td>\n",
       "      <td>4</td>\n",
       "      <td>Best</td>\n",
       "      <td>3</td>\n",
       "      <td>1</td>\n",
       "      <td>1</td>\n",
       "      <td>2</td>\n",
       "    </tr>\n",
       "    <tr>\n",
       "      <th>1286</th>\n",
       "      <td>42</td>\n",
       "      <td>0.0</td>\n",
       "      <td>Non-Travel</td>\n",
       "      <td>495</td>\n",
       "      <td>Research_Development</td>\n",
       "      <td>2</td>\n",
       "      <td>Below_College</td>\n",
       "      <td>Life_Sciences</td>\n",
       "      <td>High</td>\n",
       "      <td>Male</td>\n",
       "      <td>...</td>\n",
       "      <td>Excellent</td>\n",
       "      <td>Very_High</td>\n",
       "      <td>0</td>\n",
       "      <td>21</td>\n",
       "      <td>3</td>\n",
       "      <td>Good</td>\n",
       "      <td>20</td>\n",
       "      <td>8</td>\n",
       "      <td>2</td>\n",
       "      <td>10</td>\n",
       "    </tr>\n",
       "  </tbody>\n",
       "</table>\n",
       "<p>734 rows × 31 columns</p>\n",
       "</div>"
      ],
      "text/plain": [
       "      Age  Attrition BusinessTravel  DailyRate            Department  \\\n",
       "1231   37        0.0  Travel_Rarely       1239       Human_Resources   \n",
       "715    54        0.0  Travel_Rarely        155  Research_Development   \n",
       "525    34        1.0  Travel_Rarely        699  Research_Development   \n",
       "351    35        0.0  Travel_Rarely        144  Research_Development   \n",
       "540    37        0.0  Travel_Rarely       1192  Research_Development   \n",
       "...   ...        ...            ...        ...                   ...   \n",
       "703    39        0.0     Non-Travel        792  Research_Development   \n",
       "1302   40        0.0  Travel_Rarely       1416  Research_Development   \n",
       "452    43        0.0     Non-Travel       1344  Research_Development   \n",
       "855    45        0.0  Travel_Rarely       1448  Research_Development   \n",
       "1286   42        0.0     Non-Travel        495  Research_Development   \n",
       "\n",
       "      DistanceFromHome      Education    EducationField  \\\n",
       "1231                 8        College             Other   \n",
       "715                  9        College     Life_Sciences   \n",
       "525                  6  Below_College           Medical   \n",
       "351                 22       Bachelor     Life_Sciences   \n",
       "540                  5        College           Medical   \n",
       "...                ...            ...               ...   \n",
       "703                  1       Bachelor     Life_Sciences   \n",
       "1302                 2        College           Medical   \n",
       "452                  7       Bachelor           Medical   \n",
       "855                 29       Bachelor  Technical_Degree   \n",
       "1286                 2  Below_College     Life_Sciences   \n",
       "\n",
       "     EnvironmentSatisfaction  Gender  ...  PerformanceRating  \\\n",
       "1231                    High    Male  ...          Excellent   \n",
       "715                      Low  Female  ...          Excellent   \n",
       "525                   Medium    Male  ...          Excellent   \n",
       "351                Very_High    Male  ...          Excellent   \n",
       "540                Very_High    Male  ...          Excellent   \n",
       "...                      ...     ...  ...                ...   \n",
       "703                Very_High    Male  ...          Excellent   \n",
       "1302                     Low    Male  ...          Excellent   \n",
       "452                Very_High    Male  ...          Excellent   \n",
       "855                   Medium    Male  ...          Excellent   \n",
       "1286                    High    Male  ...          Excellent   \n",
       "\n",
       "     RelationshipSatisfaction  StockOptionLevel TotalWorkingYears  \\\n",
       "1231                     High                 0                19   \n",
       "715                      High                 2                 9   \n",
       "525                      High                 0                 8   \n",
       "351                      High                 0                 6   \n",
       "540                      High                 2                 8   \n",
       "...                       ...               ...               ...   \n",
       "703                 Very_High                 1                 9   \n",
       "1302                Very_High                 1                22   \n",
       "452                 Very_High                 3                 7   \n",
       "855                 Very_High                 2                10   \n",
       "1286                Very_High                 0                21   \n",
       "\n",
       "     TrainingTimesLastYear WorkLifeBalance  YearsAtCompany  \\\n",
       "1231                     4            Good              10   \n",
       "715                      6            Good               4   \n",
       "525                      2          Better               4   \n",
       "351                      2          Better               5   \n",
       "540                      2            Good               6   \n",
       "...                    ...             ...             ...   \n",
       "703                      2          Better               9   \n",
       "1302                     5          Better              21   \n",
       "452                      3            Best               5   \n",
       "855                      4            Best               3   \n",
       "1286                     3            Good              20   \n",
       "\n",
       "      YearsInCurrentRole  YearsSinceLastPromotion YearsWithCurrManager  \n",
       "1231                   0                        4                    7  \n",
       "715                    3                        2                    3  \n",
       "525                    2                        1                    3  \n",
       "351                    4                        4                    3  \n",
       "540                    2                        0                    4  \n",
       "...                  ...                      ...                  ...  \n",
       "703                    8                        5                    8  \n",
       "1302                   7                        3                    9  \n",
       "452                    4                        2                    2  \n",
       "855                    1                        1                    2  \n",
       "1286                   8                        2                   10  \n",
       "\n",
       "[734 rows x 31 columns]"
      ]
     },
     "execution_count": 76,
     "metadata": {},
     "output_type": "execute_result"
    }
   ],
   "source": [
    "# Perform cluster sampling on the selected group, getting 0.25 of attrition_pop\n",
    "attrition_clust = attrition_clust_prep.groupby('RelationshipSatisfaction').sample(n=len(attrition_pop) // 4,random_state=2022, replace=True)\n",
    "attrition_clust"
   ]
  },
  {
   "cell_type": "markdown",
   "id": "58717021",
   "metadata": {},
   "source": [
    "### Comparing point estimates\n"
   ]
  },
  {
   "cell_type": "code",
   "execution_count": 77,
   "id": "4053cb98",
   "metadata": {},
   "outputs": [
    {
     "data": {
      "text/plain": [
       "RelationshipSatisfaction\n",
       "Low          0.206522\n",
       "Medium       0.148515\n",
       "High         0.154684\n",
       "Very_High    0.148148\n",
       "Name: Attrition, dtype: float64"
      ]
     },
     "execution_count": 77,
     "metadata": {},
     "output_type": "execute_result"
    }
   ],
   "source": [
    "# Mean Attrition by RelationshipSatisfaction group\n",
    "mean_attrition_pop = attrition_pop.groupby('RelationshipSatisfaction')['Attrition'].mean()\n",
    "mean_attrition_pop"
   ]
  },
  {
   "cell_type": "code",
   "execution_count": 78,
   "id": "73541b3c",
   "metadata": {},
   "outputs": [
    {
     "data": {
      "text/plain": [
       "RelationshipSatisfaction\n",
       "Low          0.134328\n",
       "Medium       0.164179\n",
       "High         0.160000\n",
       "Very_High    0.155963\n",
       "Name: Attrition, dtype: float64"
      ]
     },
     "execution_count": 78,
     "metadata": {},
     "output_type": "execute_result"
    }
   ],
   "source": [
    "# Calculate the same thing for the simple random sample \n",
    "mean_attrition_srs = attrition_srs.groupby('RelationshipSatisfaction')['Attrition'].mean()\n",
    "mean_attrition_srs"
   ]
  },
  {
   "cell_type": "code",
   "execution_count": 79,
   "id": "2b6368e2",
   "metadata": {},
   "outputs": [
    {
     "data": {
      "text/plain": [
       "RelationshipSatisfaction\n",
       "Low          0.144928\n",
       "Medium       0.078947\n",
       "High         0.165217\n",
       "Very_High    0.129630\n",
       "Name: Attrition, dtype: float64"
      ]
     },
     "execution_count": 79,
     "metadata": {},
     "output_type": "execute_result"
    }
   ],
   "source": [
    "# Calculate the same thing for the stratified sample \n",
    "mean_attrition_strat = attrition_strat.groupby('RelationshipSatisfaction')['Attrition'].mean()\n",
    "mean_attrition_strat"
   ]
  },
  {
   "cell_type": "code",
   "execution_count": 80,
   "id": "09ddc173",
   "metadata": {},
   "outputs": [
    {
     "data": {
      "text/plain": [
       "RelationshipSatisfaction\n",
       "High         0.158038\n",
       "Very_High    0.147139\n",
       "Name: Attrition, dtype: float64"
      ]
     },
     "execution_count": 80,
     "metadata": {},
     "output_type": "execute_result"
    }
   ],
   "source": [
    "# Calculate the same thing for the cluster sample \n",
    "mean_attrition_clust = attrition_clust.groupby('RelationshipSatisfaction')['Attrition'].mean()\n",
    "mean_attrition_clust"
   ]
  },
  {
   "cell_type": "markdown",
   "id": "cbf10959",
   "metadata": {},
   "source": [
    "> The numbers are all fairly similar, with the notable exception that cluster sampling only gives results for the clusters included in the sample."
   ]
  },
  {
   "cell_type": "markdown",
   "id": "b4227c84",
   "metadata": {},
   "source": [
    "# 3. The n's justify the means\n",
    "## An ample sample\n",
    "\n"
   ]
  },
  {
   "cell_type": "code",
   "execution_count": 81,
   "id": "e3955242",
   "metadata": {},
   "outputs": [
    {
     "data": {
      "text/plain": [
       "82.15120328849018"
      ]
     },
     "execution_count": 81,
     "metadata": {},
     "output_type": "execute_result"
    }
   ],
   "source": [
    "coffee_ratings['total_cup_points'].mean()"
   ]
  },
  {
   "cell_type": "code",
   "execution_count": 82,
   "id": "5e1fc8a5",
   "metadata": {},
   "outputs": [
    {
     "data": {
      "text/plain": [
       "82.74199999999999"
      ]
     },
     "execution_count": 82,
     "metadata": {},
     "output_type": "execute_result"
    }
   ],
   "source": [
    "coffee_ratings.sample(n=10)['total_cup_points'].mean()"
   ]
  },
  {
   "cell_type": "code",
   "execution_count": 83,
   "id": "7daa2e7f",
   "metadata": {},
   "outputs": [
    {
     "data": {
      "text/plain": [
       "81.6226"
      ]
     },
     "execution_count": 83,
     "metadata": {},
     "output_type": "execute_result"
    }
   ],
   "source": [
    "coffee_ratings.sample(n=100)['total_cup_points'].mean()"
   ]
  },
  {
   "cell_type": "code",
   "execution_count": 84,
   "id": "33b46ff8",
   "metadata": {},
   "outputs": [
    {
     "data": {
      "text/plain": [
       "82.11410999999995"
      ]
     },
     "execution_count": 84,
     "metadata": {},
     "output_type": "execute_result"
    }
   ],
   "source": [
    "coffee_ratings.sample(n=1000)['total_cup_points'].mean()"
   ]
  },
  {
   "cell_type": "markdown",
   "id": "e6a1ac08",
   "metadata": {},
   "source": [
    "> In general, larger sample sizes will give us more accurate results.\n",
    "##### Relative error"
   ]
  },
  {
   "cell_type": "code",
   "execution_count": 85,
   "id": "22f23103",
   "metadata": {
    "scrolled": true
   },
   "outputs": [
    {
     "data": {
      "text/plain": [
       "0.028979139144391562"
      ]
     },
     "execution_count": 85,
     "metadata": {},
     "output_type": "execute_result"
    }
   ],
   "source": [
    "pop_mean = coffee_ratings['total_cup_points'].mean()\n",
    "sample_mean = coffee_ratings.sample(n=1000)['total_cup_points'].mean()\n",
    "\n",
    "relative_error = 100 * abs(pop_mean - sample_mean) / pop_mean\n",
    "relative_error"
   ]
  },
  {
   "cell_type": "markdown",
   "id": "54f701c2",
   "metadata": {},
   "source": [
    "### Calculating relative errors\n",
    "\n"
   ]
  },
  {
   "cell_type": "code",
   "execution_count": 86,
   "id": "da700dac",
   "metadata": {},
   "outputs": [],
   "source": [
    "mean_attrition_pop = attrition_pop['Attrition'].mean()"
   ]
  },
  {
   "cell_type": "code",
   "execution_count": 87,
   "id": "9201fb41",
   "metadata": {},
   "outputs": [
    {
     "data": {
      "text/plain": [
       "62.78481012658227"
      ]
     },
     "execution_count": 87,
     "metadata": {},
     "output_type": "execute_result"
    }
   ],
   "source": [
    "# Generate a simple random sample of 50 rows, with seed 2022\n",
    "attrition_srs50 = attrition_pop.sample(n=50, random_state=2022)\n",
    "\n",
    "# Calculate the mean employee attrition in the sample\n",
    "mean_attrition_srs50 = attrition_srs50['Attrition'].mean()\n",
    "\n",
    "# Calculate the relative error percentage\n",
    "rel_error_pct50 = 100 * abs(mean_attrition_pop - mean_attrition_srs50) / mean_attrition_pop\n",
    "\n",
    "# Print rel_error_pct50\n",
    "rel_error_pct50"
   ]
  },
  {
   "cell_type": "code",
   "execution_count": 88,
   "id": "491a5f72",
   "metadata": {},
   "outputs": [
    {
     "data": {
      "text/plain": [
       "6.962025316455695"
      ]
     },
     "execution_count": 88,
     "metadata": {},
     "output_type": "execute_result"
    }
   ],
   "source": [
    "# Generate a simple random sample of 100 rows, with seed 2022\n",
    "attrition_srs100 = attrition_pop.sample(n=100, random_state=2022)\n",
    "\n",
    "# Calculate the mean employee attrition in the sample\n",
    "mean_attrition_srs100 = attrition_srs100['Attrition'].mean()\n",
    "\n",
    "# Calculate the relative error percentage\n",
    "rel_error_pct100 = 100 * abs(mean_attrition_pop - mean_attrition_srs100) / mean_attrition_pop\n",
    "\n",
    "# Print rel_error_pct100\n",
    "rel_error_pct100"
   ]
  },
  {
   "cell_type": "markdown",
   "id": "df14742d",
   "metadata": {},
   "source": [
    "> As you increase the sample size, the sample mean generally gets closer to the population mean, and the relative error decreases.\n",
    "\n",
    "> As you increase the sample size, the relative error decreases quickly at first, then more slowly as it drops to zero."
   ]
  },
  {
   "cell_type": "markdown",
   "id": "58901dda",
   "metadata": {},
   "source": [
    "## Baby back dist-rib-ution\n",
    "##### Same code, 1000 times\n"
   ]
  },
  {
   "cell_type": "code",
   "execution_count": 89,
   "id": "8c939a25",
   "metadata": {},
   "outputs": [
    {
     "data": {
      "text/plain": [
       "[81.71633333333334,\n",
       " 81.89533333333335,\n",
       " 82.08666666666666,\n",
       " 82.58900000000001,\n",
       " 82.48400000000001,\n",
       " 82.24500000000002,\n",
       " 82.01866666666666,\n",
       " 81.641,\n",
       " 82.38866666666667,\n",
       " 82.94333333333334]"
      ]
     },
     "execution_count": 89,
     "metadata": {},
     "output_type": "execute_result"
    }
   ],
   "source": [
    "mean_cup_points_1000 = []\n",
    "for i in range(1000):\n",
    "    mean_cup_points_1000.append(coffee_ratings.sample(30)['total_cup_points'].mean())\n",
    "    \n",
    "mean_cup_points_1000[:10]"
   ]
  },
  {
   "cell_type": "code",
   "execution_count": 90,
   "id": "af7cb747",
   "metadata": {},
   "outputs": [
    {
     "data": {
      "image/png": "[encoded data removed]",
      "text/plain": [
       "<Figure size 432x288 with 1 Axes>"
      ]
     },
     "metadata": {
      "needs_background": "light"
     },
     "output_type": "display_data"
    }
   ],
   "source": [
    "plt.hist(mean_cup_points_1000, bins=30)\n",
    "plt.show()"
   ]
  },
  {
   "cell_type": "code",
   "execution_count": 91,
   "id": "08830815",
   "metadata": {},
   "outputs": [
    {
     "data": {
      "image/png": "[encoded data removed]",
      "text/plain": [
       "<Figure size 432x288 with 1 Axes>"
      ]
     },
     "metadata": {
      "needs_background": "light"
     },
     "output_type": "display_data"
    }
   ],
   "source": [
    "mean_cup_points_1000 = []\n",
    "for i in range(1000):\n",
    "    mean_cup_points_1000.append(coffee_ratings.sample(6)['total_cup_points'].mean())\n",
    "    \n",
    "plt.hist(mean_cup_points_1000, bins=30)\n",
    "plt.show()"
   ]
  },
  {
   "cell_type": "code",
   "execution_count": 92,
   "id": "94df5cb6",
   "metadata": {},
   "outputs": [
    {
     "data": {
      "image/png": "[encoded data removed]",
      "text/plain": [
       "<Figure size 432x288 with 1 Axes>"
      ]
     },
     "metadata": {
      "needs_background": "light"
     },
     "output_type": "display_data"
    }
   ],
   "source": [
    "mean_cup_points_1000 = []\n",
    "for i in range(1000):\n",
    "    mean_cup_points_1000.append(coffee_ratings.sample(150)['total_cup_points'].mean())\n",
    "    \n",
    "plt.hist(mean_cup_points_1000, bins=30)\n",
    "plt.show()"
   ]
  },
  {
   "cell_type": "markdown",
   "id": "4793391e",
   "metadata": {},
   "source": [
    "### Replicating samples\n"
   ]
  },
  {
   "cell_type": "code",
   "execution_count": 93,
   "id": "2f12f51a",
   "metadata": {},
   "outputs": [
    {
     "data": {
      "image/png": "[encoded data removed]",
      "text/plain": [
       "<Figure size 432x288 with 1 Axes>"
      ]
     },
     "metadata": {
      "needs_background": "light"
     },
     "output_type": "display_data"
    }
   ],
   "source": [
    "# Create an empty list\n",
    "mean_attritions = []\n",
    "# Loop 500 times to create 500 sample means\n",
    "for i in range(500):\n",
    "\tmean_attritions.append(\n",
    "    \tattrition_pop.sample(n=60)['Attrition'].mean()\n",
    "\t)\n",
    "\n",
    "# Create a histogram of the 500 sample means\n",
    "plt.hist(mean_attritions, bins=16)\n",
    "plt.show()"
   ]
  },
  {
   "cell_type": "markdown",
   "id": "fecba6de",
   "metadata": {},
   "source": [
    "> By generating the sample statistic many times with different samples, you can quantify the amount of variation in those statistics.\n",
    "\n",
    "> As sample size increases, on average each sample mean has a lower relative error compared to the population mean, thus reducing the range of the distribution.\n",
    "\n",
    "## Be our guess, put our samples to the test\n",
    "\n",
    "#### Simulating the mean of 4 dice rolls\n"
   ]
  },
  {
   "cell_type": "code",
   "execution_count": 94,
   "id": "17ed83e3",
   "metadata": {},
   "outputs": [
    {
     "data": {
      "image/png": "[encoded data removed]",
      "text/plain": [
       "<Figure size 432x288 with 1 Axes>"
      ]
     },
     "metadata": {
      "needs_background": "light"
     },
     "output_type": "display_data"
    }
   ],
   "source": [
    "sample_means_1000 = []\n",
    "for i in range(1000):\n",
    "    sample_means_1000.append(np.random.choice(list(range(1,7)), size=4, replace=True).mean())\n",
    "plt.hist(sample_means_1000, bins=20)\n",
    "plt.show()"
   ]
  },
  {
   "cell_type": "markdown",
   "id": "80b60e3c",
   "metadata": {},
   "source": [
    "### Exact sampling distribution\n"
   ]
  },
  {
   "cell_type": "code",
   "execution_count": 95,
   "id": "6641bf26",
   "metadata": {},
   "outputs": [
    {
     "data": {
      "text/html": [
       "<div>\n",
       "<style scoped>\n",
       "    .dataframe tbody tr th:only-of-type {\n",
       "        vertical-align: middle;\n",
       "    }\n",
       "\n",
       "    .dataframe tbody tr th {\n",
       "        vertical-align: top;\n",
       "    }\n",
       "\n",
       "    .dataframe thead th {\n",
       "        text-align: right;\n",
       "    }\n",
       "</style>\n",
       "<table border=\"1\" class=\"dataframe\">\n",
       "  <thead>\n",
       "    <tr style=\"text-align: right;\">\n",
       "      <th></th>\n",
       "      <th>die1</th>\n",
       "      <th>die2</th>\n",
       "      <th>die3</th>\n",
       "      <th>die4</th>\n",
       "      <th>die5</th>\n",
       "    </tr>\n",
       "  </thead>\n",
       "  <tbody>\n",
       "    <tr>\n",
       "      <th>0</th>\n",
       "      <td>1</td>\n",
       "      <td>1</td>\n",
       "      <td>1</td>\n",
       "      <td>1</td>\n",
       "      <td>1</td>\n",
       "    </tr>\n",
       "    <tr>\n",
       "      <th>1</th>\n",
       "      <td>1</td>\n",
       "      <td>1</td>\n",
       "      <td>1</td>\n",
       "      <td>1</td>\n",
       "      <td>2</td>\n",
       "    </tr>\n",
       "    <tr>\n",
       "      <th>2</th>\n",
       "      <td>1</td>\n",
       "      <td>1</td>\n",
       "      <td>1</td>\n",
       "      <td>1</td>\n",
       "      <td>3</td>\n",
       "    </tr>\n",
       "    <tr>\n",
       "      <th>3</th>\n",
       "      <td>1</td>\n",
       "      <td>1</td>\n",
       "      <td>1</td>\n",
       "      <td>1</td>\n",
       "      <td>4</td>\n",
       "    </tr>\n",
       "    <tr>\n",
       "      <th>4</th>\n",
       "      <td>1</td>\n",
       "      <td>1</td>\n",
       "      <td>1</td>\n",
       "      <td>1</td>\n",
       "      <td>5</td>\n",
       "    </tr>\n",
       "  </tbody>\n",
       "</table>\n",
       "</div>"
      ],
      "text/plain": [
       "   die1  die2  die3  die4  die5\n",
       "0     1     1     1     1     1\n",
       "1     1     1     1     1     2\n",
       "2     1     1     1     1     3\n",
       "3     1     1     1     1     4\n",
       "4     1     1     1     1     5"
      ]
     },
     "execution_count": 95,
     "metadata": {},
     "output_type": "execute_result"
    }
   ],
   "source": [
    "import itertools\n",
    "def expand_grid(data_dict):\n",
    "    rows = itertools.product(*data_dict.values())\n",
    "    return pd.DataFrame.from_records(rows, columns=data_dict.keys())\n",
    "\n",
    "# Expand a grid representing 5 8-sided dice\n",
    "dice = expand_grid(\n",
    "  {'die1': [1, 2, 3, 4, 5, 6, 7, 8],\n",
    "   'die2': [1, 2, 3, 4, 5, 6, 7, 8],\n",
    "   'die3': [1, 2, 3, 4, 5, 6, 7, 8],\n",
    "   'die4': [1, 2, 3, 4, 5, 6, 7, 8],\n",
    "   'die5': [1, 2, 3, 4, 5, 6, 7, 8]\n",
    "  })\n",
    "dice.head()"
   ]
  },
  {
   "cell_type": "code",
   "execution_count": 96,
   "id": "b88c5d2c",
   "metadata": {},
   "outputs": [
    {
     "data": {
      "image/png": "[encoded data removed]",
      "text/plain": [
       "<Figure size 432x288 with 1 Axes>"
      ]
     },
     "metadata": {
      "needs_background": "light"
     },
     "output_type": "display_data"
    }
   ],
   "source": [
    "# Add a column of mean rolls and convert to a categorical\n",
    "dice['mean_roll'] = (dice['die1'] + dice['die2'] + \n",
    "                     dice['die3'] + dice['die4'] + \n",
    "                     dice['die5']) / 5\n",
    "dice['mean_roll'] = dice['mean_roll'].astype('category')\n",
    "\n",
    "# Draw a bar plot of mean_roll\n",
    "dice['mean_roll'].value_counts(sort=False).plot(kind='bar')\n",
    "plt.show()"
   ]
  },
  {
   "cell_type": "markdown",
   "id": "a93494f1",
   "metadata": {},
   "source": [
    "### Approximate sampling distribution\n"
   ]
  },
  {
   "cell_type": "code",
   "execution_count": 97,
   "id": "46d9e3bb",
   "metadata": {},
   "outputs": [
    {
     "data": {
      "text/plain": [
       "4.4"
      ]
     },
     "execution_count": 97,
     "metadata": {},
     "output_type": "execute_result"
    }
   ],
   "source": [
    "# Sample one to eight, five times, with replacement\n",
    "five_rolls = np.random.choice(list(range(1,9)), size=5, replace=True)\n",
    "\n",
    "# Print the mean of five_rolls\n",
    "five_rolls.mean()"
   ]
  },
  {
   "cell_type": "code",
   "execution_count": 98,
   "id": "84fc12c6",
   "metadata": {
    "scrolled": true
   },
   "outputs": [
    {
     "data": {
      "image/png": "[encoded data removed]",
      "text/plain": [
       "<Figure size 432x288 with 1 Axes>"
      ]
     },
     "metadata": {
      "needs_background": "light"
     },
     "output_type": "display_data"
    }
   ],
   "source": [
    "# Replicate the sampling code 1000 times\n",
    "sample_means_1000 = []\n",
    "for i in range(1000):\n",
    "    sample_means_1000.append(\n",
    "  \t\tnp.random.choice(list(range(1, 9)), size=5, replace=True).mean()\n",
    "    )\n",
    "\n",
    "# Draw a histogram of sample_means_1000 with 20 bins\n",
    "plt.hist(sample_means_1000, bins=20)\n",
    "plt.show()"
   ]
  },
  {
   "cell_type": "markdown",
   "id": "eb341ddf",
   "metadata": {},
   "source": [
    "> Once your dataset gets sufficiently big, exact sampling distributions cannot be calculated, so an approximate sampling distribution must be used. Notice that the histogram is close to but not exactly the same as the shape of the bar graph from the previous exercise.\n",
    "\n",
    "> The exact sampling distribution can only be calculated if you know what the population is and if the problems are small and simple enough to compute. Otherwise, the approximate sampling distribution must be used."
   ]
  },
  {
   "cell_type": "markdown",
   "id": "ca68e809",
   "metadata": {},
   "source": [
    "## Err on the side of Gaussian\n",
    "\n",
    "##### Central limit theorem \n",
    "\n",
    "> **Averages of independent samples have approximately normal distributions.**\n",
    "\n",
    "\n",
    "##### Standard error\n",
    "\n",
    "> Standard deviation of the sampling distribution.\n",
    "\n",
    "> Important tool in understanding sampling variability.\n",
    "\n",
    "> The standard deviation of the sampling distribution is approximately equal to the population standard deviation divided by the square root of the sample size.\n",
    "\n",
    "> The amount of variation in the sampling distribution is related to the amount of variation in the population and the sample size.\n"
   ]
  },
  {
   "cell_type": "markdown",
   "id": "ddae758c",
   "metadata": {},
   "source": [
    "# 4. Pull Your Data Up By Its Bootstraps\n",
    "## This bears a striking resample-lance\n",
    "\n"
   ]
  },
  {
   "cell_type": "code",
   "execution_count": 99,
   "id": "6e7042e9",
   "metadata": {},
   "outputs": [
    {
     "data": {
      "text/html": [
       "<div>\n",
       "<style scoped>\n",
       "    .dataframe tbody tr th:only-of-type {\n",
       "        vertical-align: middle;\n",
       "    }\n",
       "\n",
       "    .dataframe tbody tr th {\n",
       "        vertical-align: top;\n",
       "    }\n",
       "\n",
       "    .dataframe thead th {\n",
       "        text-align: right;\n",
       "    }\n",
       "</style>\n",
       "<table border=\"1\" class=\"dataframe\">\n",
       "  <thead>\n",
       "    <tr style=\"text-align: right;\">\n",
       "      <th></th>\n",
       "      <th>index</th>\n",
       "      <th>variety</th>\n",
       "      <th>country_of_origin</th>\n",
       "      <th>flavor</th>\n",
       "    </tr>\n",
       "  </thead>\n",
       "  <tbody>\n",
       "    <tr>\n",
       "      <th>0</th>\n",
       "      <td>0</td>\n",
       "      <td>None</td>\n",
       "      <td>Ethiopia</td>\n",
       "      <td>8.83</td>\n",
       "    </tr>\n",
       "    <tr>\n",
       "      <th>1</th>\n",
       "      <td>1</td>\n",
       "      <td>Other</td>\n",
       "      <td>Ethiopia</td>\n",
       "      <td>8.67</td>\n",
       "    </tr>\n",
       "    <tr>\n",
       "      <th>2</th>\n",
       "      <td>2</td>\n",
       "      <td>Bourbon</td>\n",
       "      <td>Guatemala</td>\n",
       "      <td>8.50</td>\n",
       "    </tr>\n",
       "    <tr>\n",
       "      <th>3</th>\n",
       "      <td>3</td>\n",
       "      <td>None</td>\n",
       "      <td>Ethiopia</td>\n",
       "      <td>8.58</td>\n",
       "    </tr>\n",
       "    <tr>\n",
       "      <th>4</th>\n",
       "      <td>4</td>\n",
       "      <td>Other</td>\n",
       "      <td>Ethiopia</td>\n",
       "      <td>8.50</td>\n",
       "    </tr>\n",
       "  </tbody>\n",
       "</table>\n",
       "</div>"
      ],
      "text/plain": [
       "   index  variety country_of_origin  flavor\n",
       "0      0     None          Ethiopia    8.83\n",
       "1      1    Other          Ethiopia    8.67\n",
       "2      2  Bourbon         Guatemala    8.50\n",
       "3      3     None          Ethiopia    8.58\n",
       "4      4    Other          Ethiopia    8.50"
      ]
     },
     "execution_count": 99,
     "metadata": {},
     "output_type": "execute_result"
    }
   ],
   "source": [
    "coffee_focus = coffee_ratings[['variety', 'country_of_origin', 'flavor']]\n",
    "coffee_focus = coffee_focus.reset_index()\n",
    "coffee_focus.head()"
   ]
  },
  {
   "cell_type": "code",
   "execution_count": 100,
   "id": "7ca260e2",
   "metadata": {},
   "outputs": [
    {
     "data": {
      "text/plain": [
       "(1338, 4)"
      ]
     },
     "execution_count": 100,
     "metadata": {},
     "output_type": "execute_result"
    }
   ],
   "source": [
    "coffee_resample = coffee_focus.sample(frac=1, replace=True)\n",
    "coffee_resample.shape"
   ]
  },
  {
   "cell_type": "code",
   "execution_count": 101,
   "id": "16ce4c1d",
   "metadata": {},
   "outputs": [
    {
     "data": {
      "text/plain": [
       "92      5\n",
       "1187    4\n",
       "131     4\n",
       "493     4\n",
       "460     4\n",
       "       ..\n",
       "721     1\n",
       "983     1\n",
       "54      1\n",
       "446     1\n",
       "1064    1\n",
       "Name: index, Length: 875, dtype: int64"
      ]
     },
     "execution_count": 101,
     "metadata": {},
     "output_type": "execute_result"
    }
   ],
   "source": [
    "coffee_resample['index'].value_counts()"
   ]
  },
  {
   "cell_type": "code",
   "execution_count": 102,
   "id": "059198ba",
   "metadata": {},
   "outputs": [
    {
     "data": {
      "text/plain": [
       "875"
      ]
     },
     "execution_count": 102,
     "metadata": {},
     "output_type": "execute_result"
    }
   ],
   "source": [
    "num_unique_coffees = len(coffee_resample.drop_duplicates(subset='index'))\n",
    "num_unique_coffees"
   ]
  },
  {
   "cell_type": "code",
   "execution_count": 103,
   "id": "678b74db",
   "metadata": {},
   "outputs": [
    {
     "data": {
      "text/plain": [
       "463"
      ]
     },
     "execution_count": 103,
     "metadata": {},
     "output_type": "execute_result"
    }
   ],
   "source": [
    "len(coffee_ratings) - num_unique_coffees"
   ]
  },
  {
   "cell_type": "markdown",
   "id": "8a4864f8",
   "metadata": {},
   "source": [
    "### Bootstrapping\n",
    "\n",
    "The opposite of sampling from a population\n",
    "\n",
    "**Sampling: going from a population to a smaller sample.**\n",
    "\n",
    "**Bootstrapping: Building up a theoretical population from a sample.**\n",
    "\n",
    "* Use case: Develop understanding of sampling variability using a single sample.\n",
    "\n",
    "#### Bootstrapping process\n",
    "1. Make a resample of the same size as the original sample.\n",
    "2. Calculate the statistic of interest for this bootstrap sample.\n",
    "3. Repeat steps 1 and 2 many times.\n",
    "\n",
    "The resulting statistics are boostrap statistics, and they form a boostrap distribution."
   ]
  },
  {
   "cell_type": "code",
   "execution_count": 104,
   "id": "a6bf1484",
   "metadata": {},
   "outputs": [
    {
     "data": {
      "text/plain": [
       "(array([  8.,  46., 140., 261., 271., 187.,  74.,  10.,   1.,   2.]),\n",
       " array([7.48750374, 7.49421824, 7.50093274, 7.50764723, 7.51436173,\n",
       "        7.52107623, 7.52779073, 7.53450523, 7.54121973, 7.54793423,\n",
       "        7.55464873]),\n",
       " <BarContainer object of 10 artists>)"
      ]
     },
     "execution_count": 104,
     "metadata": {},
     "output_type": "execute_result"
    },
    {
     "data": {
      "image/png": "[encoded data removed]",
      "text/plain": [
       "<Figure size 432x288 with 1 Axes>"
      ]
     },
     "metadata": {
      "needs_background": "light"
     },
     "output_type": "display_data"
    }
   ],
   "source": [
    "mean_flavors_1000 = []\n",
    "for i in range(1000):\n",
    "    mean_flavors_1000.append(np.mean(coffee_resample.sample(frac=1, replace=True)['flavor']))\n",
    "plt.hist(mean_flavors_1000)"
   ]
  },
  {
   "cell_type": "markdown",
   "id": "8330586d",
   "metadata": {},
   "source": [
    "> The bootstrapping workflow is to generate a resample of the same size as the population, calculate a summary statistic, then repeat this to get a distribution of summary statistics.\n",
    "\n",
    "> The key to deciding whether to sample without or with replacement is whether or not your dataset is best thought of as being the whole population or not."
   ]
  },
  {
   "cell_type": "markdown",
   "id": "cd05219c",
   "metadata": {},
   "source": [
    "### Generating a bootstrap distribution\n"
   ]
  },
  {
   "cell_type": "code",
   "execution_count": 105,
   "id": "396d2f7a",
   "metadata": {},
   "outputs": [
    {
     "data": {
      "text/plain": [
       "0.5912804397925854"
      ]
     },
     "execution_count": 105,
     "metadata": {},
     "output_type": "execute_result"
    }
   ],
   "source": [
    "spotify_sample = spotify_population.sample(frac=1)\n",
    "\n",
    "# Generate 1 bootstrap resample\n",
    "spotify_1_resample = spotify_sample.sample(frac=1, replace=True)\n",
    "\n",
    "# Calculate mean danceability of resample\n",
    "mean_danceability_1 = spotify_1_resample['danceability'].mean()\n",
    "\n",
    "# Print the result\n",
    "mean_danceability_1"
   ]
  },
  {
   "cell_type": "code",
   "execution_count": 106,
   "id": "91ea148e",
   "metadata": {},
   "outputs": [
    {
     "data": {
      "text/plain": [
       "[0.5911256313616277,\n",
       " 0.5913613981179217,\n",
       " 0.5906513203380106,\n",
       " 0.5908611148453989,\n",
       " 0.5924845088342632,\n",
       " 0.5899941304974055,\n",
       " 0.5903286921451796,\n",
       " 0.5905277270981311,\n",
       " 0.5909466295371599,\n",
       " 0.5910542010754729]"
      ]
     },
     "execution_count": 106,
     "metadata": {},
     "output_type": "execute_result"
    }
   ],
   "source": [
    "# Replicate this 1000 times\n",
    "mean_danceability_1000 = []\n",
    "for i in range(1000):\n",
    "    mean_danceability_1000.append(\n",
    "        np.mean(spotify_sample.sample(frac=1, replace=True)['danceability'])\n",
    "    )\n",
    "# Print the result\n",
    "mean_danceability_1000[:10]"
   ]
  },
  {
   "cell_type": "code",
   "execution_count": 107,
   "id": "63aea528",
   "metadata": {},
   "outputs": [
    {
     "data": {
      "image/png": "[encoded data removed]",
      "text/plain": [
       "<Figure size 432x288 with 1 Axes>"
      ]
     },
     "metadata": {
      "needs_background": "light"
     },
     "output_type": "display_data"
    }
   ],
   "source": [
    "# Draw a histogram of the resample means\n",
    "plt.hist(mean_danceability_1000)\n",
    "plt.show()"
   ]
  },
  {
   "cell_type": "markdown",
   "id": "6c4dc8d0",
   "metadata": {},
   "source": [
    "> From the smaller sample of Spotify songs, we can estimate the mean danceability statistic in the population. Since we have a distribution of statistics, we can even quantify how accurate our estimate is.\n",
    "\n",
    "## A breath of fresh error\n",
    "\n"
   ]
  },
  {
   "cell_type": "code",
   "execution_count": 108,
   "id": "3bdfdcd3",
   "metadata": {},
   "outputs": [],
   "source": [
    "coffee_sample = coffee_ratings.sample(n=5000, replace=True)"
   ]
  },
  {
   "cell_type": "code",
   "execution_count": 109,
   "id": "96dd2ca0",
   "metadata": {},
   "outputs": [],
   "source": [
    "mean_flavors_5000 = []\n",
    "for i in range(5000):\n",
    "    mean_flavors_5000.append(np.mean(coffee_sample.sample(frac=1, replace=True)['flavor']))\n",
    "bootstrap_disn = mean_flavors_5000"
   ]
  },
  {
   "cell_type": "code",
   "execution_count": 110,
   "id": "f1184f73",
   "metadata": {},
   "outputs": [
    {
     "data": {
      "text/plain": [
       "7.5232700000000285"
      ]
     },
     "execution_count": 110,
     "metadata": {},
     "output_type": "execute_result"
    }
   ],
   "source": [
    "coffee_sample['flavor'].mean()"
   ]
  },
  {
   "cell_type": "code",
   "execution_count": 111,
   "id": "c4015166",
   "metadata": {},
   "outputs": [
    {
     "data": {
      "text/plain": [
       "7.523156094800026"
      ]
     },
     "execution_count": 111,
     "metadata": {},
     "output_type": "execute_result"
    }
   ],
   "source": [
    "np.mean(bootstrap_disn)"
   ]
  },
  {
   "cell_type": "code",
   "execution_count": 112,
   "id": "e086a2ef",
   "metadata": {},
   "outputs": [
    {
     "data": {
      "text/plain": [
       "7.526046337817636"
      ]
     },
     "execution_count": 112,
     "metadata": {},
     "output_type": "execute_result"
    }
   ],
   "source": [
    "coffee_ratings['flavor'].mean()"
   ]
  },
  {
   "cell_type": "markdown",
   "id": "ed07a3f7",
   "metadata": {},
   "source": [
    "> **Bootstrap distribution mean:**\n",
    "* Usually close to the sample mean\n",
    "* May not be a good estimate of the population mean\n",
    "\n",
    "**Bootstrapping cannot correct biases from sampling.**"
   ]
  },
  {
   "cell_type": "code",
   "execution_count": 113,
   "id": "43b5dd7c",
   "metadata": {},
   "outputs": [
    {
     "data": {
      "text/plain": [
       "0.3393889863811399"
      ]
     },
     "execution_count": 113,
     "metadata": {},
     "output_type": "execute_result"
    }
   ],
   "source": [
    "coffee_sample['flavor'].std()"
   ]
  },
  {
   "cell_type": "code",
   "execution_count": 114,
   "id": "811932e5",
   "metadata": {},
   "outputs": [
    {
     "data": {
      "text/plain": [
       "0.0048014925669817915"
      ]
     },
     "execution_count": 114,
     "metadata": {},
     "output_type": "execute_result"
    }
   ],
   "source": [
    "standard_error = np.std(bootstrap_disn, ddof=1)\n",
    "standard_error"
   ]
  },
  {
   "cell_type": "markdown",
   "id": "b143a2bd",
   "metadata": {},
   "source": [
    "> **Standard error is the standard deviation of the statistic of interest.**"
   ]
  },
  {
   "cell_type": "code",
   "execution_count": 115,
   "id": "4f01df08",
   "metadata": {},
   "outputs": [
    {
     "data": {
      "text/plain": [
       "0.3395167953929628"
      ]
     },
     "execution_count": 115,
     "metadata": {},
     "output_type": "execute_result"
    }
   ],
   "source": [
    "standard_error * np.sqrt(5000)"
   ]
  },
  {
   "cell_type": "markdown",
   "id": "961244d8",
   "metadata": {},
   "source": [
    "> **Standard error times square root of sample size estimates the population standard deviation.**\n",
    "\n",
    "Should the mean and the standard deviation of the bootstrap distribution both be used to estimate the corresponding values of the population?\n",
    "\n",
    "No, the mean of the bootstrap distribution will always be near the sample mean, which may not necessarily be very close to the population mean.\n",
    "\n",
    "### Sampling distribution vs. bootstrap distribution\n"
   ]
  },
  {
   "cell_type": "code",
   "execution_count": 117,
   "id": "bc75654c",
   "metadata": {},
   "outputs": [
    {
     "name": "stdout",
     "output_type": "stream",
     "text": [
      "[55.888, 54.682, 54.574, 55.142, 54.358, 54.83, 54.604, 54.832, 54.89, 54.578]\n"
     ]
    }
   ],
   "source": [
    "spotify_sample = spotify_population.sample(500)\n",
    "\n",
    "sampling_distribution = []\n",
    "\n",
    "# Generate a sampling distribution of 2000 replicates\n",
    "for i in range(2000):\n",
    "    sampling_distribution.append(\n",
    "    # Sample 500 rows and calculate the mean popularity \n",
    "        spotify_population.sample(n=500)['popularity'].mean())\n",
    "\n",
    "# Print the sampling distribution results\n",
    "print(sampling_distribution[:10])"
   ]
  },
  {
   "cell_type": "code",
   "execution_count": 118,
   "id": "4c3d72c0",
   "metadata": {},
   "outputs": [
    {
     "name": "stdout",
     "output_type": "stream",
     "text": [
      "[54.974, 54.908, 54.642, 54.466, 53.588, 53.49, 54.524, 54.426, 54.418, 55.034]\n"
     ]
    }
   ],
   "source": [
    "bootstrap_distribution = []\n",
    "\n",
    "# Generate a bootstrap distribution of 2000 replicates\n",
    "for i in range(2000):\n",
    "    bootstrap_distribution.append(\n",
    "    \t# Resample 500 rows and calculate the mean popularity     \n",
    "    \tnp.mean(spotify_sample.sample(frac=1, replace=True)['popularity'])\n",
    "    )\n",
    "\n",
    "# Print the bootstrap distribution results\n",
    "print(bootstrap_distribution[:10])"
   ]
  },
  {
   "cell_type": "markdown",
   "id": "33700a16",
   "metadata": {},
   "source": [
    "### Compare sampling and bootstrap means\n"
   ]
  },
  {
   "cell_type": "code",
   "execution_count": 119,
   "id": "cddb373a",
   "metadata": {},
   "outputs": [
    {
     "name": "stdout",
     "output_type": "stream",
     "text": [
      "[54.837142308430955, 54.422, 54.824144999999994, 54.395976]\n"
     ]
    }
   ],
   "source": [
    "# Calculate the population mean popularity\n",
    "pop_mean = spotify_population['popularity'].mean()\n",
    "\n",
    "# Calculate the original sample mean popularity\n",
    "samp_mean = spotify_sample['popularity'].mean()\n",
    "\n",
    "# Calculate the sampling dist'n estimate of mean popularity\n",
    "samp_distn_mean = np.mean(sampling_distribution)\n",
    "\n",
    "# Calculate the bootstrap dist'n estimate of mean popularity\n",
    "boot_distn_mean = np.mean(bootstrap_distribution)\n",
    "\n",
    "# Print the means\n",
    "print([pop_mean, samp_mean, samp_distn_mean, boot_distn_mean])"
   ]
  },
  {
   "cell_type": "markdown",
   "id": "58b7875d",
   "metadata": {},
   "source": [
    "> The sampling distribution mean can be used to estimate the population mean, but that is not the case with the bootstrap distribution.\n",
    "\n",
    "### Compare sampling and bootstrap standard deviations\n"
   ]
  },
  {
   "cell_type": "code",
   "execution_count": 121,
   "id": "c8fd8961",
   "metadata": {},
   "outputs": [
    {
     "name": "stdout",
     "output_type": "stream",
     "text": [
      "[10.880065274257204, 11.118955812337479, 10.854153528115674, 11.09797847696316]\n"
     ]
    }
   ],
   "source": [
    "# Calculate the population std dev popularity\n",
    "pop_sd = spotify_population['popularity'].std(ddof=0)\n",
    "\n",
    "# Calculate the original sample std dev popularity\n",
    "samp_sd = spotify_sample['popularity'].std(ddof=1)\n",
    "\n",
    "# Calculate the sampling dist'n estimate of std dev popularity\n",
    "samp_distn_sd = np.std(sampling_distribution, ddof=1) * np.sqrt(500)\n",
    "\n",
    "# Calculate the bootstrap dist'n estimate of std dev popularity\n",
    "boot_distn_sd = np.std(bootstrap_distribution, ddof=1) * np.sqrt(500)\n",
    "\n",
    "# Print the standard deviations\n",
    "print([pop_sd, samp_sd, samp_distn_sd, boot_distn_sd])"
   ]
  },
  {
   "cell_type": "markdown",
   "id": "0eeccd4c",
   "metadata": {},
   "source": [
    "> The calculation from the bootstrap distribution is the best estimate of the population standard deviation.\n",
    "\n",
    "## Venus infers\n",
    "###### Confidence intervals account for uncertainty in our estimate of a population parameter by providing a range of possible values. We are confident that the true value lies somewhere in the interval specified by that range."
   ]
  },
  {
   "cell_type": "code",
   "execution_count": 122,
   "id": "3e7c2c2f",
   "metadata": {},
   "outputs": [
    {
     "name": "stdout",
     "output_type": "stream",
     "text": [
      "(53.413850000000004, 55.32405)\n"
     ]
    }
   ],
   "source": [
    "# Generate a 95% confidence interval using the quantile method\n",
    "lower_quant = np.quantile(bootstrap_distribution, 0.025)\n",
    "upper_quant = np.quantile(bootstrap_distribution, 0.975)\n",
    "\n",
    "# Print quantile method confidence interval\n",
    "print((lower_quant, upper_quant))"
   ]
  },
  {
   "cell_type": "code",
   "execution_count": 124,
   "id": "5e2d0d8c",
   "metadata": {},
   "outputs": [
    {
     "name": "stdout",
     "output_type": "stream",
     "text": [
      "(53.4232131710108, 55.368738828989194)\n"
     ]
    }
   ],
   "source": [
    "from scipy.stats import norm\n",
    "# Find the mean and std dev of the bootstrap distribution\n",
    "point_estimate = np.mean(bootstrap_distribution)\n",
    "standard_error = np.std(bootstrap_distribution, ddof=1)\n",
    "\n",
    "# Find the lower limit of the confidence interval\n",
    "lower_se = norm.ppf(0.025, loc=point_estimate, scale=standard_error)\n",
    "\n",
    "# Find the upper limit of the confidence interval\n",
    "upper_se = norm.ppf(0.975, loc=point_estimate, scale=standard_error)\n",
    "\n",
    "# Print standard error method confidence interval\n",
    "print((lower_se, upper_se))"
   ]
  },
  {
   "cell_type": "markdown",
   "id": "ab942673",
   "metadata": {},
   "source": [
    "> The standard error method for calculating the confidence interval assumes that the bootstrap distribution is normal. This assumption should hold if the sample size and number of replicates are sufficiently large."
   ]
  }
 ],
 "metadata": {
  "kernelspec": {
   "display_name": "Python 3 (ipykernel)",
   "language": "python",
   "name": "python3"
  },
  "language_info": {
   "codemirror_mode": {
    "name": "ipython",
    "version": 3
   },
   "file_extension": ".py",
   "mimetype": "text/x-python",
   "name": "python",
   "nbconvert_exporter": "python",
   "pygments_lexer": "ipython3",
   "version": "3.9.7"
  }
 },
 "nbformat": 4,
 "nbformat_minor": 5
}
